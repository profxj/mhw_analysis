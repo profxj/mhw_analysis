{
 "cells": [
  {
   "cell_type": "markdown",
   "metadata": {},
   "source": [
    "# Maximum Likelihood on $t_{\\rm dur}$"
   ]
  },
  {
   "cell_type": "markdown",
   "metadata": {},
   "source": [
    "## Following: https://www.jstor.org/stable/pdf/25662336.pdf\n",
    "\n",
    "## Especially for the discrete case"
   ]
  },
  {
   "cell_type": "code",
   "execution_count": 229,
   "metadata": {},
   "outputs": [],
   "source": [
    "# imports\n",
    "import numpy as np\n",
    "from scipy.interpolate import interp1d\n",
    "from scipy import special\n",
    "\n",
    "from matplotlib import pyplot as plt\n",
    "\n",
    "import seaborn as sns\n",
    "\n",
    "from mhw_analysis.systems import io as mhw_sys_io"
   ]
  },
  {
   "cell_type": "markdown",
   "metadata": {},
   "source": [
    "# Load up MHWS"
   ]
  },
  {
   "cell_type": "code",
   "execution_count": 3,
   "metadata": {},
   "outputs": [
    {
     "name": "stdout",
     "output_type": "stream",
     "text": [
      "Loading systems from /data/Projects/Oceanography/MHW/db/MHW_systems_vary.csv\n",
      "Done\n"
     ]
    }
   ],
   "source": [
    "mhw_sys = mhw_sys_io.load_systems(mhw_sys_file=None, vary=True)"
   ]
  },
  {
   "cell_type": "code",
   "execution_count": 7,
   "metadata": {},
   "outputs": [],
   "source": [
    "mhw_sys['duration'] = mhw_sys.zboxmax - mhw_sys.zboxmin + 1 # days"
   ]
  },
  {
   "cell_type": "code",
   "execution_count": 16,
   "metadata": {},
   "outputs": [],
   "source": [
    "N_MHWS = len(mhw_sys)"
   ]
  },
  {
   "cell_type": "markdown",
   "metadata": {},
   "source": [
    "# Histogram"
   ]
  },
  {
   "cell_type": "code",
   "execution_count": 8,
   "metadata": {},
   "outputs": [],
   "source": [
    "bins = np.linspace(0.3, 4.0, 32)\n",
    "if np.log10(np.max(mhw_sys.duration.values)+1) > bins[-1]:\n",
    "    bins[-1] = np.log10(np.max(mhw_sys.duration.values)+1)"
   ]
  },
  {
   "cell_type": "code",
   "execution_count": 10,
   "metadata": {},
   "outputs": [
    {
     "data": {
      "image/png": "[encoded data removed]",
      "text/plain": [
       "<Figure size 432x288 with 1 Axes>"
      ]
     },
     "metadata": {
      "needs_background": "light"
     },
     "output_type": "display_data"
    }
   ],
   "source": [
    "ax = sns.histplot(mhw_sys, x='duration', bins=bins, log_scale=True, color='g')\n",
    "ax.set_yscale('log')"
   ]
  },
  {
   "cell_type": "markdown",
   "metadata": {},
   "source": [
    "# Grid"
   ]
  },
  {
   "cell_type": "code",
   "execution_count": 11,
   "metadata": {},
   "outputs": [],
   "source": [
    "pivot = 10. # days"
   ]
  },
  {
   "cell_type": "code",
   "execution_count": 141,
   "metadata": {},
   "outputs": [],
   "source": [
    "alpha = np.linspace(-4, -2.01, 100)\n",
    "Phi_0 = 10**np.linspace(3., 6., 100)"
   ]
  },
  {
   "cell_type": "code",
   "execution_count": 142,
   "metadata": {},
   "outputs": [],
   "source": [
    "alpha_grid = np.outer(alpha, np.ones_like(Phi_0))\n",
    "Phi_grid = np.outer(np.ones_like(alpha), Phi_0)"
   ]
  },
  {
   "cell_type": "code",
   "execution_count": 144,
   "metadata": {},
   "outputs": [
    {
     "data": {
      "text/plain": [
       "(4, 4063)"
      ]
     },
     "execution_count": 144,
     "metadata": {},
     "output_type": "execute_result"
    }
   ],
   "source": [
    "tmin, tmax = mhw_sys.duration.min(), mhw_sys.duration.max()\n",
    "tmin, tmax"
   ]
  },
  {
   "cell_type": "code",
   "execution_count": 204,
   "metadata": {},
   "outputs": [],
   "source": [
    "# Hard code\n",
    "tmin=4.5"
   ]
  },
  {
   "cell_type": "code",
   "execution_count": 205,
   "metadata": {},
   "outputs": [],
   "source": [
    "gd_sys = mhw_sys.duration >= tmin"
   ]
  },
  {
   "cell_type": "code",
   "execution_count": 206,
   "metadata": {},
   "outputs": [
    {
     "data": {
      "text/plain": [
       "4.5"
      ]
     },
     "execution_count": 206,
     "metadata": {},
     "output_type": "execute_result"
    }
   ],
   "source": [
    "tmin"
   ]
  },
  {
   "cell_type": "markdown",
   "metadata": {},
   "source": [
    "## Normalization\n",
    "\n",
    "## $- \\int_{\\rm min}^{\\rm max} \\Phi(x) dx$"
   ]
  },
  {
   "cell_type": "code",
   "execution_count": 207,
   "metadata": {},
   "outputs": [],
   "source": [
    "norm = pivot * Phi_grid * ((tmax/pivot)**(alpha_grid+1) - (tmin/pivot)**(alpha_grid+1)) / (1+alpha_grid)"
   ]
  },
  {
   "cell_type": "markdown",
   "metadata": {},
   "source": [
    "## Const term\n",
    "\n",
    "## $N_{\\rm sys} \\ln \\Phi_0$"
   ]
  },
  {
   "cell_type": "code",
   "execution_count": 208,
   "metadata": {},
   "outputs": [],
   "source": [
    "const = np.sum(gd_sys) * np.log(Phi_grid)"
   ]
  },
  {
   "cell_type": "markdown",
   "metadata": {},
   "source": [
    "## Inner term\n",
    "\n",
    "## $\\alpha \\Sigma_i \\ln (t_i/pivot)$"
   ]
  },
  {
   "cell_type": "code",
   "execution_count": 209,
   "metadata": {},
   "outputs": [],
   "source": [
    "inner = alpha_grid * np.sum(np.log(mhw_sys[gd_sys].duration.values/pivot))"
   ]
  },
  {
   "cell_type": "markdown",
   "metadata": {},
   "source": [
    "# Likelihood"
   ]
  },
  {
   "cell_type": "code",
   "execution_count": 210,
   "metadata": {},
   "outputs": [],
   "source": [
    "logL = -1*norm + const + inner"
   ]
  },
  {
   "cell_type": "code",
   "execution_count": 211,
   "metadata": {},
   "outputs": [
    {
     "data": {
      "text/plain": [
       "6649709.896339128"
      ]
     },
     "execution_count": 211,
     "metadata": {},
     "output_type": "execute_result"
    }
   ],
   "source": [
    "maxL = logL.max()\n",
    "maxL"
   ]
  },
  {
   "cell_type": "code",
   "execution_count": 212,
   "metadata": {},
   "outputs": [
    {
     "data": {
      "text/plain": [
       "-26685313.378301516"
      ]
     },
     "execution_count": 212,
     "metadata": {},
     "output_type": "execute_result"
    }
   ],
   "source": [
    "logL.min()"
   ]
  },
  {
   "cell_type": "code",
   "execution_count": 213,
   "metadata": {},
   "outputs": [
    {
     "data": {
      "text/plain": [
       "(52, 47)"
      ]
     },
     "execution_count": 213,
     "metadata": {},
     "output_type": "execute_result"
    }
   ],
   "source": [
    "iamx, iPmx = np.unravel_index(logL.argmax(), logL.shape)\n",
    "iamx, iPmx"
   ]
  },
  {
   "cell_type": "code",
   "execution_count": 215,
   "metadata": {},
   "outputs": [
    {
     "data": {
      "text/plain": [
       "(-2.9547474747474745, 37649.35806792471)"
      ]
     },
     "execution_count": 215,
     "metadata": {},
     "output_type": "execute_result"
    }
   ],
   "source": [
    "best_alpha = alpha[iamx]\n",
    "best_Phi = Phi_0[iamx]\n",
    "best_alpha, best_Phi"
   ]
  },
  {
   "cell_type": "markdown",
   "metadata": {},
   "source": [
    "## Some polishing"
   ]
  },
  {
   "cell_type": "code",
   "execution_count": 216,
   "metadata": {},
   "outputs": [],
   "source": [
    "norm_img = logL-logL.max()"
   ]
  },
  {
   "cell_type": "code",
   "execution_count": 217,
   "metadata": {},
   "outputs": [],
   "source": [
    "flat_img = norm_img.flatten()\n",
    "# Sort\n",
    "srt = np.argsort(flat_img)\n",
    "norm_lnL = flat_img[srt]\n",
    "# Sum\n",
    "cumulsum = np.cumsum(np.exp(np.maximum(norm_lnL,-15.)))\n",
    "cumul = cumulsum/cumulsum[-1]\n",
    "# Interpolation (smoothing a bit)\n",
    "fsum = interp1d(cumul, norm_lnL)\n",
    "contours = [0.99,0.95,0.68]\n",
    "clevels=[]\n",
    "clrs = ('r','g','k')\n",
    "for contour in contours:\n",
    "    clevels.append(fsum(1.-contour))\n",
    "# Add the zero contour\n",
    "clevels.append(0.)"
   ]
  },
  {
   "cell_type": "code",
   "execution_count": 218,
   "metadata": {},
   "outputs": [
    {
     "data": {
      "text/plain": [
       "[array(-42.1375703), array(-40.43504221), array(-28.94297758), 0.0]"
      ]
     },
     "execution_count": 218,
     "metadata": {},
     "output_type": "execute_result"
    }
   ],
   "source": [
    "clevels"
   ]
  },
  {
   "cell_type": "markdown",
   "metadata": {},
   "source": [
    "## Plot"
   ]
  },
  {
   "cell_type": "code",
   "execution_count": 219,
   "metadata": {},
   "outputs": [],
   "source": [
    "X,Y = np.meshgrid(np.log10(Phi_0), alpha)"
   ]
  },
  {
   "cell_type": "code",
   "execution_count": 220,
   "metadata": {},
   "outputs": [
    {
     "data": {
      "image/png": "[encoded data removed]",
      "text/plain": [
       "<Figure size 720x720 with 1 Axes>"
      ]
     },
     "metadata": {
      "needs_background": "light"
     },
     "output_type": "display_data"
    }
   ],
   "source": [
    "fig = plt.figure(figsize=(10,10))\n",
    "ax = plt.gca()\n",
    "#img = ax.imshow(logL, origin='lower', vmin=0.)\n",
    "               #extent=(alpha.min(), alpha.max(),\n",
    "               #       Phi_0.min(), Phi_0.max()),\n",
    "               #aspect='equal')\n",
    "CS = ax.contourf(X, Y, norm_img, clevels,\n",
    "                   colors=clrs,\n",
    "                   origin='lower',\n",
    "                   extend='neither')\n",
    "#cb = plt.colorbar(img)\n",
    "#\n",
    "plt.show()"
   ]
  },
  {
   "cell_type": "code",
   "execution_count": 221,
   "metadata": {},
   "outputs": [
    {
     "data": {
      "image/png": "[encoded data removed]",
      "text/plain": [
       "<Figure size 720x720 with 2 Axes>"
      ]
     },
     "metadata": {
      "needs_background": "light"
     },
     "output_type": "display_data"
    }
   ],
   "source": [
    "fig = plt.figure(figsize=(10,10))\n",
    "ax = plt.gca()\n",
    "#img = ax.imshow(-1*norm, origin='lower')#, vmin=0.)\n",
    "\n",
    "img = ax.imshow(logL, origin='lower', vmin=0.)\n",
    "               #extent=(alpha.min(), alpha.max(),\n",
    "               #       Phi_0.min(), Phi_0.max()),\n",
    "               #aspect='equal')\n",
    "#CS = ax.contourf(X, Y, norm_img, clevels,\n",
    "#                   colors=clrs,\n",
    "#                   origin='lower',\n",
    "#                   extend='neither')\n",
    "cb = plt.colorbar(img)\n",
    "#\n",
    "plt.show()"
   ]
  },
  {
   "cell_type": "markdown",
   "metadata": {},
   "source": [
    "## CDF"
   ]
  },
  {
   "cell_type": "markdown",
   "metadata": {},
   "source": [
    "## Fit"
   ]
  },
  {
   "cell_type": "code",
   "execution_count": 222,
   "metadata": {},
   "outputs": [],
   "source": [
    "tval = 10**np.linspace(np.log10(tmin), np.log10(tmax), 200)"
   ]
  },
  {
   "cell_type": "code",
   "execution_count": 223,
   "metadata": {},
   "outputs": [],
   "source": [
    "#best_Phi, best_alpha = 3e4, -3."
   ]
  },
  {
   "cell_type": "code",
   "execution_count": 224,
   "metadata": {},
   "outputs": [],
   "source": [
    "Nsys_cum = pivot * best_Phi *  ((tmax/pivot)**(best_alpha+1) - (\n",
    "    tval/pivot)**(best_alpha+1)) / (1+best_alpha)"
   ]
  },
  {
   "cell_type": "code",
   "execution_count": 225,
   "metadata": {},
   "outputs": [
    {
     "data": {
      "text/plain": [
       "(-2.9547474747474745, 37649.35806792471)"
      ]
     },
     "execution_count": 225,
     "metadata": {},
     "output_type": "execute_result"
    }
   ],
   "source": [
    "best_alpha, best_Phi"
   ]
  },
  {
   "cell_type": "markdown",
   "metadata": {},
   "source": [
    "## Data"
   ]
  },
  {
   "cell_type": "code",
   "execution_count": 226,
   "metadata": {},
   "outputs": [],
   "source": [
    "Nsys_data = []\n",
    "for t in tval:\n",
    "    gd = mhw_sys.duration >= t\n",
    "    Nsys_data.append(np.sum(gd))"
   ]
  },
  {
   "cell_type": "markdown",
   "metadata": {},
   "source": [
    "## Plot"
   ]
  },
  {
   "cell_type": "code",
   "execution_count": 227,
   "metadata": {},
   "outputs": [
    {
     "data": {
      "image/png": "[encoded data removed]",
      "text/plain": [
       "<Figure size 720x720 with 1 Axes>"
      ]
     },
     "metadata": {
      "needs_background": "light"
     },
     "output_type": "display_data"
    }
   ],
   "source": [
    "fig = plt.figure(figsize=(10,10))\n",
    "ax = plt.gca()\n",
    "#\n",
    "ax.plot(tval, Nsys_cum, label='fit')\n",
    "ax.plot(tval, Nsys_data, label='data')\n",
    "#\n",
    "ax.set_xscale('log')\n",
    "ax.set_yscale('log')\n",
    "#\n",
    "ax.legend()\n",
    "#\n",
    "plt.show()"
   ]
  },
  {
   "cell_type": "markdown",
   "metadata": {},
   "source": [
    "## Real CDF"
   ]
  },
  {
   "cell_type": "code",
   "execution_count": 228,
   "metadata": {},
   "outputs": [
    {
     "data": {
      "image/png": "[encoded data removed]",
      "text/plain": [
       "<Figure size 720x720 with 1 Axes>"
      ]
     },
     "metadata": {
      "needs_background": "light"
     },
     "output_type": "display_data"
    }
   ],
   "source": [
    "fig = plt.figure(figsize=(10,10))\n",
    "ax = plt.gca()\n",
    "#\n",
    "ax.plot(tval, 1.-Nsys_cum/Nsys_cum[0], label='fit')\n",
    "ax.plot(tval, 1-Nsys_data/Nsys_data[0], label='data')\n",
    "#\n",
    "ax.set_xscale('log')\n",
    "#ax.set_yscale('log')\n",
    "#\n",
    "#ax.set_ylim(0.01, 1.)\n",
    "ax.legend()\n",
    "#\n",
    "plt.show()"
   ]
  },
  {
   "cell_type": "markdown",
   "metadata": {},
   "source": [
    "----"
   ]
  },
  {
   "cell_type": "markdown",
   "metadata": {},
   "source": [
    "# Power-law exponent only"
   ]
  },
  {
   "cell_type": "code",
   "execution_count": 243,
   "metadata": {},
   "outputs": [],
   "source": [
    "alpha = np.linspace(-4, -2.01, 1000)"
   ]
  },
  {
   "cell_type": "code",
   "execution_count": 244,
   "metadata": {},
   "outputs": [],
   "source": [
    "zeta = special.zeta(-1*alpha, 5)"
   ]
  },
  {
   "cell_type": "code",
   "execution_count": 245,
   "metadata": {},
   "outputs": [],
   "source": [
    "logL_1 = -np.sum(gd_sys) * np.log(zeta) + alpha*np.sum(np.log(mhw_sys[gd_sys].duration.values))"
   ]
  },
  {
   "cell_type": "code",
   "execution_count": 247,
   "metadata": {},
   "outputs": [
    {
     "data": {
      "text/plain": [
       "-2.9661561561561562"
      ]
     },
     "execution_count": 247,
     "metadata": {},
     "output_type": "execute_result"
    }
   ],
   "source": [
    "iamx = np.argmax(logL_1)\n",
    "best_alpha = alpha[iamx]\n",
    "best_alpha"
   ]
  },
  {
   "cell_type": "code",
   "execution_count": 246,
   "metadata": {},
   "outputs": [
    {
     "data": {
      "image/png": "[encoded data removed]",
      "text/plain": [
       "<Figure size 720x720 with 1 Axes>"
      ]
     },
     "metadata": {
      "needs_background": "light"
     },
     "output_type": "display_data"
    }
   ],
   "source": [
    "fig = plt.figure(figsize=(10,10))\n",
    "ax = plt.gca()\n",
    "#\n",
    "ax.plot(alpha, logL_1-logL_1.max(), label='fit')\n",
    "#ax.plot(tval, 1-Nsys_data/Nsys_data[0], label='data')\n",
    "#\n",
    "#ax.set_xscale('log')\n",
    "#ax.set_yscale('log')\n",
    "#\n",
    "#ax.set_ylim(0.01, 1.)\n",
    "#ax.legend()\n",
    "#\n",
    "plt.show()"
   ]
  },
  {
   "cell_type": "code",
   "execution_count": 236,
   "metadata": {},
   "outputs": [],
   "source": [
    "approx = 1 + np.sum(gd_sys)/(np.sum(np.log(mhw_sys[gd_sys].duration/(5-0.5))))"
   ]
  },
  {
   "cell_type": "code",
   "execution_count": 237,
   "metadata": {},
   "outputs": [
    {
     "data": {
      "text/plain": [
       "2.929134829038893"
      ]
     },
     "execution_count": 237,
     "metadata": {},
     "output_type": "execute_result"
    }
   ],
   "source": [
    "approx"
   ]
  },
  {
   "cell_type": "markdown",
   "metadata": {},
   "source": [
    "## Constant"
   ]
  },
  {
   "cell_type": "code",
   "execution_count": 250,
   "metadata": {},
   "outputs": [
    {
     "data": {
      "text/plain": [
       "38.28570348993087"
      ]
     },
     "execution_count": 250,
     "metadata": {},
     "output_type": "execute_result"
    }
   ],
   "source": [
    "C = 1./special.zeta(-1*best_alpha, 5)\n",
    "C"
   ]
  },
  {
   "cell_type": "markdown",
   "metadata": {},
   "source": [
    "## CDF"
   ]
  },
  {
   "cell_type": "code",
   "execution_count": 251,
   "metadata": {},
   "outputs": [],
   "source": [
    "tval = np.arange(5, int(tmax)+1)"
   ]
  },
  {
   "cell_type": "code",
   "execution_count": 259,
   "metadata": {},
   "outputs": [
    {
     "data": {
      "text/plain": [
       "0.9999984377262108"
      ]
     },
     "execution_count": 259,
     "metadata": {},
     "output_type": "execute_result"
    }
   ],
   "source": [
    "Pt_fit = C*tval**(best_alpha)\n",
    "CDF_fit = np.cumsum(Pt_fit)/np.sum(Pt_fit)\n",
    "np.sum(Pt_fit)"
   ]
  },
  {
   "cell_type": "code",
   "execution_count": 260,
   "metadata": {},
   "outputs": [
    {
     "data": {
      "text/plain": [
       "0.32343160076303584"
      ]
     },
     "execution_count": 260,
     "metadata": {},
     "output_type": "execute_result"
    }
   ],
   "source": [
    "Pt_fit[0]"
   ]
  },
  {
   "cell_type": "code",
   "execution_count": 274,
   "metadata": {},
   "outputs": [],
   "source": [
    "xdata, counts = np.unique(mhw_sys[gd_sys].duration.values, return_counts=True)"
   ]
  },
  {
   "cell_type": "code",
   "execution_count": 275,
   "metadata": {},
   "outputs": [],
   "source": [
    "CDF_data = np.cumsum(counts) / np.sum(counts)"
   ]
  },
  {
   "cell_type": "code",
   "execution_count": 257,
   "metadata": {},
   "outputs": [],
   "source": [
    "Nsys_data = []\n",
    "for t in tval:\n",
    "    gd = mhw_sys.duration == t\n",
    "    Nsys_data.append(np.sum(gd))\n",
    "# \n",
    "Nsys_data = np.array(Nsys_data)\n",
    "CDF_data = np.cumsum(Nsys_data)/np.sum(Nsys_data)"
   ]
  },
  {
   "cell_type": "code",
   "execution_count": 262,
   "metadata": {},
   "outputs": [
    {
     "data": {
      "text/plain": [
       "0.3507936388132024"
      ]
     },
     "execution_count": 262,
     "metadata": {},
     "output_type": "execute_result"
    }
   ],
   "source": [
    "np.sum(mhw_sys.duration == 5) / np.sum(gd_sys)"
   ]
  },
  {
   "cell_type": "code",
   "execution_count": 277,
   "metadata": {},
   "outputs": [
    {
     "data": {
      "image/png": "[encoded data removed]",
      "text/plain": [
       "<Figure size 720x720 with 1 Axes>"
      ]
     },
     "metadata": {
      "needs_background": "light"
     },
     "output_type": "display_data"
    }
   ],
   "source": [
    "fig = plt.figure(figsize=(10,10))\n",
    "ax = plt.gca()\n",
    "#\n",
    "ax.plot(tval, CDF_fit, label='fit')\n",
    "ax.plot(xdata, CDF_data, label='data')\n",
    "#\n",
    "ax.set_xscale('log')\n",
    "#ax.set_yscale('log')\n",
    "#\n",
    "ax.set_ylim(0.0, 1.)\n",
    "ax.legend()\n",
    "#\n",
    "plt.show()"
   ]
  },
  {
   "cell_type": "markdown",
   "metadata": {},
   "source": [
    "## Max Area"
   ]
  },
  {
   "cell_type": "code",
   "execution_count": 267,
   "metadata": {},
   "outputs": [
    {
     "data": {
      "text/plain": [
       "1"
      ]
     },
     "execution_count": 267,
     "metadata": {},
     "output_type": "execute_result"
    }
   ],
   "source": [
    "xval = mhw_sys.max_area.values\n",
    "xmin = xval.min()\n",
    "xmin"
   ]
  },
  {
   "cell_type": "code",
   "execution_count": 268,
   "metadata": {},
   "outputs": [],
   "source": [
    "alpha2 = np.linspace(-2, -1.01, 1000)"
   ]
  },
  {
   "cell_type": "code",
   "execution_count": 269,
   "metadata": {},
   "outputs": [],
   "source": [
    "zeta = special.zeta(-1*alpha2, xmin)"
   ]
  },
  {
   "cell_type": "code",
   "execution_count": 270,
   "metadata": {},
   "outputs": [],
   "source": [
    "logL_maxA = -xval.size * np.log(zeta) + alpha2*np.sum(np.log(xval))"
   ]
  },
  {
   "cell_type": "code",
   "execution_count": 271,
   "metadata": {},
   "outputs": [],
   "source": [
    "imaxA = np.argmax(logL_maxA)"
   ]
  },
  {
   "cell_type": "code",
   "execution_count": 272,
   "metadata": {},
   "outputs": [
    {
     "data": {
      "text/plain": [
       "-1.448018018018018"
      ]
     },
     "execution_count": 272,
     "metadata": {},
     "output_type": "execute_result"
    }
   ],
   "source": [
    "alpha2[imaxA]"
   ]
  },
  {
   "cell_type": "code",
   "execution_count": null,
   "metadata": {},
   "outputs": [],
   "source": []
  }
 ],
 "metadata": {
  "kernelspec": {
   "display_name": "Python 3",
   "language": "python",
   "name": "python3"
  },
  "language_info": {
   "codemirror_mode": {
    "name": "ipython",
    "version": 3
   },
   "file_extension": ".py",
   "mimetype": "text/x-python",
   "name": "python",
   "nbconvert_exporter": "python",
   "pygments_lexer": "ipython3",
   "version": "3.8.5"
  }
 },
 "nbformat": 4,
 "nbformat_minor": 4
}
