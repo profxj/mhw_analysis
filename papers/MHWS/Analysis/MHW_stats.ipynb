{
 "cells": [
  {
   "cell_type": "markdown",
   "id": "86a3300d-ade1-44a1-87df-2e02059abe88",
   "metadata": {},
   "source": [
    "# MHWS Stats"
   ]
  },
  {
   "cell_type": "code",
   "execution_count": 23,
   "id": "c0cb16d7-4409-415c-8a82-b351c096c28b",
   "metadata": {},
   "outputs": [],
   "source": [
    "# imports\n",
    "import numpy as np\n",
    "import datetime\n",
    "\n",
    "from mhw_analysis.systems import io as mhw_sys_io\n",
    "import defs"
   ]
  },
  {
   "cell_type": "markdown",
   "id": "7e896862-8ba9-4867-b6a8-1202ac7a84ff",
   "metadata": {},
   "source": [
    "# Load"
   ]
  },
  {
   "cell_type": "code",
   "execution_count": 2,
   "id": "d5672211-07a0-4738-bb9b-13f5d0707a27",
   "metadata": {},
   "outputs": [],
   "source": [
    "vary = True"
   ]
  },
  {
   "cell_type": "code",
   "execution_count": 3,
   "id": "f8854b4c-ad78-4405-b96a-750961fb229b",
   "metadata": {},
   "outputs": [
    {
     "name": "stdout",
     "output_type": "stream",
     "text": [
      "Loading systems from /home/xavier/Projects/Oceanography/MHW/db/MHWS_2019_local.csv\n",
      "Done\n"
     ]
    }
   ],
   "source": [
    "mhw_sys = mhw_sys_io.load_systems(mhw_sys_file=None, vary=vary)"
   ]
  },
  {
   "cell_type": "markdown",
   "id": "1a7fda0b-2288-49ea-8eaa-28c210be70d9",
   "metadata": {},
   "source": [
    "# Stats"
   ]
  },
  {
   "cell_type": "markdown",
   "id": "a0d139ec-5278-4e51-bff3-ecf03d18fbbc",
   "metadata": {},
   "source": [
    "## Number"
   ]
  },
  {
   "cell_type": "code",
   "execution_count": 4,
   "id": "07185e28-7484-4f99-a216-ebf2a65d9382",
   "metadata": {},
   "outputs": [
    {
     "data": {
      "text/plain": [
       "700797"
      ]
     },
     "execution_count": 4,
     "metadata": {},
     "output_type": "execute_result"
    }
   ],
   "source": [
    "len(mhw_sys)"
   ]
  },
  {
   "cell_type": "markdown",
   "id": "d4bf4636-79ff-424a-b392-3b78d8d652e1",
   "metadata": {},
   "source": [
    "## Short duration"
   ]
  },
  {
   "cell_type": "code",
   "execution_count": 8,
   "id": "22679a72-dcf9-41ea-aa18-05fd8c7b507e",
   "metadata": {},
   "outputs": [
    {
     "data": {
      "text/plain": [
       "0         5 days\n",
       "1        35 days\n",
       "2         6 days\n",
       "3         6 days\n",
       "4         5 days\n",
       "           ...  \n",
       "700792   30 days\n",
       "700793   13 days\n",
       "700794    6 days\n",
       "700795   12 days\n",
       "700796    5 days\n",
       "Name: duration, Length: 700797, dtype: timedelta64[ns]"
      ]
     },
     "execution_count": 8,
     "metadata": {},
     "output_type": "execute_result"
    }
   ],
   "source": [
    "mhw_sys.duration"
   ]
  },
  {
   "cell_type": "code",
   "execution_count": 16,
   "id": "da3b053b-181d-4d36-a86a-69fa8ba47df1",
   "metadata": {},
   "outputs": [
    {
     "data": {
      "text/plain": [
       "0.8868174378600365"
      ]
     },
     "execution_count": 16,
     "metadata": {},
     "output_type": "execute_result"
    }
   ],
   "source": [
    "short = mhw_sys.duration < datetime.timedelta(days=15) \n",
    "np.sum(short)/len(mhw_sys)"
   ]
  },
  {
   "cell_type": "code",
   "execution_count": 17,
   "id": "24668c9b-c2dd-4bc4-ae68-eb65737291ff",
   "metadata": {},
   "outputs": [
    {
     "data": {
      "text/plain": [
       "201.0"
      ]
     },
     "execution_count": 17,
     "metadata": {},
     "output_type": "execute_result"
    }
   ],
   "source": [
    "670. * 30/100."
   ]
  },
  {
   "cell_type": "markdown",
   "id": "b7402341-79a2-47c6-baad-3726a2764d0b",
   "metadata": {},
   "source": [
    "## Max Size"
   ]
  },
  {
   "cell_type": "code",
   "execution_count": 18,
   "id": "a67eb6e2-62da-43be-806e-dbf1cdec5a68",
   "metadata": {},
   "outputs": [],
   "source": [
    "Asrt = np.argsort(mhw_sys.max_area)"
   ]
  },
  {
   "cell_type": "code",
   "execution_count": 20,
   "id": "5d81b4fc-f207-4a1d-8c7d-d115227fcb20",
   "metadata": {},
   "outputs": [
    {
     "data": {
      "text/plain": [
       "array([ 9656,  9719,  9790,  9849,  9886,  9926, 10004, 10066, 10287,\n",
       "       10486, 10498, 10535, 10712, 10716, 10802, 11037, 11067, 11171,\n",
       "       11333, 11337, 11458, 11578, 11578, 11785, 11879, 12232, 12304,\n",
       "       12521, 12741, 13289, 13765, 13789, 13853, 14040, 14356, 14426,\n",
       "       14434, 14518, 14915, 15028, 15134, 15229, 15327, 15686, 15746,\n",
       "       15955, 16258, 16779, 16912, 17380, 17498, 17739, 17900, 18496,\n",
       "       19139, 19821, 20383, 20694, 20786, 21050, 21276, 21367, 21461,\n",
       "       22051, 22084, 23150, 23522, 23584, 24147, 24488, 24697, 25041,\n",
       "       25302, 26747, 26849, 29160, 29396, 29508, 29569, 32180, 32354,\n",
       "       32474, 32741, 33055, 33630, 35568, 37730, 38237, 38807, 39201,\n",
       "       42287, 44566, 45847, 47271, 54552, 55347, 59258, 59577, 60843,\n",
       "       65262])"
      ]
     },
     "execution_count": 20,
     "metadata": {},
     "output_type": "execute_result"
    }
   ],
   "source": [
    "mhw_sys.max_area.values[Asrt][-100:]"
   ]
  },
  {
   "cell_type": "code",
   "execution_count": 22,
   "id": "34db5138-1867-48e2-8c1e-5bc4ed8c762b",
   "metadata": {},
   "outputs": [
    {
     "data": {
      "text/plain": [
       "61.237243569579455"
      ]
     },
     "execution_count": 22,
     "metadata": {},
     "output_type": "execute_result"
    }
   ],
   "source": [
    "np.sqrt(60000) * 0.25"
   ]
  },
  {
   "cell_type": "code",
   "execution_count": 24,
   "id": "d2b13d27-a8ef-4256-8f73-5274fb92b0ed",
   "metadata": {},
   "outputs": [
    {
     "data": {
      "text/plain": [
       "151"
      ]
     },
     "execution_count": 24,
     "metadata": {},
     "output_type": "execute_result"
    }
   ],
   "source": [
    "severe = mhw_sys.NVox > defs.type_dict['extreme'][0]\n",
    "np.sum(severe)"
   ]
  },
  {
   "cell_type": "code",
   "execution_count": null,
   "id": "b2aa60a4-d089-4ca0-a95d-b650e823f450",
   "metadata": {},
   "outputs": [],
   "source": []
  }
 ],
 "metadata": {
  "kernelspec": {
   "display_name": "Python 3 (ipykernel)",
   "language": "python",
   "name": "python3"
  },
  "language_info": {
   "codemirror_mode": {
    "name": "ipython",
    "version": 3
   },
   "file_extension": ".py",
   "mimetype": "text/x-python",
   "name": "python",
   "nbconvert_exporter": "python",
   "pygments_lexer": "ipython3",
   "version": "3.9.7"
  }
 },
 "nbformat": 4,
 "nbformat_minor": 5
}
