{
 "cells": [
  {
   "cell_type": "code",
   "execution_count": 5,
   "metadata": {},
   "outputs": [],
   "source": [
    "# imports\n",
    "from importlib import reload\n",
    "import numpy as np\n",
    "import pandas\n",
    "import datetime\n",
    "import sqlalchemy\n",
    "\n",
    "from mhw_analysis.events import utils as mhwe_utils"
   ]
  },
  {
   "cell_type": "markdown",
   "metadata": {},
   "source": [
    "# Testing 123.."
   ]
  },
  {
   "cell_type": "markdown",
   "metadata": {},
   "source": [
    "## mhw_analysis"
   ]
  },
  {
   "cell_type": "code",
   "execution_count": 2,
   "metadata": {},
   "outputs": [],
   "source": [
    "engine = mhwe_utils.db_engine()\n",
    "connection = engine.connect()"
   ]
  },
  {
   "cell_type": "code",
   "execution_count": 7,
   "metadata": {},
   "outputs": [
    {
     "data": {
      "text/html": [
       "<div>\n",
       "<style scoped>\n",
       "    .dataframe tbody tr th:only-of-type {\n",
       "        vertical-align: middle;\n",
       "    }\n",
       "\n",
       "    .dataframe tbody tr th {\n",
       "        vertical-align: top;\n",
       "    }\n",
       "\n",
       "    .dataframe thead th {\n",
       "        text-align: right;\n",
       "    }\n",
       "</style>\n",
       "<table border=\"1\" class=\"dataframe\">\n",
       "  <thead>\n",
       "    <tr style=\"text-align: right;\">\n",
       "      <th></th>\n",
       "      <th>date</th>\n",
       "      <th>lat</th>\n",
       "      <th>lon</th>\n",
       "      <th>ievent</th>\n",
       "      <th>duration</th>\n",
       "      <th>category</th>\n",
       "      <th>time_start</th>\n",
       "    </tr>\n",
       "  </thead>\n",
       "  <tbody>\n",
       "    <tr>\n",
       "      <th>0</th>\n",
       "      <td>1990-01-31</td>\n",
       "      <td>30.125</td>\n",
       "      <td>170.125</td>\n",
       "      <td>9</td>\n",
       "      <td>8</td>\n",
       "      <td>0</td>\n",
       "      <td>726498</td>\n",
       "    </tr>\n",
       "    <tr>\n",
       "      <th>1</th>\n",
       "      <td>1990-03-04</td>\n",
       "      <td>30.125</td>\n",
       "      <td>170.125</td>\n",
       "      <td>10</td>\n",
       "      <td>7</td>\n",
       "      <td>0</td>\n",
       "      <td>726530</td>\n",
       "    </tr>\n",
       "    <tr>\n",
       "      <th>2</th>\n",
       "      <td>1990-08-20</td>\n",
       "      <td>30.125</td>\n",
       "      <td>170.125</td>\n",
       "      <td>11</td>\n",
       "      <td>6</td>\n",
       "      <td>0</td>\n",
       "      <td>726699</td>\n",
       "    </tr>\n",
       "    <tr>\n",
       "      <th>3</th>\n",
       "      <td>1990-01-26</td>\n",
       "      <td>30.375</td>\n",
       "      <td>170.125</td>\n",
       "      <td>14</td>\n",
       "      <td>12</td>\n",
       "      <td>0</td>\n",
       "      <td>726493</td>\n",
       "    </tr>\n",
       "    <tr>\n",
       "      <th>4</th>\n",
       "      <td>1990-08-20</td>\n",
       "      <td>30.375</td>\n",
       "      <td>170.125</td>\n",
       "      <td>15</td>\n",
       "      <td>6</td>\n",
       "      <td>1</td>\n",
       "      <td>726699</td>\n",
       "    </tr>\n",
       "  </tbody>\n",
       "</table>\n",
       "</div>"
      ],
      "text/plain": [
       "        date     lat      lon  ievent  duration  category  time_start\n",
       "0 1990-01-31  30.125  170.125       9         8         0      726498\n",
       "1 1990-03-04  30.125  170.125      10         7         0      726530\n",
       "2 1990-08-20  30.125  170.125      11         6         0      726699\n",
       "3 1990-01-26  30.375  170.125      14        12         0      726493\n",
       "4 1990-08-20  30.375  170.125      15         6         1      726699"
      ]
     },
     "execution_count": 7,
     "metadata": {},
     "output_type": "execute_result"
    }
   ],
   "source": [
    "reload(mhwe_utils)\n",
    "mhw_events = mhwe_utils.query_db(engine, latminx=(30., 40.), lonminx=(170., 180.))\n",
    "mhw_events.head()"
   ]
  },
  {
   "cell_type": "markdown",
   "metadata": {},
   "source": [
    "## Laborious"
   ]
  },
  {
   "cell_type": "code",
   "execution_count": 3,
   "metadata": {},
   "outputs": [],
   "source": [
    "# Connect\n",
    "mhw_file = '/home/xavier/Projects/Oceanography/MHW/db/mhws_allsky_defaults.db'\n",
    "engine = sqlalchemy.create_engine('sqlite:///' + mhw_file)\n",
    "connection = engine.connect()"
   ]
  },
  {
   "cell_type": "code",
   "execution_count": 3,
   "metadata": {},
   "outputs": [
    {
     "data": {
      "text/plain": [
       "MetaData(bind=None)"
      ]
     },
     "execution_count": 3,
     "metadata": {},
     "output_type": "execute_result"
    }
   ],
   "source": [
    "metadata = sqlalchemy.MetaData()\n",
    "metadata"
   ]
  },
  {
   "cell_type": "code",
   "execution_count": 4,
   "metadata": {},
   "outputs": [],
   "source": [
    "mhw_tbl = sqlalchemy.Table('MHW_Events', metadata, autoload=True, autoload_with=engine)"
   ]
  },
  {
   "cell_type": "code",
   "execution_count": 5,
   "metadata": {},
   "outputs": [
    {
     "data": {
      "text/plain": [
       "Table('MHW_Events', MetaData(bind=None), Column('index', BIGINT(), table=<MHW_Events>), Column('time_start', INTEGER(), table=<MHW_Events>), Column('time_end', INTEGER(), table=<MHW_Events>), Column('time_peak', INTEGER(), table=<MHW_Events>), Column('duration', INTEGER(), table=<MHW_Events>), Column('duration_moderate', INTEGER(), table=<MHW_Events>), Column('duration_strong', INTEGER(), table=<MHW_Events>), Column('duration_severe', INTEGER(), table=<MHW_Events>), Column('duration_extreme', INTEGER(), table=<MHW_Events>), Column('category', INTEGER(), table=<MHW_Events>), Column('n_events', INTEGER(), table=<MHW_Events>), Column('ievent', BIGINT(), table=<MHW_Events>), Column('date', DATETIME(), table=<MHW_Events>), Column('lat', FLOAT(), table=<MHW_Events>), Column('lon', FLOAT(), table=<MHW_Events>), Column('intensity_max', FLOAT(), table=<MHW_Events>), Column('intensity_mean', FLOAT(), table=<MHW_Events>), Column('intensity_var', FLOAT(), table=<MHW_Events>), Column('intensity_cumulative', FLOAT(), table=<MHW_Events>), Column('intensity_max_relThresh', FLOAT(), table=<MHW_Events>), Column('intensity_max_abs', FLOAT(), table=<MHW_Events>), Column('intensity_mean_relThresh', FLOAT(), table=<MHW_Events>), Column('intensity_mean_abs', FLOAT(), table=<MHW_Events>), Column('intensity_var_relThresh', FLOAT(), table=<MHW_Events>), Column('intensity_var_abs', FLOAT(), table=<MHW_Events>), Column('intensity_cumulative_relThresh', FLOAT(), table=<MHW_Events>), Column('intensity_cumulative_abs', FLOAT(), table=<MHW_Events>), Column('rate_onset', FLOAT(), table=<MHW_Events>), Column('rate_decline', FLOAT(), table=<MHW_Events>), schema=None)"
      ]
     },
     "execution_count": 5,
     "metadata": {},
     "output_type": "execute_result"
    }
   ],
   "source": [
    "mhw_tbl"
   ]
  },
  {
   "cell_type": "markdown",
   "metadata": {},
   "source": [
    "## Query"
   ]
  },
  {
   "cell_type": "code",
   "execution_count": 6,
   "metadata": {},
   "outputs": [
    {
     "data": {
      "text/plain": [
       "Column('date', DATETIME(), table=<MHW_Events>)"
      ]
     },
     "execution_count": 6,
     "metadata": {},
     "output_type": "execute_result"
    }
   ],
   "source": [
    "mhw_tbl.columns['date']"
   ]
  },
  {
   "cell_type": "code",
   "execution_count": 7,
   "metadata": {},
   "outputs": [
    {
     "data": {
      "text/plain": [
       "Column('date', DATETIME(), table=<MHW_Events>)"
      ]
     },
     "execution_count": 7,
     "metadata": {},
     "output_type": "execute_result"
    }
   ],
   "source": [
    "mhw_tbl.columns.date"
   ]
  },
  {
   "cell_type": "code",
   "execution_count": 8,
   "metadata": {},
   "outputs": [
    {
     "data": {
      "text/plain": [
       "<sqlalchemy.sql.elements.BinaryExpression object at 0x7f99dbe6ec50>"
      ]
     },
     "execution_count": 8,
     "metadata": {},
     "output_type": "execute_result"
    }
   ],
   "source": [
    "mhw_tbl.columns.ievent >= 0"
   ]
  },
  {
   "cell_type": "code",
   "execution_count": 6,
   "metadata": {},
   "outputs": [],
   "source": [
    "query = sqlalchemy.select([mhw_tbl.columns.date, mhw_tbl.columns.lat, mhw_tbl.columns.lon, mhw_tbl.columns.ievent,\n",
    "                          mhw_tbl.columns.duration, mhw_tbl.columns.time_start, mhw_tbl.columns.category,\n",
    "                          ]).where(\n",
    "    mhw_tbl.columns.ievent >= 0)"
   ]
  },
  {
   "cell_type": "code",
   "execution_count": 14,
   "metadata": {},
   "outputs": [
    {
     "data": {
      "text/plain": [
       "datetime.datetime(2019, 12, 1, 0, 0)"
      ]
     },
     "execution_count": 14,
     "metadata": {},
     "output_type": "execute_result"
    }
   ],
   "source": [
    "datetime.datetime.strptime('DEC 01 2019', '%b %d %Y')"
   ]
  },
  {
   "cell_type": "code",
   "execution_count": 17,
   "metadata": {},
   "outputs": [],
   "source": [
    "tmp = (2019, 12, 1)"
   ]
  },
  {
   "cell_type": "code",
   "execution_count": 19,
   "metadata": {},
   "outputs": [
    {
     "data": {
      "text/plain": [
       "datetime.datetime(2019, 12, 1, 0, 0)"
      ]
     },
     "execution_count": 19,
     "metadata": {},
     "output_type": "execute_result"
    }
   ],
   "source": [
    "datetime.datetime(*tmp)"
   ]
  },
  {
   "cell_type": "markdown",
   "metadata": {},
   "source": [
    "## Execute"
   ]
  },
  {
   "cell_type": "code",
   "execution_count": 7,
   "metadata": {},
   "outputs": [],
   "source": [
    "result = connection.execute(query)"
   ]
  },
  {
   "cell_type": "markdown",
   "metadata": {},
   "source": [
    "### Partial"
   ]
  },
  {
   "cell_type": "code",
   "execution_count": 58,
   "metadata": {},
   "outputs": [],
   "source": [
    "partial_results = pandas.DataFrame(result.fetchmany(50), columns=['date', 'lat', 'lon', 'ievent',\n",
    "                                                                 'duration', 'time_start', 'category'])"
   ]
  },
  {
   "cell_type": "code",
   "execution_count": 59,
   "metadata": {},
   "outputs": [
    {
     "data": {
      "text/html": [
       "<div>\n",
       "<style scoped>\n",
       "    .dataframe tbody tr th:only-of-type {\n",
       "        vertical-align: middle;\n",
       "    }\n",
       "\n",
       "    .dataframe tbody tr th {\n",
       "        vertical-align: top;\n",
       "    }\n",
       "\n",
       "    .dataframe thead th {\n",
       "        text-align: right;\n",
       "    }\n",
       "</style>\n",
       "<table border=\"1\" class=\"dataframe\">\n",
       "  <thead>\n",
       "    <tr style=\"text-align: right;\">\n",
       "      <th></th>\n",
       "      <th>date</th>\n",
       "      <th>lat</th>\n",
       "      <th>lon</th>\n",
       "      <th>ievent</th>\n",
       "      <th>duration</th>\n",
       "      <th>time_start</th>\n",
       "      <th>category</th>\n",
       "    </tr>\n",
       "  </thead>\n",
       "  <tbody>\n",
       "    <tr>\n",
       "      <th>0</th>\n",
       "      <td>1992-04-24</td>\n",
       "      <td>-70.375</td>\n",
       "      <td>0.125</td>\n",
       "      <td>28</td>\n",
       "      <td>6</td>\n",
       "      <td>727312</td>\n",
       "      <td>0</td>\n",
       "    </tr>\n",
       "    <tr>\n",
       "      <th>1</th>\n",
       "      <td>1992-05-22</td>\n",
       "      <td>-70.375</td>\n",
       "      <td>0.125</td>\n",
       "      <td>29</td>\n",
       "      <td>37</td>\n",
       "      <td>727340</td>\n",
       "      <td>0</td>\n",
       "    </tr>\n",
       "    <tr>\n",
       "      <th>2</th>\n",
       "      <td>1992-07-14</td>\n",
       "      <td>-70.375</td>\n",
       "      <td>0.125</td>\n",
       "      <td>30</td>\n",
       "      <td>33</td>\n",
       "      <td>727393</td>\n",
       "      <td>0</td>\n",
       "    </tr>\n",
       "    <tr>\n",
       "      <th>3</th>\n",
       "      <td>1992-09-03</td>\n",
       "      <td>-70.375</td>\n",
       "      <td>0.125</td>\n",
       "      <td>31</td>\n",
       "      <td>7</td>\n",
       "      <td>727444</td>\n",
       "      <td>0</td>\n",
       "    </tr>\n",
       "    <tr>\n",
       "      <th>4</th>\n",
       "      <td>1992-09-18</td>\n",
       "      <td>-70.375</td>\n",
       "      <td>0.125</td>\n",
       "      <td>32</td>\n",
       "      <td>95</td>\n",
       "      <td>727459</td>\n",
       "      <td>3</td>\n",
       "    </tr>\n",
       "  </tbody>\n",
       "</table>\n",
       "</div>"
      ],
      "text/plain": [
       "        date     lat    lon  ievent  duration  time_start  category\n",
       "0 1992-04-24 -70.375  0.125      28         6      727312         0\n",
       "1 1992-05-22 -70.375  0.125      29        37      727340         0\n",
       "2 1992-07-14 -70.375  0.125      30        33      727393         0\n",
       "3 1992-09-03 -70.375  0.125      31         7      727444         0\n",
       "4 1992-09-18 -70.375  0.125      32        95      727459         3"
      ]
     },
     "execution_count": 59,
     "metadata": {},
     "output_type": "execute_result"
    }
   ],
   "source": [
    "partial_results.head()"
   ]
  },
  {
   "cell_type": "markdown",
   "metadata": {},
   "source": [
    "### All"
   ]
  },
  {
   "cell_type": "code",
   "execution_count": 8,
   "metadata": {},
   "outputs": [
    {
     "name": "stdout",
     "output_type": "stream",
     "text": [
      "CPU times: user 4min 22s, sys: 18.3 s, total: 4min 40s\n",
      "Wall time: 4min 40s\n"
     ]
    }
   ],
   "source": [
    "%time results = pandas.DataFrame(result.fetchall(),\n",
    "                                columns=['date', 'lat', 'lon', 'ievent',\n",
    "                                        'duration', 'time_start', 'category'])"
   ]
  },
  {
   "cell_type": "code",
   "execution_count": 9,
   "metadata": {},
   "outputs": [
    {
     "data": {
      "text/html": [
       "<div>\n",
       "<style scoped>\n",
       "    .dataframe tbody tr th:only-of-type {\n",
       "        vertical-align: middle;\n",
       "    }\n",
       "\n",
       "    .dataframe tbody tr th {\n",
       "        vertical-align: top;\n",
       "    }\n",
       "\n",
       "    .dataframe thead th {\n",
       "        text-align: right;\n",
       "    }\n",
       "</style>\n",
       "<table border=\"1\" class=\"dataframe\">\n",
       "  <thead>\n",
       "    <tr style=\"text-align: right;\">\n",
       "      <th></th>\n",
       "      <th>0</th>\n",
       "      <th>1</th>\n",
       "      <th>2</th>\n",
       "      <th>3</th>\n",
       "      <th>4</th>\n",
       "      <th>5</th>\n",
       "      <th>6</th>\n",
       "    </tr>\n",
       "  </thead>\n",
       "  <tbody>\n",
       "    <tr>\n",
       "      <th>0</th>\n",
       "      <td>1982-01-01</td>\n",
       "      <td>-71.375</td>\n",
       "      <td>0.125</td>\n",
       "      <td>0</td>\n",
       "      <td>13</td>\n",
       "      <td>723546</td>\n",
       "      <td>2</td>\n",
       "    </tr>\n",
       "    <tr>\n",
       "      <th>1</th>\n",
       "      <td>1982-12-20</td>\n",
       "      <td>-71.375</td>\n",
       "      <td>0.125</td>\n",
       "      <td>1</td>\n",
       "      <td>33</td>\n",
       "      <td>723899</td>\n",
       "      <td>2</td>\n",
       "    </tr>\n",
       "    <tr>\n",
       "      <th>2</th>\n",
       "      <td>1985-01-30</td>\n",
       "      <td>-71.375</td>\n",
       "      <td>0.125</td>\n",
       "      <td>2</td>\n",
       "      <td>10</td>\n",
       "      <td>724671</td>\n",
       "      <td>0</td>\n",
       "    </tr>\n",
       "    <tr>\n",
       "      <th>3</th>\n",
       "      <td>1988-01-10</td>\n",
       "      <td>-71.375</td>\n",
       "      <td>0.125</td>\n",
       "      <td>3</td>\n",
       "      <td>9</td>\n",
       "      <td>725746</td>\n",
       "      <td>0</td>\n",
       "    </tr>\n",
       "    <tr>\n",
       "      <th>4</th>\n",
       "      <td>1991-01-09</td>\n",
       "      <td>-71.375</td>\n",
       "      <td>0.125</td>\n",
       "      <td>4</td>\n",
       "      <td>52</td>\n",
       "      <td>726841</td>\n",
       "      <td>0</td>\n",
       "    </tr>\n",
       "  </tbody>\n",
       "</table>\n",
       "</div>"
      ],
      "text/plain": [
       "           0       1      2  3   4       5  6\n",
       "0 1982-01-01 -71.375  0.125  0  13  723546  2\n",
       "1 1982-12-20 -71.375  0.125  1  33  723899  2\n",
       "2 1985-01-30 -71.375  0.125  2  10  724671  0\n",
       "3 1988-01-10 -71.375  0.125  3   9  725746  0\n",
       "4 1991-01-09 -71.375  0.125  4  52  726841  0"
      ]
     },
     "execution_count": 9,
     "metadata": {},
     "output_type": "execute_result"
    }
   ],
   "source": [
    "results.head()"
   ]
  },
  {
   "cell_type": "code",
   "execution_count": 10,
   "metadata": {},
   "outputs": [
    {
     "data": {
      "text/plain": [
       "57685830"
      ]
     },
     "execution_count": 10,
     "metadata": {},
     "output_type": "execute_result"
    }
   ],
   "source": [
    "len(results)"
   ]
  },
  {
   "cell_type": "code",
   "execution_count": 26,
   "metadata": {},
   "outputs": [
    {
     "data": {
      "text/plain": [
       "RangeIndex(start=0, stop=2, step=1)"
      ]
     },
     "execution_count": 26,
     "metadata": {},
     "output_type": "execute_result"
    }
   ],
   "source": [
    "results.columns"
   ]
  },
  {
   "cell_type": "markdown",
   "metadata": {},
   "source": [
    "----"
   ]
  },
  {
   "cell_type": "markdown",
   "metadata": {},
   "source": [
    "# Full Table"
   ]
  },
  {
   "cell_type": "code",
   "execution_count": 6,
   "metadata": {},
   "outputs": [],
   "source": [
    "mhw_events = pandas.read_sql_table('MHW_Events', con=engine) #, columns=['date', 'lon', 'lat', 'duration', 'ievent', 'time_start', 'index', 'category'])\n",
    "#mhw_events.set_index('date')"
   ]
  },
  {
   "cell_type": "code",
   "execution_count": 7,
   "metadata": {},
   "outputs": [
    {
     "data": {
      "text/plain": [
       "57685830"
      ]
     },
     "execution_count": 7,
     "metadata": {},
     "output_type": "execute_result"
    }
   ],
   "source": [
    "len(mhw_events)"
   ]
  },
  {
   "cell_type": "code",
   "execution_count": 8,
   "metadata": {},
   "outputs": [
    {
     "data": {
      "text/plain": [
       "-78.375"
      ]
     },
     "execution_count": 8,
     "metadata": {},
     "output_type": "execute_result"
    }
   ],
   "source": [
    "np.min(mhw_events['lat'])"
   ]
  },
  {
   "cell_type": "code",
   "execution_count": 9,
   "metadata": {},
   "outputs": [
    {
     "data": {
      "text/html": [
       "<div>\n",
       "<style scoped>\n",
       "    .dataframe tbody tr th:only-of-type {\n",
       "        vertical-align: middle;\n",
       "    }\n",
       "\n",
       "    .dataframe tbody tr th {\n",
       "        vertical-align: top;\n",
       "    }\n",
       "\n",
       "    .dataframe thead th {\n",
       "        text-align: right;\n",
       "    }\n",
       "</style>\n",
       "<table border=\"1\" class=\"dataframe\">\n",
       "  <thead>\n",
       "    <tr style=\"text-align: right;\">\n",
       "      <th></th>\n",
       "      <th>index</th>\n",
       "      <th>time_start</th>\n",
       "      <th>time_end</th>\n",
       "      <th>time_peak</th>\n",
       "      <th>duration</th>\n",
       "      <th>duration_moderate</th>\n",
       "      <th>duration_strong</th>\n",
       "      <th>duration_severe</th>\n",
       "      <th>duration_extreme</th>\n",
       "      <th>category</th>\n",
       "      <th>...</th>\n",
       "      <th>intensity_max_relThresh</th>\n",
       "      <th>intensity_max_abs</th>\n",
       "      <th>intensity_mean_relThresh</th>\n",
       "      <th>intensity_mean_abs</th>\n",
       "      <th>intensity_var_relThresh</th>\n",
       "      <th>intensity_var_abs</th>\n",
       "      <th>intensity_cumulative_relThresh</th>\n",
       "      <th>intensity_cumulative_abs</th>\n",
       "      <th>rate_onset</th>\n",
       "      <th>rate_decline</th>\n",
       "    </tr>\n",
       "  </thead>\n",
       "  <tbody>\n",
       "    <tr>\n",
       "      <th>0</th>\n",
       "      <td>0</td>\n",
       "      <td>723546</td>\n",
       "      <td>723558</td>\n",
       "      <td>723552</td>\n",
       "      <td>13</td>\n",
       "      <td>1</td>\n",
       "      <td>7</td>\n",
       "      <td>5</td>\n",
       "      <td>0</td>\n",
       "      <td>2</td>\n",
       "      <td>...</td>\n",
       "      <td>0.649290</td>\n",
       "      <td>-0.20</td>\n",
       "      <td>0.466228</td>\n",
       "      <td>-0.383077</td>\n",
       "      <td>0.135821</td>\n",
       "      <td>0.120153</td>\n",
       "      <td>6.060967</td>\n",
       "      <td>-4.980000</td>\n",
       "      <td>0.026651</td>\n",
       "      <td>0.091177</td>\n",
       "    </tr>\n",
       "    <tr>\n",
       "      <th>1</th>\n",
       "      <td>1</td>\n",
       "      <td>723899</td>\n",
       "      <td>723931</td>\n",
       "      <td>723901</td>\n",
       "      <td>33</td>\n",
       "      <td>14</td>\n",
       "      <td>18</td>\n",
       "      <td>1</td>\n",
       "      <td>0</td>\n",
       "      <td>2</td>\n",
       "      <td>...</td>\n",
       "      <td>0.590032</td>\n",
       "      <td>-0.36</td>\n",
       "      <td>0.316166</td>\n",
       "      <td>-0.546061</td>\n",
       "      <td>0.150839</td>\n",
       "      <td>0.145121</td>\n",
       "      <td>10.433483</td>\n",
       "      <td>-18.019997</td>\n",
       "      <td>0.281878</td>\n",
       "      <td>0.020300</td>\n",
       "    </tr>\n",
       "    <tr>\n",
       "      <th>2</th>\n",
       "      <td>2</td>\n",
       "      <td>724671</td>\n",
       "      <td>724680</td>\n",
       "      <td>724677</td>\n",
       "      <td>10</td>\n",
       "      <td>10</td>\n",
       "      <td>0</td>\n",
       "      <td>0</td>\n",
       "      <td>0</td>\n",
       "      <td>0</td>\n",
       "      <td>...</td>\n",
       "      <td>0.073226</td>\n",
       "      <td>-0.70</td>\n",
       "      <td>0.046994</td>\n",
       "      <td>-0.724000</td>\n",
       "      <td>0.022049</td>\n",
       "      <td>0.022891</td>\n",
       "      <td>0.469935</td>\n",
       "      <td>-7.239999</td>\n",
       "      <td>0.010766</td>\n",
       "      <td>0.019172</td>\n",
       "    </tr>\n",
       "    <tr>\n",
       "      <th>3</th>\n",
       "      <td>3</td>\n",
       "      <td>725746</td>\n",
       "      <td>725754</td>\n",
       "      <td>725752</td>\n",
       "      <td>9</td>\n",
       "      <td>9</td>\n",
       "      <td>0</td>\n",
       "      <td>0</td>\n",
       "      <td>0</td>\n",
       "      <td>0</td>\n",
       "      <td>...</td>\n",
       "      <td>0.082419</td>\n",
       "      <td>-0.71</td>\n",
       "      <td>0.046864</td>\n",
       "      <td>-0.758889</td>\n",
       "      <td>0.022717</td>\n",
       "      <td>0.033811</td>\n",
       "      <td>0.421774</td>\n",
       "      <td>-6.830000</td>\n",
       "      <td>0.014714</td>\n",
       "      <td>0.027270</td>\n",
       "    </tr>\n",
       "    <tr>\n",
       "      <th>4</th>\n",
       "      <td>4</td>\n",
       "      <td>726841</td>\n",
       "      <td>726892</td>\n",
       "      <td>726858</td>\n",
       "      <td>52</td>\n",
       "      <td>52</td>\n",
       "      <td>0</td>\n",
       "      <td>0</td>\n",
       "      <td>0</td>\n",
       "      <td>0</td>\n",
       "      <td>...</td>\n",
       "      <td>0.252129</td>\n",
       "      <td>-0.51</td>\n",
       "      <td>0.101606</td>\n",
       "      <td>-0.698269</td>\n",
       "      <td>0.070642</td>\n",
       "      <td>0.099087</td>\n",
       "      <td>5.283517</td>\n",
       "      <td>-36.310009</td>\n",
       "      <td>0.015743</td>\n",
       "      <td>0.006539</td>\n",
       "    </tr>\n",
       "  </tbody>\n",
       "</table>\n",
       "<p>5 rows × 29 columns</p>\n",
       "</div>"
      ],
      "text/plain": [
       "   index  time_start  time_end  time_peak  duration  duration_moderate  \\\n",
       "0      0      723546    723558     723552        13                  1   \n",
       "1      1      723899    723931     723901        33                 14   \n",
       "2      2      724671    724680     724677        10                 10   \n",
       "3      3      725746    725754     725752         9                  9   \n",
       "4      4      726841    726892     726858        52                 52   \n",
       "\n",
       "   duration_strong  duration_severe  duration_extreme  category  ...  \\\n",
       "0                7                5                 0         2  ...   \n",
       "1               18                1                 0         2  ...   \n",
       "2                0                0                 0         0  ...   \n",
       "3                0                0                 0         0  ...   \n",
       "4                0                0                 0         0  ...   \n",
       "\n",
       "   intensity_max_relThresh  intensity_max_abs intensity_mean_relThresh  \\\n",
       "0                 0.649290              -0.20                 0.466228   \n",
       "1                 0.590032              -0.36                 0.316166   \n",
       "2                 0.073226              -0.70                 0.046994   \n",
       "3                 0.082419              -0.71                 0.046864   \n",
       "4                 0.252129              -0.51                 0.101606   \n",
       "\n",
       "   intensity_mean_abs  intensity_var_relThresh  intensity_var_abs  \\\n",
       "0           -0.383077                 0.135821           0.120153   \n",
       "1           -0.546061                 0.150839           0.145121   \n",
       "2           -0.724000                 0.022049           0.022891   \n",
       "3           -0.758889                 0.022717           0.033811   \n",
       "4           -0.698269                 0.070642           0.099087   \n",
       "\n",
       "   intensity_cumulative_relThresh  intensity_cumulative_abs  rate_onset  \\\n",
       "0                        6.060967                 -4.980000    0.026651   \n",
       "1                       10.433483                -18.019997    0.281878   \n",
       "2                        0.469935                 -7.239999    0.010766   \n",
       "3                        0.421774                 -6.830000    0.014714   \n",
       "4                        5.283517                -36.310009    0.015743   \n",
       "\n",
       "   rate_decline  \n",
       "0      0.091177  \n",
       "1      0.020300  \n",
       "2      0.019172  \n",
       "3      0.027270  \n",
       "4      0.006539  \n",
       "\n",
       "[5 rows x 29 columns]"
      ]
     },
     "execution_count": 9,
     "metadata": {},
     "output_type": "execute_result"
    }
   ],
   "source": [
    "mhw_events.head()"
   ]
  },
  {
   "cell_type": "code",
   "execution_count": 17,
   "metadata": {},
   "outputs": [
    {
     "data": {
      "text/plain": [
       "0"
      ]
     },
     "execution_count": 17,
     "metadata": {},
     "output_type": "execute_result"
    }
   ],
   "source": [
    "np.min(mhw_events.ievent)"
   ]
  },
  {
   "cell_type": "markdown",
   "metadata": {},
   "source": [
    "## Write to HDF"
   ]
  },
  {
   "cell_type": "code",
   "execution_count": 10,
   "metadata": {},
   "outputs": [],
   "source": [
    "mhw_events.to_hdf('mhw_events.hdf', 'MHW_Events', mode='w')"
   ]
  },
  {
   "cell_type": "code",
   "execution_count": null,
   "metadata": {},
   "outputs": [],
   "source": []
  }
 ],
 "metadata": {
  "kernelspec": {
   "display_name": "Python 3",
   "language": "python",
   "name": "python3"
  },
  "language_info": {
   "codemirror_mode": {
    "name": "ipython",
    "version": 3
   },
   "file_extension": ".py",
   "mimetype": "text/x-python",
   "name": "python",
   "nbconvert_exporter": "python",
   "pygments_lexer": "ipython3",
   "version": "3.7.6"
  }
 },
 "nbformat": 4,
 "nbformat_minor": 4
}
