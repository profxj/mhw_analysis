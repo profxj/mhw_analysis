{
 "cells": [
  {
   "cell_type": "markdown",
   "id": "d2ac41a3",
   "metadata": {},
   "source": [
    "# Count MHWEs"
   ]
  },
  {
   "cell_type": "code",
   "execution_count": 1,
   "id": "47116022",
   "metadata": {},
   "outputs": [],
   "source": [
    "# imports\n",
    "import os\n",
    "import numpy as np\n",
    "import datetime\n",
    "\n",
    "import pandas\n",
    "\n",
    "from oceanpy.sst import utils as sst_utils\n",
    "\n",
    "from mhw_analysis.systems import io as mhw_sys_io"
   ]
  },
  {
   "cell_type": "markdown",
   "id": "cdaffd01",
   "metadata": {},
   "source": [
    "# Load up MHWS"
   ]
  },
  {
   "cell_type": "code",
   "execution_count": 2,
   "id": "bcdf124f",
   "metadata": {},
   "outputs": [
    {
     "name": "stdout",
     "output_type": "stream",
     "text": [
      "Loading systems from /data/Projects/Oceanography/MHW/db/MHWS_2019.csv\n",
      "Done\n"
     ]
    }
   ],
   "source": [
    "#mask_Id=1475052 # 2019, local\n",
    "#vary=True\n",
    "mask_Id = 1458524 # 2019\n",
    "vary=False\n",
    "mhw_sys_file= os.path.join(os.getenv('MHW'), 'db', 'MHWS_2019.csv')\n",
    "mask_file=os.path.join(os.getenv('MHW'), 'db', 'MHWS_2019_mask.nc')\n",
    "\n",
    "# Load MHW Systems\n",
    "mhw_sys = mhw_sys_io.load_systems(mhw_sys_file=mhw_sys_file, \n",
    "                                      vary=vary)"
   ]
  },
  {
   "cell_type": "code",
   "execution_count": 3,
   "id": "124d403b",
   "metadata": {},
   "outputs": [
    {
     "name": "stdout",
     "output_type": "stream",
     "text": [
      "Loading mask from system: \n",
      " Id                                 414252\n",
      "NVox                               752073\n",
      "NVox_km                       516746800.0\n",
      "category                                2\n",
      "mask_Id                           1458524\n",
      "max_area                             9086\n",
      "max_area_km                     6500934.0\n",
      "xcen                            464.78653\n",
      "xboxmin                               390\n",
      "xboxmax                               556\n",
      "ycen                            867.93195\n",
      "yboxmin                               611\n",
      "yboxmax                              1018\n",
      "zcen                            5177.9043\n",
      "zboxmin                              5046\n",
      "zboxmax                              5352\n",
      "date                           1996-03-05\n",
      "lat                             26.321632\n",
      "lon                            217.107986\n",
      "duration                307 days 00:00:00\n",
      "datetime              1996-03-05 00:00:00\n",
      "startdate      1995-10-25 02:17:48.480000\n",
      "enddate        1996-08-27 02:17:48.480000\n",
      "Name: 414251, dtype: object\n",
      "Loading mask from /data/Projects/Oceanography/MHW/db/MHWS_2019_mask.nc\n"
     ]
    }
   ],
   "source": [
    "idx = np.where(mhw_sys.mask_Id == mask_Id)[0][0]\n",
    "isys = mhw_sys.iloc[idx]\n",
    "sys_startdate = isys.datetime - datetime.timedelta(days=int(isys.zcen)-int(isys.zboxmin))\n",
    "\n",
    "# Grab the mask\n",
    "mask_da = mhw_sys_io.load_mask_from_system(isys, vary=vary, mhw_mask_file=mask_file)"
   ]
  },
  {
   "cell_type": "code",
   "execution_count": 4,
   "id": "008a1563",
   "metadata": {},
   "outputs": [
    {
     "data": {
      "text/plain": [
       "(720, 1440, 307)"
      ]
     },
     "execution_count": 4,
     "metadata": {},
     "output_type": "execute_result"
    }
   ],
   "source": [
    "mask_da.shape"
   ]
  },
  {
   "cell_type": "markdown",
   "id": "dca98f95",
   "metadata": {},
   "source": [
    "## Find spatial boundaries"
   ]
  },
  {
   "cell_type": "code",
   "execution_count": 5,
   "id": "b89c7d13",
   "metadata": {},
   "outputs": [],
   "source": [
    "lat_coord, lon_coord = sst_utils.noaa_oi_coords()"
   ]
  },
  {
   "cell_type": "code",
   "execution_count": 6,
   "id": "39027511",
   "metadata": {},
   "outputs": [
    {
     "data": {
      "text/plain": [
       "(7.625, 49.125)"
      ]
     },
     "execution_count": 6,
     "metadata": {},
     "output_type": "execute_result"
    }
   ],
   "source": [
    "lat_min, lat_max = lat_coord[isys.xboxmin], lat_coord[isys.xboxmax]\n",
    "lat_min, lat_max"
   ]
  },
  {
   "cell_type": "code",
   "execution_count": 7,
   "id": "bb10839f",
   "metadata": {},
   "outputs": [
    {
     "data": {
      "text/plain": [
       "(152.875, 254.625)"
      ]
     },
     "execution_count": 7,
     "metadata": {},
     "output_type": "execute_result"
    }
   ],
   "source": [
    "lon_min, lon_max = lon_coord[isys.yboxmin], lon_coord[isys.yboxmax]\n",
    "lon_min, lon_max"
   ]
  },
  {
   "cell_type": "markdown",
   "id": "0ae0e8f5",
   "metadata": {},
   "source": [
    "# MHWEs"
   ]
  },
  {
   "cell_type": "markdown",
   "id": "36492704",
   "metadata": {},
   "source": [
    "## Load"
   ]
  },
  {
   "cell_type": "code",
   "execution_count": 8,
   "id": "838fb8ab",
   "metadata": {},
   "outputs": [],
   "source": [
    "mhwe_file = os.path.join(os.getenv('MHW'), 'db', 'mhw_events_allsky_2019_local.parquet')"
   ]
  },
  {
   "cell_type": "code",
   "execution_count": 9,
   "id": "e71b7a13",
   "metadata": {},
   "outputs": [],
   "source": [
    "mhwe = pandas.read_parquet(mhwe_file)"
   ]
  },
  {
   "cell_type": "code",
   "execution_count": 10,
   "id": "970ec6de",
   "metadata": {},
   "outputs": [
    {
     "data": {
      "text/html": [
       "<div>\n",
       "<style scoped>\n",
       "    .dataframe tbody tr th:only-of-type {\n",
       "        vertical-align: middle;\n",
       "    }\n",
       "\n",
       "    .dataframe tbody tr th {\n",
       "        vertical-align: top;\n",
       "    }\n",
       "\n",
       "    .dataframe thead th {\n",
       "        text-align: right;\n",
       "    }\n",
       "</style>\n",
       "<table border=\"1\" class=\"dataframe\">\n",
       "  <thead>\n",
       "    <tr style=\"text-align: right;\">\n",
       "      <th></th>\n",
       "      <th>index</th>\n",
       "      <th>time_start</th>\n",
       "      <th>time_end</th>\n",
       "      <th>time_peak</th>\n",
       "      <th>duration</th>\n",
       "      <th>duration_moderate</th>\n",
       "      <th>duration_strong</th>\n",
       "      <th>duration_severe</th>\n",
       "      <th>duration_extreme</th>\n",
       "      <th>category</th>\n",
       "      <th>...</th>\n",
       "      <th>intensity_max_relThresh</th>\n",
       "      <th>intensity_max_abs</th>\n",
       "      <th>intensity_mean_relThresh</th>\n",
       "      <th>intensity_mean_abs</th>\n",
       "      <th>intensity_var_relThresh</th>\n",
       "      <th>intensity_var_abs</th>\n",
       "      <th>intensity_cumulative_relThresh</th>\n",
       "      <th>intensity_cumulative_abs</th>\n",
       "      <th>rate_onset</th>\n",
       "      <th>rate_decline</th>\n",
       "    </tr>\n",
       "  </thead>\n",
       "  <tbody>\n",
       "    <tr>\n",
       "      <th>0</th>\n",
       "      <td>0</td>\n",
       "      <td>723911</td>\n",
       "      <td>723931</td>\n",
       "      <td>723924</td>\n",
       "      <td>21</td>\n",
       "      <td>14</td>\n",
       "      <td>7</td>\n",
       "      <td>0</td>\n",
       "      <td>0</td>\n",
       "      <td>1</td>\n",
       "      <td>...</td>\n",
       "      <td>0.433648</td>\n",
       "      <td>-0.457613</td>\n",
       "      <td>0.217017</td>\n",
       "      <td>-0.696718</td>\n",
       "      <td>0.124336</td>\n",
       "      <td>0.144548</td>\n",
       "      <td>4.557350</td>\n",
       "      <td>-14.631067</td>\n",
       "      <td>0.014541</td>\n",
       "      <td>0.066994</td>\n",
       "    </tr>\n",
       "    <tr>\n",
       "      <th>1</th>\n",
       "      <td>1</td>\n",
       "      <td>725746</td>\n",
       "      <td>725754</td>\n",
       "      <td>725752</td>\n",
       "      <td>9</td>\n",
       "      <td>9</td>\n",
       "      <td>0</td>\n",
       "      <td>0</td>\n",
       "      <td>0</td>\n",
       "      <td>0</td>\n",
       "      <td>...</td>\n",
       "      <td>0.074059</td>\n",
       "      <td>-0.803030</td>\n",
       "      <td>0.040143</td>\n",
       "      <td>-0.851957</td>\n",
       "      <td>0.021723</td>\n",
       "      <td>0.033850</td>\n",
       "      <td>0.361283</td>\n",
       "      <td>-7.667612</td>\n",
       "      <td>0.015423</td>\n",
       "      <td>0.027143</td>\n",
       "    </tr>\n",
       "    <tr>\n",
       "      <th>2</th>\n",
       "      <td>2</td>\n",
       "      <td>726840</td>\n",
       "      <td>726890</td>\n",
       "      <td>726857</td>\n",
       "      <td>51</td>\n",
       "      <td>51</td>\n",
       "      <td>0</td>\n",
       "      <td>0</td>\n",
       "      <td>0</td>\n",
       "      <td>0</td>\n",
       "      <td>...</td>\n",
       "      <td>0.259864</td>\n",
       "      <td>-0.582125</td>\n",
       "      <td>0.098204</td>\n",
       "      <td>-0.766680</td>\n",
       "      <td>0.073886</td>\n",
       "      <td>0.096659</td>\n",
       "      <td>5.008395</td>\n",
       "      <td>-39.100677</td>\n",
       "      <td>0.017261</td>\n",
       "      <td>0.006991</td>\n",
       "    </tr>\n",
       "    <tr>\n",
       "      <th>3</th>\n",
       "      <td>3</td>\n",
       "      <td>727139</td>\n",
       "      <td>727277</td>\n",
       "      <td>727210</td>\n",
       "      <td>139</td>\n",
       "      <td>39</td>\n",
       "      <td>46</td>\n",
       "      <td>8</td>\n",
       "      <td>46</td>\n",
       "      <td>3</td>\n",
       "      <td>...</td>\n",
       "      <td>1.723271</td>\n",
       "      <td>0.824553</td>\n",
       "      <td>0.597275</td>\n",
       "      <td>-0.426060</td>\n",
       "      <td>0.540468</td>\n",
       "      <td>0.667796</td>\n",
       "      <td>83.021271</td>\n",
       "      <td>-59.222404</td>\n",
       "      <td>0.026428</td>\n",
       "      <td>0.025159</td>\n",
       "    </tr>\n",
       "    <tr>\n",
       "      <th>4</th>\n",
       "      <td>4</td>\n",
       "      <td>727493</td>\n",
       "      <td>727577</td>\n",
       "      <td>727556</td>\n",
       "      <td>85</td>\n",
       "      <td>35</td>\n",
       "      <td>37</td>\n",
       "      <td>13</td>\n",
       "      <td>0</td>\n",
       "      <td>2</td>\n",
       "      <td>...</td>\n",
       "      <td>0.345204</td>\n",
       "      <td>-0.678901</td>\n",
       "      <td>0.173176</td>\n",
       "      <td>-1.002005</td>\n",
       "      <td>0.081395</td>\n",
       "      <td>0.198490</td>\n",
       "      <td>14.719926</td>\n",
       "      <td>-85.170387</td>\n",
       "      <td>0.008077</td>\n",
       "      <td>0.015180</td>\n",
       "    </tr>\n",
       "  </tbody>\n",
       "</table>\n",
       "<p>5 rows × 29 columns</p>\n",
       "</div>"
      ],
      "text/plain": [
       "   index  time_start  time_end  time_peak  duration  duration_moderate  \\\n",
       "0      0      723911    723931     723924        21                 14   \n",
       "1      1      725746    725754     725752         9                  9   \n",
       "2      2      726840    726890     726857        51                 51   \n",
       "3      3      727139    727277     727210       139                 39   \n",
       "4      4      727493    727577     727556        85                 35   \n",
       "\n",
       "   duration_strong  duration_severe  duration_extreme  category  ...  \\\n",
       "0                7                0                 0         1  ...   \n",
       "1                0                0                 0         0  ...   \n",
       "2                0                0                 0         0  ...   \n",
       "3               46                8                46         3  ...   \n",
       "4               37               13                 0         2  ...   \n",
       "\n",
       "   intensity_max_relThresh  intensity_max_abs intensity_mean_relThresh  \\\n",
       "0                 0.433648          -0.457613                 0.217017   \n",
       "1                 0.074059          -0.803030                 0.040143   \n",
       "2                 0.259864          -0.582125                 0.098204   \n",
       "3                 1.723271           0.824553                 0.597275   \n",
       "4                 0.345204          -0.678901                 0.173176   \n",
       "\n",
       "   intensity_mean_abs  intensity_var_relThresh  intensity_var_abs  \\\n",
       "0           -0.696718                 0.124336           0.144548   \n",
       "1           -0.851957                 0.021723           0.033850   \n",
       "2           -0.766680                 0.073886           0.096659   \n",
       "3           -0.426060                 0.540468           0.667796   \n",
       "4           -1.002005                 0.081395           0.198490   \n",
       "\n",
       "   intensity_cumulative_relThresh  intensity_cumulative_abs  rate_onset  \\\n",
       "0                        4.557350                -14.631067    0.014541   \n",
       "1                        0.361283                 -7.667612    0.015423   \n",
       "2                        5.008395                -39.100677    0.017261   \n",
       "3                       83.021271                -59.222404    0.026428   \n",
       "4                       14.719926                -85.170387    0.008077   \n",
       "\n",
       "   rate_decline  \n",
       "0      0.066994  \n",
       "1      0.027143  \n",
       "2      0.006991  \n",
       "3      0.025159  \n",
       "4      0.015180  \n",
       "\n",
       "[5 rows x 29 columns]"
      ]
     },
     "execution_count": 10,
     "metadata": {},
     "output_type": "execute_result"
    }
   ],
   "source": [
    "mhwe.head()"
   ]
  },
  {
   "cell_type": "markdown",
   "id": "8ccc30dd",
   "metadata": {},
   "source": [
    "## Spatial cut"
   ]
  },
  {
   "cell_type": "code",
   "execution_count": 11,
   "id": "90446ec8",
   "metadata": {},
   "outputs": [],
   "source": [
    "gd_lat = (mhwe.lat >= lat_min) & (mhwe.lat <=lat_max)\n",
    "gd_lon = (mhwe.lon >= lon_min) & (mhwe.lon <=lon_max)"
   ]
  },
  {
   "cell_type": "markdown",
   "id": "d1ef8cb0",
   "metadata": {},
   "source": [
    "## Time cut"
   ]
  },
  {
   "cell_type": "code",
   "execution_count": 12,
   "id": "5ff5d8b8",
   "metadata": {},
   "outputs": [
    {
     "data": {
      "text/plain": [
       "(728591, 728898)"
      ]
     },
     "execution_count": 12,
     "metadata": {},
     "output_type": "execute_result"
    }
   ],
   "source": [
    "mhws_ts_ord = isys.startdate.toordinal()\n",
    "mhws_te_ord = isys.enddate.toordinal()\n",
    "mhws_ts_ord, mhws_te_ord"
   ]
  },
  {
   "cell_type": "code",
   "execution_count": 13,
   "id": "628c9e44",
   "metadata": {},
   "outputs": [],
   "source": [
    "gd_time = (mhwe.time_start < mhws_te_ord) & (mhwe.time_end > mhws_ts_ord)"
   ]
  },
  {
   "cell_type": "code",
   "execution_count": 14,
   "id": "de66d6bc",
   "metadata": {},
   "outputs": [
    {
     "data": {
      "text/plain": [
       "162092"
      ]
     },
     "execution_count": 14,
     "metadata": {},
     "output_type": "execute_result"
    }
   ],
   "source": [
    "np.sum(gd_lat & gd_lon & gd_time)"
   ]
  },
  {
   "cell_type": "markdown",
   "id": "3b7f9d90",
   "metadata": {},
   "source": [
    "## Cut"
   ]
  },
  {
   "cell_type": "code",
   "execution_count": 15,
   "id": "fb175d6b",
   "metadata": {},
   "outputs": [],
   "source": [
    "cut_mhwe = mhwe[gd_lat & gd_lon & gd_time].copy()"
   ]
  },
  {
   "cell_type": "code",
   "execution_count": 16,
   "id": "0848a6db",
   "metadata": {},
   "outputs": [
    {
     "data": {
      "text/html": [
       "<div>\n",
       "<style scoped>\n",
       "    .dataframe tbody tr th:only-of-type {\n",
       "        vertical-align: middle;\n",
       "    }\n",
       "\n",
       "    .dataframe tbody tr th {\n",
       "        vertical-align: top;\n",
       "    }\n",
       "\n",
       "    .dataframe thead th {\n",
       "        text-align: right;\n",
       "    }\n",
       "</style>\n",
       "<table border=\"1\" class=\"dataframe\">\n",
       "  <thead>\n",
       "    <tr style=\"text-align: right;\">\n",
       "      <th></th>\n",
       "      <th>lat</th>\n",
       "      <th>lon</th>\n",
       "      <th>time_start</th>\n",
       "    </tr>\n",
       "  </thead>\n",
       "  <tbody>\n",
       "    <tr>\n",
       "      <th>18247432</th>\n",
       "      <td>7.625</td>\n",
       "      <td>152.875</td>\n",
       "      <td>728605</td>\n",
       "    </tr>\n",
       "    <tr>\n",
       "      <th>18247433</th>\n",
       "      <td>7.625</td>\n",
       "      <td>152.875</td>\n",
       "      <td>728897</td>\n",
       "    </tr>\n",
       "    <tr>\n",
       "      <th>18247498</th>\n",
       "      <td>7.875</td>\n",
       "      <td>152.875</td>\n",
       "      <td>728605</td>\n",
       "    </tr>\n",
       "    <tr>\n",
       "      <th>18247499</th>\n",
       "      <td>7.875</td>\n",
       "      <td>152.875</td>\n",
       "      <td>728897</td>\n",
       "    </tr>\n",
       "    <tr>\n",
       "      <th>18247634</th>\n",
       "      <td>8.375</td>\n",
       "      <td>152.875</td>\n",
       "      <td>728672</td>\n",
       "    </tr>\n",
       "  </tbody>\n",
       "</table>\n",
       "</div>"
      ],
      "text/plain": [
       "            lat      lon  time_start\n",
       "18247432  7.625  152.875      728605\n",
       "18247433  7.625  152.875      728897\n",
       "18247498  7.875  152.875      728605\n",
       "18247499  7.875  152.875      728897\n",
       "18247634  8.375  152.875      728672"
      ]
     },
     "execution_count": 16,
     "metadata": {},
     "output_type": "execute_result"
    }
   ],
   "source": [
    "cut_mhwe[['lat', 'lon', 'time_start']].head()"
   ]
  },
  {
   "cell_type": "markdown",
   "id": "f3de8c87",
   "metadata": {},
   "source": [
    "## Test case"
   ]
  },
  {
   "cell_type": "code",
   "execution_count": 17,
   "id": "27c82592",
   "metadata": {},
   "outputs": [
    {
     "data": {
      "text/plain": [
       "index                                         1967257\n",
       "time_start                                     728605\n",
       "time_end                                       728610\n",
       "time_peak                                      728608\n",
       "duration                                            6\n",
       "duration_moderate                                   5\n",
       "duration_strong                                     1\n",
       "duration_severe                                     0\n",
       "duration_extreme                                    0\n",
       "category                                            1\n",
       "n_events                                            0\n",
       "ievent                                             35\n",
       "date                              1995-11-08 00:00:00\n",
       "lat                                             7.625\n",
       "lon                                           152.875\n",
       "intensity_max                                1.233524\n",
       "intensity_mean                               0.913802\n",
       "intensity_var                                0.203745\n",
       "intensity_cumulative                         5.482811\n",
       "intensity_max_relThresh                      0.641146\n",
       "intensity_max_abs                           30.496983\n",
       "intensity_mean_relThresh                     0.319263\n",
       "intensity_mean_abs                          30.180346\n",
       "intensity_var_relThresh                      0.203418\n",
       "intensity_var_abs                            0.208818\n",
       "intensity_cumulative_relThresh               1.915575\n",
       "intensity_cumulative_abs                   181.082077\n",
       "rate_onset                                   0.163832\n",
       "rate_decline                                 0.289257\n",
       "Name: 18247432, dtype: object"
      ]
     },
     "execution_count": 17,
     "metadata": {},
     "output_type": "execute_result"
    }
   ],
   "source": [
    "imhwe = cut_mhwe.iloc[0]\n",
    "imhwe"
   ]
  },
  {
   "cell_type": "code",
   "execution_count": 18,
   "id": "423e4c6f",
   "metadata": {},
   "outputs": [
    {
     "data": {
      "text/plain": [
       "390"
      ]
     },
     "execution_count": 18,
     "metadata": {},
     "output_type": "execute_result"
    }
   ],
   "source": [
    "x_i = int((imhwe.lat + 89.875)/0.25)\n",
    "x_i"
   ]
  },
  {
   "cell_type": "code",
   "execution_count": 19,
   "id": "f44b759e",
   "metadata": {},
   "outputs": [
    {
     "data": {
      "text/plain": [
       "611"
      ]
     },
     "execution_count": 19,
     "metadata": {},
     "output_type": "execute_result"
    }
   ],
   "source": [
    "y_i = int((imhwe.lon - 0.125)/0.25)\n",
    "y_i"
   ]
  },
  {
   "cell_type": "code",
   "execution_count": 20,
   "id": "3b962173",
   "metadata": {},
   "outputs": [
    {
     "data": {
      "text/plain": [
       "728591"
      ]
     },
     "execution_count": 20,
     "metadata": {},
     "output_type": "execute_result"
    }
   ],
   "source": [
    "mhws_ts_ord"
   ]
  },
  {
   "cell_type": "code",
   "execution_count": 21,
   "id": "dd90b2c9",
   "metadata": {},
   "outputs": [
    {
     "data": {
      "text/plain": [
       "16"
      ]
     },
     "execution_count": 21,
     "metadata": {},
     "output_type": "execute_result"
    }
   ],
   "source": [
    "t_i = (imhwe.time_start-mhws_ts_ord) + 2 # for boundary\n",
    "t_i"
   ]
  },
  {
   "cell_type": "markdown",
   "id": "88a52e59",
   "metadata": {},
   "source": [
    "### Test the mask"
   ]
  },
  {
   "cell_type": "code",
   "execution_count": 22,
   "id": "c3a2f7cc",
   "metadata": {},
   "outputs": [
    {
     "data": {
      "text/plain": [
       "array([1454849, 1454849, 1454849, 1454849, 1454849,       0,       0],\n",
       "      dtype=int32)"
      ]
     },
     "execution_count": 22,
     "metadata": {},
     "output_type": "execute_result"
    }
   ],
   "source": [
    "mask_da.data[x_i, y_i, t_i-3:t_i+4]"
   ]
  },
  {
   "cell_type": "markdown",
   "id": "0afb8324",
   "metadata": {},
   "source": [
    "## Loop em!"
   ]
  },
  {
   "cell_type": "code",
   "execution_count": 23,
   "id": "c6175447",
   "metadata": {},
   "outputs": [
    {
     "name": "stdout",
     "output_type": "stream",
     "text": [
      "Final count = 44065!\n",
      "Longest MHWE = 133 days\n"
     ]
    }
   ],
   "source": [
    "count = 0\n",
    "max_dur = 0\n",
    "for ss in range(len(cut_mhwe)):\n",
    "    imhwe = cut_mhwe.iloc[ss]\n",
    "    x_i = int((imhwe.lat + 89.875)/0.25)\n",
    "    y_i = int((imhwe.lon - 0.125)/0.25)\n",
    "    t_i = (imhwe.time_start-mhws_ts_ord)  # for boundary\n",
    "    #\n",
    "    try:\n",
    "        if mask_da.data[x_i, y_i, t_i] == isys.mask_Id:\n",
    "            #print(ss)\n",
    "            count += 1\n",
    "            if imhwe.duration > max_dur:\n",
    "                max_dur = imhwe.duration\n",
    "    except:\n",
    "        import pdb; pdb.set_trace()\n",
    "\n",
    "#\n",
    "print(f\"Final count = {count}!\")\n",
    "print(f\"Longest MHWE = {max_dur} days\")\n",
    "#    if (ss % 100) == 0:\n",
    "#        import pdb; pdb.set_trace()"
   ]
  },
  {
   "cell_type": "code",
   "execution_count": null,
   "id": "2d73b7db",
   "metadata": {},
   "outputs": [],
   "source": []
  }
 ],
 "metadata": {
  "kernelspec": {
   "display_name": "Python 3 (ipykernel)",
   "language": "python",
   "name": "python3"
  },
  "language_info": {
   "codemirror_mode": {
    "name": "ipython",
    "version": 3
   },
   "file_extension": ".py",
   "mimetype": "text/x-python",
   "name": "python",
   "nbconvert_exporter": "python",
   "pygments_lexer": "ipython3",
   "version": "3.9.9"
  }
 },
 "nbformat": 4,
 "nbformat_minor": 5
}
