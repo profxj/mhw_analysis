{
 "cells": [
  {
   "cell_type": "markdown",
   "metadata": {},
   "source": [
    "# GEV on Vox by Year"
   ]
  },
  {
   "cell_type": "code",
   "execution_count": 1,
   "metadata": {},
   "outputs": [
    {
     "name": "stderr",
     "output_type": "stream",
     "text": [
      "Loading required package: Lmoments\n",
      "\n",
      "Loading required package: distillery\n",
      "\n",
      "\n",
      "Attaching package: ‘extRemes’\n",
      "\n",
      "\n",
      "The following objects are masked from ‘package:stats’:\n",
      "\n",
      "    qqnorm, qqplot\n",
      "\n",
      "\n"
     ]
    }
   ],
   "source": [
    "# load packages\n",
    "library(extRemes)\n",
    "library(distillery)"
   ]
  },
  {
   "cell_type": "markdown",
   "metadata": {},
   "source": [
    "# Read in Data"
   ]
  },
  {
   "cell_type": "markdown",
   "metadata": {},
   "source": [
    "## De-trended"
   ]
  },
  {
   "cell_type": "code",
   "execution_count": 2,
   "metadata": {},
   "outputs": [],
   "source": [
    "detrend_file = '../Figures/MHWS_2019_local_Vox_by_year.csv'"
   ]
  },
  {
   "cell_type": "code",
   "execution_count": 9,
   "metadata": {},
   "outputs": [],
   "source": [
    "data_detrend = read.csv(detrend_file, header=T)"
   ]
  },
  {
   "cell_type": "code",
   "execution_count": 10,
   "metadata": {},
   "outputs": [
    {
     "data": {
      "text/html": [
       "<style>\n",
       ".list-inline {list-style: none; margin:0; padding: 0}\n",
       ".list-inline>li {display: inline-block}\n",
       ".list-inline>li:not(:last-child)::after {content: \"\\00b7\"; padding: 0 .5ex}\n",
       "</style>\n",
       "<ol class=list-inline><li>1983</li><li>1984</li><li>1985</li><li>1986</li><li>1987</li><li>1988</li><li>1989</li><li>1990</li><li>1991</li><li>1992</li><li>1993</li><li>1994</li><li>1995</li><li>1996</li><li>1997</li><li>1998</li><li>1999</li><li>2000</li><li>2001</li><li>2002</li><li>2003</li><li>2004</li><li>2005</li><li>2006</li><li>2007</li><li>2008</li><li>2009</li><li>2010</li><li>2011</li><li>2012</li><li>2013</li><li>2014</li><li>2015</li><li>2016</li><li>2017</li><li>2018</li><li>2019</li></ol>\n"
      ],
      "text/latex": [
       "\\begin{enumerate*}\n",
       "\\item 1983\n",
       "\\item 1984\n",
       "\\item 1985\n",
       "\\item 1986\n",
       "\\item 1987\n",
       "\\item 1988\n",
       "\\item 1989\n",
       "\\item 1990\n",
       "\\item 1991\n",
       "\\item 1992\n",
       "\\item 1993\n",
       "\\item 1994\n",
       "\\item 1995\n",
       "\\item 1996\n",
       "\\item 1997\n",
       "\\item 1998\n",
       "\\item 1999\n",
       "\\item 2000\n",
       "\\item 2001\n",
       "\\item 2002\n",
       "\\item 2003\n",
       "\\item 2004\n",
       "\\item 2005\n",
       "\\item 2006\n",
       "\\item 2007\n",
       "\\item 2008\n",
       "\\item 2009\n",
       "\\item 2010\n",
       "\\item 2011\n",
       "\\item 2012\n",
       "\\item 2013\n",
       "\\item 2014\n",
       "\\item 2015\n",
       "\\item 2016\n",
       "\\item 2017\n",
       "\\item 2018\n",
       "\\item 2019\n",
       "\\end{enumerate*}\n"
      ],
      "text/markdown": [
       "1. 1983\n",
       "2. 1984\n",
       "3. 1985\n",
       "4. 1986\n",
       "5. 1987\n",
       "6. 1988\n",
       "7. 1989\n",
       "8. 1990\n",
       "9. 1991\n",
       "10. 1992\n",
       "11. 1993\n",
       "12. 1994\n",
       "13. 1995\n",
       "14. 1996\n",
       "15. 1997\n",
       "16. 1998\n",
       "17. 1999\n",
       "18. 2000\n",
       "19. 2001\n",
       "20. 2002\n",
       "21. 2003\n",
       "22. 2004\n",
       "23. 2005\n",
       "24. 2006\n",
       "25. 2007\n",
       "26. 2008\n",
       "27. 2009\n",
       "28. 2010\n",
       "29. 2011\n",
       "30. 2012\n",
       "31. 2013\n",
       "32. 2014\n",
       "33. 2015\n",
       "34. 2016\n",
       "35. 2017\n",
       "36. 2018\n",
       "37. 2019\n",
       "\n",
       "\n"
      ],
      "text/plain": [
       " [1] 1983 1984 1985 1986 1987 1988 1989 1990 1991 1992 1993 1994 1995 1996 1997\n",
       "[16] 1998 1999 2000 2001 2002 2003 2004 2005 2006 2007 2008 2009 2010 2011 2012\n",
       "[31] 2013 2014 2015 2016 2017 2018 2019"
      ]
     },
     "metadata": {},
     "output_type": "display_data"
    }
   ],
   "source": [
    "data_detrend$X"
   ]
  },
  {
   "cell_type": "markdown",
   "metadata": {},
   "source": [
    "### Normalize to fraction of total ocean"
   ]
  },
  {
   "cell_type": "code",
   "execution_count": 17,
   "metadata": {},
   "outputs": [],
   "source": [
    "norm <- 10.**8.401865176812827"
   ]
  },
  {
   "cell_type": "code",
   "execution_count": 18,
   "metadata": {},
   "outputs": [
    {
     "data": {
      "text/html": [
       "252269750"
      ],
      "text/latex": [
       "252269750"
      ],
      "text/markdown": [
       "252269750"
      ],
      "text/plain": [
       "[1] 252269750"
      ]
     },
     "metadata": {},
     "output_type": "display_data"
    }
   ],
   "source": [
    "norm"
   ]
  },
  {
   "cell_type": "code",
   "execution_count": 19,
   "metadata": {},
   "outputs": [],
   "source": [
    "data_detrend['extreme_norm'] = data_detrend$extreme / norm"
   ]
  },
  {
   "cell_type": "markdown",
   "metadata": {},
   "source": [
    "## Prep for Trend"
   ]
  },
  {
   "cell_type": "code",
   "execution_count": 54,
   "metadata": {},
   "outputs": [],
   "source": [
    "ny <- length(data_detrend$X)"
   ]
  },
  {
   "cell_type": "code",
   "execution_count": 56,
   "metadata": {},
   "outputs": [],
   "source": [
    "lintr <- 1:ny"
   ]
  },
  {
   "cell_type": "code",
   "execution_count": 57,
   "metadata": {},
   "outputs": [],
   "source": [
    "data_detrend['Trend'] = lintr"
   ]
  },
  {
   "cell_type": "code",
   "execution_count": 58,
   "metadata": {},
   "outputs": [
    {
     "data": {
      "text/html": [
       "<table class=\"dataframe\">\n",
       "<caption>A data.frame: 5 × 6</caption>\n",
       "<thead>\n",
       "\t<tr><th></th><th scope=col>X</th><th scope=col>random</th><th scope=col>normal</th><th scope=col>extreme</th><th scope=col>extreme_norm</th><th scope=col>Trend</th></tr>\n",
       "\t<tr><th></th><th scope=col>&lt;int&gt;</th><th scope=col>&lt;int&gt;</th><th scope=col>&lt;int&gt;</th><th scope=col>&lt;int&gt;</th><th scope=col>&lt;dbl&gt;</th><th scope=col>&lt;int&gt;</th></tr>\n",
       "</thead>\n",
       "<tbody>\n",
       "\t<tr><th scope=row>1</th><td>1983</td><td>778637</td><td>7244263</td><td>17258145</td><td>0.06841147</td><td>1</td></tr>\n",
       "\t<tr><th scope=row>2</th><td>1984</td><td>831397</td><td>6298241</td><td>14831608</td><td>0.05879265</td><td>2</td></tr>\n",
       "\t<tr><th scope=row>3</th><td>1985</td><td>703011</td><td>6746452</td><td>10711422</td><td>0.04246019</td><td>3</td></tr>\n",
       "\t<tr><th scope=row>4</th><td>1986</td><td>689890</td><td>6624660</td><td> 6481257</td><td>0.02569177</td><td>4</td></tr>\n",
       "\t<tr><th scope=row>5</th><td>1987</td><td>765214</td><td>4999920</td><td>10118391</td><td>0.04010941</td><td>5</td></tr>\n",
       "</tbody>\n",
       "</table>\n"
      ],
      "text/latex": [
       "A data.frame: 5 × 6\n",
       "\\begin{tabular}{r|llllll}\n",
       "  & X & random & normal & extreme & extreme\\_norm & Trend\\\\\n",
       "  & <int> & <int> & <int> & <int> & <dbl> & <int>\\\\\n",
       "\\hline\n",
       "\t1 & 1983 & 778637 & 7244263 & 17258145 & 0.06841147 & 1\\\\\n",
       "\t2 & 1984 & 831397 & 6298241 & 14831608 & 0.05879265 & 2\\\\\n",
       "\t3 & 1985 & 703011 & 6746452 & 10711422 & 0.04246019 & 3\\\\\n",
       "\t4 & 1986 & 689890 & 6624660 &  6481257 & 0.02569177 & 4\\\\\n",
       "\t5 & 1987 & 765214 & 4999920 & 10118391 & 0.04010941 & 5\\\\\n",
       "\\end{tabular}\n"
      ],
      "text/markdown": [
       "\n",
       "A data.frame: 5 × 6\n",
       "\n",
       "| <!--/--> | X &lt;int&gt; | random &lt;int&gt; | normal &lt;int&gt; | extreme &lt;int&gt; | extreme_norm &lt;dbl&gt; | Trend &lt;int&gt; |\n",
       "|---|---|---|---|---|---|---|\n",
       "| 1 | 1983 | 778637 | 7244263 | 17258145 | 0.06841147 | 1 |\n",
       "| 2 | 1984 | 831397 | 6298241 | 14831608 | 0.05879265 | 2 |\n",
       "| 3 | 1985 | 703011 | 6746452 | 10711422 | 0.04246019 | 3 |\n",
       "| 4 | 1986 | 689890 | 6624660 |  6481257 | 0.02569177 | 4 |\n",
       "| 5 | 1987 | 765214 | 4999920 | 10118391 | 0.04010941 | 5 |\n",
       "\n"
      ],
      "text/plain": [
       "  X    random normal  extreme  extreme_norm Trend\n",
       "1 1983 778637 7244263 17258145 0.06841147   1    \n",
       "2 1984 831397 6298241 14831608 0.05879265   2    \n",
       "3 1985 703011 6746452 10711422 0.04246019   3    \n",
       "4 1986 689890 6624660  6481257 0.02569177   4    \n",
       "5 1987 765214 4999920 10118391 0.04010941   5    "
      ]
     },
     "metadata": {},
     "output_type": "display_data"
    }
   ],
   "source": [
    "data_detrend[0:5, 0:6]"
   ]
  },
  {
   "cell_type": "markdown",
   "metadata": {},
   "source": [
    "----"
   ]
  },
  {
   "cell_type": "markdown",
   "metadata": {},
   "source": [
    "# GEV"
   ]
  },
  {
   "cell_type": "markdown",
   "metadata": {},
   "source": [
    "## De-trended data\n",
    "\n",
    "### No trend fit"
   ]
  },
  {
   "cell_type": "code",
   "execution_count": 22,
   "metadata": {},
   "outputs": [],
   "source": [
    "fit_h0 <- fevd(extreme_norm, data_detrend, units = \"Vox\")\n",
    "ci_h0 <- ci(fit_h0, type=\"parameter\") # confidence interval on the three GEV params"
   ]
  },
  {
   "cell_type": "code",
   "execution_count": 23,
   "metadata": {},
   "outputs": [
    {
     "data": {
      "text/plain": [
       "\n",
       "fevd(x = extreme_norm, data = data_detrend, units = \"Vox\")\n",
       "\n",
       "[1] \"Estimation Method used: MLE\"\n",
       "\n",
       "\n",
       " Negative Log-Likelihood Value:  -107.4497 \n",
       "\n",
       "\n",
       " Estimated parameters:\n",
       "  location      scale      shape \n",
       "0.03744516 0.01055820 0.11106121 \n",
       "\n",
       " Standard Error Estimates:\n",
       "   location       scale       shape \n",
       "0.002096800 0.001606524 0.182078876 \n",
       "\n",
       " Estimated parameter covariance matrix.\n",
       "              location         scale         shape\n",
       "location  4.396569e-06  1.903715e-06 -0.0001769574\n",
       "scale     1.903715e-06  2.580919e-06 -0.0001113365\n",
       "shape    -1.769574e-04 -1.113365e-04  0.0331527169\n",
       "\n",
       " AIC = -208.8995 \n",
       "\n",
       " BIC = -204.0667 "
      ]
     },
     "metadata": {},
     "output_type": "display_data"
    }
   ],
   "source": [
    "fit_h0"
   ]
  },
  {
   "cell_type": "code",
   "execution_count": 24,
   "metadata": {},
   "outputs": [
    {
     "data": {
      "text/plain": [
       "fevd(x = extreme_norm, data = data_detrend, units = \"Vox\")\n",
       "\n",
       "[1] \"Normal Approx.\"\n",
       "\n",
       "         95% lower CI   Estimate 95% upper CI\n",
       "location  0.033335509 0.03744516   0.04155481\n",
       "scale     0.007409473 0.01055820   0.01370693\n",
       "shape    -0.245806831 0.11106121   0.46792925\n"
      ]
     },
     "metadata": {},
     "output_type": "display_data"
    }
   ],
   "source": [
    "ci_h0"
   ]
  },
  {
   "cell_type": "code",
   "execution_count": 34,
   "metadata": {},
   "outputs": [
    {
     "data": {
      "text/html": [
       "0.11106120769126"
      ],
      "text/latex": [
       "0.11106120769126"
      ],
      "text/markdown": [
       "0.11106120769126"
      ],
      "text/plain": [
       "[1] 0.1110612"
      ]
     },
     "metadata": {},
     "output_type": "display_data"
    }
   ],
   "source": [
    "tmp <- ci_h0[3,2]\n",
    "tmp"
   ]
  },
  {
   "cell_type": "markdown",
   "metadata": {},
   "source": [
    "### Plot"
   ]
  },
  {
   "cell_type": "code",
   "execution_count": 51,
   "metadata": {},
   "outputs": [
    {
     "data": {
      "image/png": "[encoded data removed]",
      "text/plain": [
       "Plot with title “b)”"
      ]
     },
     "metadata": {
      "image/png": {
       "height": 420,
       "width": 420
      }
     },
     "output_type": "display_data"
    }
   ],
   "source": [
    "par(mfrow=c(1,1))\n",
    "xt <- seq(from=0.02,to=0.08,by=0.001)\n",
    "xd1 <- devd(xt,loc=ci_h0[1,2],scale=ci_h0[2,2],shape=ci_h0[3,2],type=\"GEV\")\n",
    "#xd2 <- devd(xt,loc=ci_loctr[1,2]+ci_loctr[2,2]*102,scale=ci_loctr[3,2],shape=ci_loctr[4,2],type=\"GEV\")\n",
    "plot(xt,xd1,type=\"l\",lwd=3,xlab=\" NVox (normalized)\",ylab=\"Density\",col=\"orange\",ylim=c(0,50),main=\"b)\")\n",
    "#lines(xt,xd1,type=\"l\",lwd=3,col=\"red\")\n",
    "labels <- c('No trend')#,\"2018\")\n",
    "colors <- c(\"orange\",\"red\")\n",
    "legend(\"topright\",labels,pch=c(1,1),lwd=c(3,3),col=colors)\n",
    "#arrows(22.2, 0.42, 23.8, 0.42,lwd=3,lty=6)"
   ]
  },
  {
   "cell_type": "markdown",
   "metadata": {},
   "source": [
    "### Trend fit"
   ]
  },
  {
   "cell_type": "code",
   "execution_count": 63,
   "metadata": {},
   "outputs": [],
   "source": [
    "fit_loctr <- fevd(extreme_norm, data_detrend, location.fun = ~Trend, units = \"Vox\")\n",
    "#ci_loctr <- ci(fit_loctr,type=\"parameter\")"
   ]
  },
  {
   "cell_type": "code",
   "execution_count": 64,
   "metadata": {},
   "outputs": [
    {
     "data": {
      "text/plain": [
       "\n",
       "fevd(x = extreme_norm, data = data_detrend, location.fun = ~Trend, \n",
       "    units = \"Vox\")\n",
       "\n",
       "[1] \"Estimation Method used: MLE\"\n",
       "\n",
       "\n",
       " Negative Log-Likelihood Value:  -108.5672 \n",
       "\n",
       "\n",
       " Estimated parameters:\n",
       "          mu0           mu1         scale         shape \n",
       " 0.0317249034  0.0003664036  0.0111719533 -0.0445808079 \n",
       "\n",
       " AIC = -209.1345 \n",
       "\n",
       " BIC = -202.6908 "
      ]
     },
     "metadata": {},
     "output_type": "display_data"
    }
   ],
   "source": [
    "fit_loctr"
   ]
  },
  {
   "cell_type": "code",
   "execution_count": 65,
   "metadata": {},
   "outputs": [
    {
     "data": {
      "text/plain": [
       "\n",
       "\tLikelihood-ratio Test\n",
       "\n",
       "data:  extreme_normextreme_norm\n",
       "Likelihood-ratio = 2.235, chi-square critical value = 3.8415, alpha =\n",
       "0.0500, Degrees of Freedom = 1.0000, p-value = 0.1349\n",
       "alternative hypothesis: greater\n"
      ]
     },
     "metadata": {},
     "output_type": "display_data"
    }
   ],
   "source": [
    "lr.test(fit_loctr, fit_h0)"
   ]
  },
  {
   "cell_type": "code",
   "execution_count": null,
   "metadata": {},
   "outputs": [],
   "source": []
  }
 ],
 "metadata": {
  "kernelspec": {
   "display_name": "R",
   "language": "R",
   "name": "ir"
  },
  "language_info": {
   "codemirror_mode": "r",
   "file_extension": ".r",
   "mimetype": "text/x-r-source",
   "name": "R",
   "pygments_lexer": "r",
   "version": "4.1.0"
  }
 },
 "nbformat": 4,
 "nbformat_minor": 4
}
