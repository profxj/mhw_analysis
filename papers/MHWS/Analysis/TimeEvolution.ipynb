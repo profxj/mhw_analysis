{
 "cells": [
  {
   "cell_type": "markdown",
   "metadata": {},
   "source": [
    "# Time Evolution"
   ]
  },
  {
   "cell_type": "code",
   "execution_count": 1,
   "metadata": {},
   "outputs": [],
   "source": [
    "%matplotlib notebook"
   ]
  },
  {
   "cell_type": "code",
   "execution_count": 2,
   "metadata": {},
   "outputs": [],
   "source": [
    "# imports\n",
    "import numpy as np\n",
    "import os\n",
    "from scipy.interpolate import interp1d\n",
    "\n",
    "from datetime import date, time\n",
    "\n",
    "from matplotlib import pyplot as plt\n",
    "\n",
    "import cartopy.crs as ccrs\n",
    "import cartopy.feature as cfeature \n",
    "from cartopy.mpl.ticker import LongitudeFormatter, LatitudeFormatter\n",
    "\n",
    "import pandas as pd\n",
    "import iris\n",
    "import iris.quickplot as qplt\n",
    "\n",
    "import healpy as hp\n",
    "\n",
    "from oceanpy.sst import io as sst_io\n",
    "\n",
    "from mhw_analysis.systems import utils as mhwsys_utils"
   ]
  },
  {
   "cell_type": "markdown",
   "metadata": {},
   "source": [
    "# Load"
   ]
  },
  {
   "cell_type": "code",
   "execution_count": 3,
   "metadata": {},
   "outputs": [],
   "source": [
    "path = '/home/xavier/Projects/Oceanography/MHW/db'"
   ]
  },
  {
   "cell_type": "code",
   "execution_count": 4,
   "metadata": {},
   "outputs": [],
   "source": [
    "sys_file = os.path.join(path, 'MHW_systems_2000.npz')\n",
    "mhw_sys_npz = np.load(sys_file)"
   ]
  },
  {
   "cell_type": "code",
   "execution_count": 5,
   "metadata": {},
   "outputs": [],
   "source": [
    "mhw_sys = mhwsys_utils.dict_to_pandas(mhw_sys_npz, add_latlon=True)"
   ]
  },
  {
   "cell_type": "code",
   "execution_count": 6,
   "metadata": {},
   "outputs": [
    {
     "data": {
      "text/html": [
       "<div>\n",
       "<style scoped>\n",
       "    .dataframe tbody tr th:only-of-type {\n",
       "        vertical-align: middle;\n",
       "    }\n",
       "\n",
       "    .dataframe tbody tr th {\n",
       "        vertical-align: top;\n",
       "    }\n",
       "\n",
       "    .dataframe thead th {\n",
       "        text-align: right;\n",
       "    }\n",
       "</style>\n",
       "<table border=\"1\" class=\"dataframe\">\n",
       "  <thead>\n",
       "    <tr style=\"text-align: right;\">\n",
       "      <th></th>\n",
       "      <th>NSpax</th>\n",
       "      <th>xcen</th>\n",
       "      <th>xboxmin</th>\n",
       "      <th>xboxmax</th>\n",
       "      <th>ycen</th>\n",
       "      <th>yboxmin</th>\n",
       "      <th>yboxmax</th>\n",
       "      <th>zcen</th>\n",
       "      <th>zboxmin</th>\n",
       "      <th>zboxmax</th>\n",
       "      <th>date</th>\n",
       "      <th>lat</th>\n",
       "      <th>lon</th>\n",
       "    </tr>\n",
       "    <tr>\n",
       "      <th>Id</th>\n",
       "      <th></th>\n",
       "      <th></th>\n",
       "      <th></th>\n",
       "      <th></th>\n",
       "      <th></th>\n",
       "      <th></th>\n",
       "      <th></th>\n",
       "      <th></th>\n",
       "      <th></th>\n",
       "      <th></th>\n",
       "      <th></th>\n",
       "      <th></th>\n",
       "      <th></th>\n",
       "    </tr>\n",
       "  </thead>\n",
       "  <tbody>\n",
       "    <tr>\n",
       "      <th>1</th>\n",
       "      <td>1068</td>\n",
       "      <td>46.225655</td>\n",
       "      <td>46</td>\n",
       "      <td>50</td>\n",
       "      <td>671.013123</td>\n",
       "      <td>663</td>\n",
       "      <td>681</td>\n",
       "      <td>100.861420</td>\n",
       "      <td>68</td>\n",
       "      <td>132</td>\n",
       "      <td>1982-04-11</td>\n",
       "      <td>-78.318586</td>\n",
       "      <td>167.878281</td>\n",
       "    </tr>\n",
       "    <tr>\n",
       "      <th>2</th>\n",
       "      <td>15708</td>\n",
       "      <td>55.034248</td>\n",
       "      <td>46</td>\n",
       "      <td>72</td>\n",
       "      <td>685.501404</td>\n",
       "      <td>650</td>\n",
       "      <td>740</td>\n",
       "      <td>230.010315</td>\n",
       "      <td>156</td>\n",
       "      <td>329</td>\n",
       "      <td>1982-08-19</td>\n",
       "      <td>-76.116438</td>\n",
       "      <td>171.500351</td>\n",
       "    </tr>\n",
       "    <tr>\n",
       "      <th>3</th>\n",
       "      <td>34</td>\n",
       "      <td>45.500000</td>\n",
       "      <td>46</td>\n",
       "      <td>46</td>\n",
       "      <td>663.588257</td>\n",
       "      <td>663</td>\n",
       "      <td>666</td>\n",
       "      <td>365.970581</td>\n",
       "      <td>362</td>\n",
       "      <td>373</td>\n",
       "      <td>1983-01-01</td>\n",
       "      <td>-78.500000</td>\n",
       "      <td>166.022064</td>\n",
       "    </tr>\n",
       "    <tr>\n",
       "      <th>4</th>\n",
       "      <td>5387</td>\n",
       "      <td>52.332745</td>\n",
       "      <td>46</td>\n",
       "      <td>71</td>\n",
       "      <td>674.276123</td>\n",
       "      <td>651</td>\n",
       "      <td>706</td>\n",
       "      <td>472.054840</td>\n",
       "      <td>432</td>\n",
       "      <td>500</td>\n",
       "      <td>1983-04-18</td>\n",
       "      <td>-76.791814</td>\n",
       "      <td>168.694031</td>\n",
       "    </tr>\n",
       "    <tr>\n",
       "      <th>5</th>\n",
       "      <td>24</td>\n",
       "      <td>45.500000</td>\n",
       "      <td>46</td>\n",
       "      <td>46</td>\n",
       "      <td>664.000000</td>\n",
       "      <td>663</td>\n",
       "      <td>666</td>\n",
       "      <td>571.000000</td>\n",
       "      <td>569</td>\n",
       "      <td>574</td>\n",
       "      <td>1983-07-26</td>\n",
       "      <td>-78.500000</td>\n",
       "      <td>166.125000</td>\n",
       "    </tr>\n",
       "  </tbody>\n",
       "</table>\n",
       "</div>"
      ],
      "text/plain": [
       "    NSpax       xcen  xboxmin  xboxmax        ycen  yboxmin  yboxmax  \\\n",
       "Id                                                                     \n",
       "1    1068  46.225655       46       50  671.013123      663      681   \n",
       "2   15708  55.034248       46       72  685.501404      650      740   \n",
       "3      34  45.500000       46       46  663.588257      663      666   \n",
       "4    5387  52.332745       46       71  674.276123      651      706   \n",
       "5      24  45.500000       46       46  664.000000      663      666   \n",
       "\n",
       "          zcen  zboxmin  zboxmax        date        lat         lon  \n",
       "Id                                                                   \n",
       "1   100.861420       68      132  1982-04-11 -78.318586  167.878281  \n",
       "2   230.010315      156      329  1982-08-19 -76.116438  171.500351  \n",
       "3   365.970581      362      373  1983-01-01 -78.500000  166.022064  \n",
       "4   472.054840      432      500  1983-04-18 -76.791814  168.694031  \n",
       "5   571.000000      569      574  1983-07-26 -78.500000  166.125000  "
      ]
     },
     "execution_count": 6,
     "metadata": {},
     "output_type": "execute_result"
    }
   ],
   "source": [
    "mhw_sys.head()"
   ]
  },
  {
   "cell_type": "markdown",
   "metadata": {},
   "source": [
    "# Evolution (every 6 months for now)"
   ]
  },
  {
   "cell_type": "markdown",
   "metadata": {},
   "source": [
    "## Pick out year 1983"
   ]
  },
  {
   "cell_type": "code",
   "execution_count": 11,
   "metadata": {},
   "outputs": [],
   "source": [
    "year1983 = (mhw_sys.date >= date(1983,1,1)) & (mhw_sys.date < date(1984,1,1))"
   ]
  },
  {
   "cell_type": "code",
   "execution_count": 12,
   "metadata": {},
   "outputs": [
    {
     "data": {
      "text/plain": [
       "Id\n",
       "1        False\n",
       "2        False\n",
       "3         True\n",
       "4         True\n",
       "5         True\n",
       "         ...  \n",
       "99352     True\n",
       "99353    False\n",
       "99354     True\n",
       "99355    False\n",
       "99356     True\n",
       "Name: date, Length: 99356, dtype: bool"
      ]
     },
     "execution_count": 12,
     "metadata": {},
     "output_type": "execute_result"
    }
   ],
   "source": [
    "year1983"
   ]
  },
  {
   "cell_type": "markdown",
   "metadata": {},
   "source": [
    "## Total $N_{\\rm Spax}$"
   ]
  },
  {
   "cell_type": "code",
   "execution_count": 15,
   "metadata": {},
   "outputs": [
    {
     "data": {
      "text/plain": [
       "25096070"
      ]
     },
     "execution_count": 15,
     "metadata": {},
     "output_type": "execute_result"
    }
   ],
   "source": [
    "np.sum(mhw_sys.NSpax[year1983])"
   ]
  },
  {
   "cell_type": "code",
   "execution_count": 38,
   "metadata": {},
   "outputs": [
    {
     "ename": "ValueError",
     "evalue": "hour must be in 0..23",
     "output_type": "error",
     "traceback": [
      "\u001b[0;31m---------------------------------------------------------------------------\u001b[0m",
      "\u001b[0;31mValueError\u001b[0m                                Traceback (most recent call last)",
      "\u001b[0;32m<ipython-input-38-51a7129b1e7c>\u001b[0m in \u001b[0;36m<module>\u001b[0;34m\u001b[0m\n\u001b[0;32m----> 1\u001b[0;31m \u001b[0mtype\u001b[0m\u001b[0;34m(\u001b[0m\u001b[0mtime\u001b[0m\u001b[0;34m(\u001b[0m\u001b[0mdate\u001b[0m\u001b[0;34m(\u001b[0m\u001b[0;36m1982\u001b[0m\u001b[0;34m,\u001b[0m \u001b[0;36m1\u001b[0m\u001b[0;34m,\u001b[0m \u001b[0;36m1\u001b[0m\u001b[0;34m)\u001b[0m\u001b[0;34m.\u001b[0m\u001b[0mtoordinal\u001b[0m\u001b[0;34m(\u001b[0m\u001b[0;34m)\u001b[0m\u001b[0;34m)\u001b[0m\u001b[0;34m)\u001b[0m\u001b[0;34m\u001b[0m\u001b[0;34m\u001b[0m\u001b[0m\n\u001b[0m",
      "\u001b[0;31mValueError\u001b[0m: hour must be in 0..23"
     ]
    }
   ],
   "source": [
    "type(time(date(1982, 1, 1).toordinal()))"
   ]
  },
  {
   "cell_type": "code",
   "execution_count": 42,
   "metadata": {},
   "outputs": [
    {
     "ename": "TypeError",
     "evalue": "an integer is required (got type datetime.date)",
     "output_type": "error",
     "traceback": [
      "\u001b[0;31m---------------------------------------------------------------------------\u001b[0m",
      "\u001b[0;31mTypeError\u001b[0m                                 Traceback (most recent call last)",
      "\u001b[0;32m<ipython-input-42-d7c8f2bd8dca>\u001b[0m in \u001b[0;36m<module>\u001b[0;34m\u001b[0m\n\u001b[0;32m----> 1\u001b[0;31m \u001b[0mtime\u001b[0m\u001b[0;34m(\u001b[0m\u001b[0mdate\u001b[0m\u001b[0;34m(\u001b[0m\u001b[0;36m1982\u001b[0m\u001b[0;34m,\u001b[0m \u001b[0;36m1\u001b[0m\u001b[0;34m,\u001b[0m \u001b[0;36m1\u001b[0m\u001b[0;34m)\u001b[0m\u001b[0;34m)\u001b[0m\u001b[0;34m\u001b[0m\u001b[0;34m\u001b[0m\u001b[0m\n\u001b[0m",
      "\u001b[0;31mTypeError\u001b[0m: an integer is required (got type datetime.date)"
     ]
    }
   ],
   "source": [
    "time(date(1982, 1, 1))"
   ]
  },
  {
   "cell_type": "code",
   "execution_count": null,
   "metadata": {},
   "outputs": [],
   "source": []
  }
 ],
 "metadata": {
  "kernelspec": {
   "display_name": "Python 3",
   "language": "python",
   "name": "python3"
  },
  "language_info": {
   "codemirror_mode": {
    "name": "ipython",
    "version": 3
   },
   "file_extension": ".py",
   "mimetype": "text/x-python",
   "name": "python",
   "nbconvert_exporter": "python",
   "pygments_lexer": "ipython3",
   "version": "3.8.5"
  }
 },
 "nbformat": 4,
 "nbformat_minor": 4
}
