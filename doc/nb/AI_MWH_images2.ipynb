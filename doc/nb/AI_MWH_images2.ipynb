{
 "cells": [
  {
   "cell_type": "markdown",
   "metadata": {},
   "source": [
    "# AI_MHW_images Round 2"
   ]
  },
  {
   "cell_type": "code",
   "execution_count": 13,
   "metadata": {},
   "outputs": [],
   "source": [
    "# imports\n",
    "import os\n",
    "import numpy as np\n",
    "\n",
    "import pandas\n",
    "\n",
    "from mhw_analysis.ai import images as ai_images"
   ]
  },
  {
   "cell_type": "markdown",
   "metadata": {},
   "source": [
    "# Run on Intermediate MHW Systems"
   ]
  },
  {
   "cell_type": "markdown",
   "metadata": {},
   "source": [
    "## Load intermediate table"
   ]
  },
  {
   "cell_type": "code",
   "execution_count": 4,
   "metadata": {},
   "outputs": [],
   "source": [
    "path = '/home/xavier/Projects/Oceanography/AI/MHWS'"
   ]
  },
  {
   "cell_type": "code",
   "execution_count": 5,
   "metadata": {},
   "outputs": [],
   "source": [
    "mhw_systems = pandas.read_hdf(os.path.join(path, 'MHW_sys_intermediate.hdf'))"
   ]
  },
  {
   "cell_type": "code",
   "execution_count": 7,
   "metadata": {},
   "outputs": [
    {
     "data": {
      "text/html": [
       "<div>\n",
       "<style scoped>\n",
       "    .dataframe tbody tr th:only-of-type {\n",
       "        vertical-align: middle;\n",
       "    }\n",
       "\n",
       "    .dataframe tbody tr th {\n",
       "        vertical-align: top;\n",
       "    }\n",
       "\n",
       "    .dataframe thead th {\n",
       "        text-align: right;\n",
       "    }\n",
       "</style>\n",
       "<table border=\"1\" class=\"dataframe\">\n",
       "  <thead>\n",
       "    <tr style=\"text-align: right;\">\n",
       "      <th></th>\n",
       "      <th>NSpax</th>\n",
       "      <th>category</th>\n",
       "      <th>mask_Id</th>\n",
       "      <th>max_area</th>\n",
       "      <th>xcen</th>\n",
       "      <th>xboxmin</th>\n",
       "      <th>xboxmax</th>\n",
       "      <th>ycen</th>\n",
       "      <th>yboxmin</th>\n",
       "      <th>yboxmax</th>\n",
       "      <th>zcen</th>\n",
       "      <th>zboxmin</th>\n",
       "      <th>zboxmax</th>\n",
       "      <th>date</th>\n",
       "      <th>lat</th>\n",
       "      <th>lon</th>\n",
       "      <th>max_time</th>\n",
       "      <th>null_time</th>\n",
       "    </tr>\n",
       "    <tr>\n",
       "      <th>Id</th>\n",
       "      <th></th>\n",
       "      <th></th>\n",
       "      <th></th>\n",
       "      <th></th>\n",
       "      <th></th>\n",
       "      <th></th>\n",
       "      <th></th>\n",
       "      <th></th>\n",
       "      <th></th>\n",
       "      <th></th>\n",
       "      <th></th>\n",
       "      <th></th>\n",
       "      <th></th>\n",
       "      <th></th>\n",
       "      <th></th>\n",
       "      <th></th>\n",
       "      <th></th>\n",
       "      <th></th>\n",
       "    </tr>\n",
       "  </thead>\n",
       "  <tbody>\n",
       "    <tr>\n",
       "      <th>4768</th>\n",
       "      <td>238157</td>\n",
       "      <td>1</td>\n",
       "      <td>24434</td>\n",
       "      <td>2530</td>\n",
       "      <td>146.690933</td>\n",
       "      <td>64</td>\n",
       "      <td>230</td>\n",
       "      <td>716.595215</td>\n",
       "      <td>621</td>\n",
       "      <td>827</td>\n",
       "      <td>6875.685059</td>\n",
       "      <td>6656</td>\n",
       "      <td>7068</td>\n",
       "      <td>2000-10-28</td>\n",
       "      <td>-53.202267</td>\n",
       "      <td>179.273804</td>\n",
       "      <td>730521</td>\n",
       "      <td>729790</td>\n",
       "    </tr>\n",
       "    <tr>\n",
       "      <th>6943</th>\n",
       "      <td>48894</td>\n",
       "      <td>1</td>\n",
       "      <td>35546</td>\n",
       "      <td>1700</td>\n",
       "      <td>100.062790</td>\n",
       "      <td>70</td>\n",
       "      <td>130</td>\n",
       "      <td>729.652039</td>\n",
       "      <td>649</td>\n",
       "      <td>809</td>\n",
       "      <td>3124.972656</td>\n",
       "      <td>3056</td>\n",
       "      <td>3211</td>\n",
       "      <td>1990-07-22</td>\n",
       "      <td>-64.859303</td>\n",
       "      <td>182.538010</td>\n",
       "      <td>726660</td>\n",
       "      <td>727025</td>\n",
       "    </tr>\n",
       "    <tr>\n",
       "      <th>7526</th>\n",
       "      <td>151730</td>\n",
       "      <td>4</td>\n",
       "      <td>38982</td>\n",
       "      <td>4832</td>\n",
       "      <td>100.569588</td>\n",
       "      <td>71</td>\n",
       "      <td>141</td>\n",
       "      <td>1425.960693</td>\n",
       "      <td>0</td>\n",
       "      <td>1439</td>\n",
       "      <td>4660.063965</td>\n",
       "      <td>4600</td>\n",
       "      <td>4747</td>\n",
       "      <td>1994-10-05</td>\n",
       "      <td>-64.732603</td>\n",
       "      <td>356.615173</td>\n",
       "      <td>728189</td>\n",
       "      <td>728554</td>\n",
       "    </tr>\n",
       "    <tr>\n",
       "      <th>8828</th>\n",
       "      <td>72612</td>\n",
       "      <td>4</td>\n",
       "      <td>46816</td>\n",
       "      <td>2046</td>\n",
       "      <td>107.257065</td>\n",
       "      <td>76</td>\n",
       "      <td>154</td>\n",
       "      <td>303.012939</td>\n",
       "      <td>230</td>\n",
       "      <td>387</td>\n",
       "      <td>8077.781738</td>\n",
       "      <td>7980</td>\n",
       "      <td>8132</td>\n",
       "      <td>2004-02-12</td>\n",
       "      <td>-63.060734</td>\n",
       "      <td>75.878235</td>\n",
       "      <td>731627</td>\n",
       "      <td>732723</td>\n",
       "    </tr>\n",
       "    <tr>\n",
       "      <th>9588</th>\n",
       "      <td>125047</td>\n",
       "      <td>2</td>\n",
       "      <td>50773</td>\n",
       "      <td>2424</td>\n",
       "      <td>103.733215</td>\n",
       "      <td>77</td>\n",
       "      <td>156</td>\n",
       "      <td>1380.768066</td>\n",
       "      <td>0</td>\n",
       "      <td>1439</td>\n",
       "      <td>13601.375977</td>\n",
       "      <td>13551</td>\n",
       "      <td>13668</td>\n",
       "      <td>2019-03-29</td>\n",
       "      <td>-63.941696</td>\n",
       "      <td>345.317017</td>\n",
       "      <td>737140</td>\n",
       "      <td>735679</td>\n",
       "    </tr>\n",
       "  </tbody>\n",
       "</table>\n",
       "</div>"
      ],
      "text/plain": [
       "       NSpax  category  mask_Id  max_area        xcen  xboxmin  xboxmax  \\\n",
       "Id                                                                        \n",
       "4768  238157         1    24434      2530  146.690933       64      230   \n",
       "6943   48894         1    35546      1700  100.062790       70      130   \n",
       "7526  151730         4    38982      4832  100.569588       71      141   \n",
       "8828   72612         4    46816      2046  107.257065       76      154   \n",
       "9588  125047         2    50773      2424  103.733215       77      156   \n",
       "\n",
       "             ycen  yboxmin  yboxmax          zcen  zboxmin  zboxmax  \\\n",
       "Id                                                                    \n",
       "4768   716.595215      621      827   6875.685059     6656     7068   \n",
       "6943   729.652039      649      809   3124.972656     3056     3211   \n",
       "7526  1425.960693        0     1439   4660.063965     4600     4747   \n",
       "8828   303.012939      230      387   8077.781738     7980     8132   \n",
       "9588  1380.768066        0     1439  13601.375977    13551    13668   \n",
       "\n",
       "            date        lat         lon  max_time  null_time  \n",
       "Id                                                            \n",
       "4768  2000-10-28 -53.202267  179.273804    730521     729790  \n",
       "6943  1990-07-22 -64.859303  182.538010    726660     727025  \n",
       "7526  1994-10-05 -64.732603  356.615173    728189     728554  \n",
       "8828  2004-02-12 -63.060734   75.878235    731627     732723  \n",
       "9588  2019-03-29 -63.941696  345.317017    737140     735679  "
      ]
     },
     "execution_count": 7,
     "metadata": {},
     "output_type": "execute_result"
    }
   ],
   "source": [
    "mhw_systems.head()"
   ]
  },
  {
   "cell_type": "markdown",
   "metadata": {},
   "source": [
    "## Grab Z500"
   ]
  },
  {
   "cell_type": "code",
   "execution_count": 11,
   "metadata": {},
   "outputs": [
    {
     "data": {
      "text/plain": [
       "NSpax             48456\n",
       "category              2\n",
       "mask_Id          729524\n",
       "max_area           1284\n",
       "xcen            237.687\n",
       "xboxmin             202\n",
       "xboxmax             284\n",
       "ycen          0.0939331\n",
       "yboxmin               0\n",
       "yboxmax            1439\n",
       "zcen            1527.32\n",
       "zboxmin            1489\n",
       "zboxmax            1606\n",
       "date         1986-03-08\n",
       "lat            -30.4532\n",
       "lon            0.148483\n",
       "max_time         725061\n",
       "null_time        724696\n",
       "Name: 202585, dtype: object"
      ]
     },
     "execution_count": 11,
     "metadata": {},
     "output_type": "execute_result"
    }
   ],
   "source": [
    "# Example near lon=0\n",
    "idx = np.argmin(mhw_systems.lon)\n",
    "mhw_systems.iloc[idx]"
   ]
  },
  {
   "cell_type": "markdown",
   "metadata": {},
   "source": [
    "### Without climate subtraction"
   ]
  },
  {
   "cell_type": "code",
   "execution_count": null,
   "metadata": {},
   "outputs": [],
   "source": []
  }
 ],
 "metadata": {
  "kernelspec": {
   "display_name": "Python 3",
   "language": "python",
   "name": "python3"
  },
  "language_info": {
   "codemirror_mode": {
    "name": "ipython",
    "version": 3
   },
   "file_extension": ".py",
   "mimetype": "text/x-python",
   "name": "python",
   "nbconvert_exporter": "python",
   "pygments_lexer": "ipython3",
   "version": "3.7.3"
  }
 },
 "nbformat": 4,
 "nbformat_minor": 4
}
