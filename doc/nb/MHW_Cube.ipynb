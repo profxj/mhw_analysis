{
 "cells": [
  {
   "cell_type": "markdown",
   "metadata": {},
   "source": [
    "# Cube of MHW_Events"
   ]
  },
  {
   "cell_type": "code",
   "execution_count": 10,
   "metadata": {},
   "outputs": [],
   "source": [
    "# imports\n",
    "import numpy as np\n",
    "import os\n",
    "from matplotlib import pyplot as plt\n",
    "\n",
    "from datetime import date\n",
    "\n",
    "import pandas\n",
    "import sqlalchemy\n",
    "import iris"
   ]
  },
  {
   "cell_type": "markdown",
   "metadata": {},
   "source": [
    "# Load"
   ]
  },
  {
   "cell_type": "code",
   "execution_count": 3,
   "metadata": {},
   "outputs": [
    {
     "data": {
      "text/plain": [
       "<sqlalchemy.engine.base.Connection at 0x7f5948171a90>"
      ]
     },
     "execution_count": 3,
     "metadata": {},
     "output_type": "execute_result"
    }
   ],
   "source": [
    "mhw_file = '/home/xavier/Projects/Oceanography/MHW/db/mhws_allsky_defaults.db'\n",
    "tst_file = '/home/xavier/Projects/Oceanography/MHW/db/test_mhws_allsky.db'\n",
    "#\n",
    "engine = sqlalchemy.create_engine('sqlite:///'+mhw_file)\n",
    "connection = engine.connect()\n",
    "connection"
   ]
  },
  {
   "cell_type": "code",
   "execution_count": 4,
   "metadata": {},
   "outputs": [
    {
     "data": {
      "text/html": [
       "<div>\n",
       "<style scoped>\n",
       "    .dataframe tbody tr th:only-of-type {\n",
       "        vertical-align: middle;\n",
       "    }\n",
       "\n",
       "    .dataframe tbody tr th {\n",
       "        vertical-align: top;\n",
       "    }\n",
       "\n",
       "    .dataframe thead th {\n",
       "        text-align: right;\n",
       "    }\n",
       "</style>\n",
       "<table border=\"1\" class=\"dataframe\">\n",
       "  <thead>\n",
       "    <tr style=\"text-align: right;\">\n",
       "      <th></th>\n",
       "      <th>date</th>\n",
       "      <th>lon</th>\n",
       "      <th>lat</th>\n",
       "      <th>duration</th>\n",
       "      <th>ievent</th>\n",
       "      <th>time_peak</th>\n",
       "      <th>time_start</th>\n",
       "    </tr>\n",
       "  </thead>\n",
       "  <tbody>\n",
       "    <tr>\n",
       "      <th>0</th>\n",
       "      <td>1982-01-01</td>\n",
       "      <td>0.125</td>\n",
       "      <td>-71.375</td>\n",
       "      <td>13</td>\n",
       "      <td>0</td>\n",
       "      <td>723552</td>\n",
       "      <td>723546</td>\n",
       "    </tr>\n",
       "    <tr>\n",
       "      <th>1</th>\n",
       "      <td>1982-12-20</td>\n",
       "      <td>0.125</td>\n",
       "      <td>-71.375</td>\n",
       "      <td>33</td>\n",
       "      <td>1</td>\n",
       "      <td>723901</td>\n",
       "      <td>723899</td>\n",
       "    </tr>\n",
       "    <tr>\n",
       "      <th>2</th>\n",
       "      <td>1985-01-30</td>\n",
       "      <td>0.125</td>\n",
       "      <td>-71.375</td>\n",
       "      <td>10</td>\n",
       "      <td>2</td>\n",
       "      <td>724677</td>\n",
       "      <td>724671</td>\n",
       "    </tr>\n",
       "    <tr>\n",
       "      <th>3</th>\n",
       "      <td>1988-01-10</td>\n",
       "      <td>0.125</td>\n",
       "      <td>-71.375</td>\n",
       "      <td>9</td>\n",
       "      <td>3</td>\n",
       "      <td>725752</td>\n",
       "      <td>725746</td>\n",
       "    </tr>\n",
       "    <tr>\n",
       "      <th>4</th>\n",
       "      <td>1991-01-09</td>\n",
       "      <td>0.125</td>\n",
       "      <td>-71.375</td>\n",
       "      <td>52</td>\n",
       "      <td>4</td>\n",
       "      <td>726858</td>\n",
       "      <td>726841</td>\n",
       "    </tr>\n",
       "  </tbody>\n",
       "</table>\n",
       "</div>"
      ],
      "text/plain": [
       "        date    lon     lat  duration  ievent  time_peak  time_start\n",
       "0 1982-01-01  0.125 -71.375        13       0     723552      723546\n",
       "1 1982-12-20  0.125 -71.375        33       1     723901      723899\n",
       "2 1985-01-30  0.125 -71.375        10       2     724677      724671\n",
       "3 1988-01-10  0.125 -71.375         9       3     725752      725746\n",
       "4 1991-01-09  0.125 -71.375        52       4     726858      726841"
      ]
     },
     "execution_count": 4,
     "metadata": {},
     "output_type": "execute_result"
    }
   ],
   "source": [
    "mhw_events = pandas.read_sql_table('MHW_Events', con=engine, \n",
    "                               columns=['date', 'lon', 'lat', 'duration' , \n",
    "                                        'ievent', 'time_peak', 'time_start'])\n",
    "mhw_events.head()"
   ]
  },
  {
   "cell_type": "code",
   "execution_count": 5,
   "metadata": {},
   "outputs": [
    {
     "data": {
      "text/html": [
       "<div>\n",
       "<style scoped>\n",
       "    .dataframe tbody tr th:only-of-type {\n",
       "        vertical-align: middle;\n",
       "    }\n",
       "\n",
       "    .dataframe tbody tr th {\n",
       "        vertical-align: top;\n",
       "    }\n",
       "\n",
       "    .dataframe thead th {\n",
       "        text-align: right;\n",
       "    }\n",
       "</style>\n",
       "<table border=\"1\" class=\"dataframe\">\n",
       "  <thead>\n",
       "    <tr style=\"text-align: right;\">\n",
       "      <th></th>\n",
       "      <th>lon</th>\n",
       "      <th>lat</th>\n",
       "      <th>duration</th>\n",
       "      <th>ievent</th>\n",
       "      <th>time_peak</th>\n",
       "      <th>time_start</th>\n",
       "    </tr>\n",
       "    <tr>\n",
       "      <th>date</th>\n",
       "      <th></th>\n",
       "      <th></th>\n",
       "      <th></th>\n",
       "      <th></th>\n",
       "      <th></th>\n",
       "      <th></th>\n",
       "    </tr>\n",
       "  </thead>\n",
       "  <tbody>\n",
       "    <tr>\n",
       "      <th>1982-01-01</th>\n",
       "      <td>0.125</td>\n",
       "      <td>-71.375</td>\n",
       "      <td>13</td>\n",
       "      <td>0</td>\n",
       "      <td>723552</td>\n",
       "      <td>723546</td>\n",
       "    </tr>\n",
       "    <tr>\n",
       "      <th>1982-12-20</th>\n",
       "      <td>0.125</td>\n",
       "      <td>-71.375</td>\n",
       "      <td>33</td>\n",
       "      <td>1</td>\n",
       "      <td>723901</td>\n",
       "      <td>723899</td>\n",
       "    </tr>\n",
       "    <tr>\n",
       "      <th>1985-01-30</th>\n",
       "      <td>0.125</td>\n",
       "      <td>-71.375</td>\n",
       "      <td>10</td>\n",
       "      <td>2</td>\n",
       "      <td>724677</td>\n",
       "      <td>724671</td>\n",
       "    </tr>\n",
       "    <tr>\n",
       "      <th>1988-01-10</th>\n",
       "      <td>0.125</td>\n",
       "      <td>-71.375</td>\n",
       "      <td>9</td>\n",
       "      <td>3</td>\n",
       "      <td>725752</td>\n",
       "      <td>725746</td>\n",
       "    </tr>\n",
       "    <tr>\n",
       "      <th>1991-01-09</th>\n",
       "      <td>0.125</td>\n",
       "      <td>-71.375</td>\n",
       "      <td>52</td>\n",
       "      <td>4</td>\n",
       "      <td>726858</td>\n",
       "      <td>726841</td>\n",
       "    </tr>\n",
       "  </tbody>\n",
       "</table>\n",
       "</div>"
      ],
      "text/plain": [
       "              lon     lat  duration  ievent  time_peak  time_start\n",
       "date                                                              \n",
       "1982-01-01  0.125 -71.375        13       0     723552      723546\n",
       "1982-12-20  0.125 -71.375        33       1     723901      723899\n",
       "1985-01-30  0.125 -71.375        10       2     724677      724671\n",
       "1988-01-10  0.125 -71.375         9       3     725752      725746\n",
       "1991-01-09  0.125 -71.375        52       4     726858      726841"
      ]
     },
     "execution_count": 5,
     "metadata": {},
     "output_type": "execute_result"
    }
   ],
   "source": [
    "mhw_events = mhw_events.set_index('date')\n",
    "mhw_events.head()"
   ]
  },
  {
   "cell_type": "markdown",
   "metadata": {},
   "source": [
    "# Size the Cube"
   ]
  },
  {
   "cell_type": "markdown",
   "metadata": {},
   "source": [
    "## Load climate for spatial dimensions"
   ]
  },
  {
   "cell_type": "code",
   "execution_count": 14,
   "metadata": {},
   "outputs": [],
   "source": [
    "climate_file = '/home/xavier/Projects/Oceanography/MHW/db/NOAA_OI_climate_1983-2012.nc'"
   ]
  },
  {
   "cell_type": "code",
   "execution_count": 15,
   "metadata": {},
   "outputs": [
    {
     "data": {
      "text/html": [
       "\n",
       "<style>\n",
       "  a.iris {\n",
       "      text-decoration: none !important;\n",
       "  }\n",
       "  table.iris {\n",
       "      white-space: pre;\n",
       "      border: 1px solid;\n",
       "      border-color: #9c9c9c;\n",
       "      font-family: monaco, monospace;\n",
       "  }\n",
       "  th.iris {\n",
       "      background: #303f3f;\n",
       "      color: #e0e0e0;\n",
       "      border-left: 1px solid;\n",
       "      border-color: #9c9c9c;\n",
       "      font-size: 1.05em;\n",
       "      min-width: 50px;\n",
       "      max-width: 125px;\n",
       "  }\n",
       "  tr.iris :first-child {\n",
       "      border-right: 1px solid #9c9c9c !important;\n",
       "  }\n",
       "  td.iris-title {\n",
       "      background: #d5dcdf;\n",
       "      border-top: 1px solid #9c9c9c;\n",
       "      font-weight: bold;\n",
       "  }\n",
       "  .iris-word-cell {\n",
       "      text-align: left !important;\n",
       "      white-space: pre;\n",
       "  }\n",
       "  .iris-subheading-cell {\n",
       "      padding-left: 2em !important;\n",
       "  }\n",
       "  .iris-inclusion-cell {\n",
       "      padding-right: 1em !important;\n",
       "  }\n",
       "  .iris-panel-body {\n",
       "      padding-top: 0px;\n",
       "  }\n",
       "  .iris-panel-title {\n",
       "      padding-left: 3em;\n",
       "  }\n",
       "  .iris-panel-title {\n",
       "      margin-top: 7px;\n",
       "  }\n",
       "</style>\n",
       "<table class=\"iris\" id=\"140017682100688\">\n",
       "    <tr class=\"iris\">\n",
       "<th class=\"iris iris-word-cell\">Seasonalt (C)</th>\n",
       "<th class=\"iris iris-word-cell\">day</th>\n",
       "<th class=\"iris iris-word-cell\">latitude</th>\n",
       "<th class=\"iris iris-word-cell\">longitude</th>\n",
       "</tr>\n",
       "    <tr class=\"iris\">\n",
       "<td class=\"iris-word-cell iris-subheading-cell\">Shape</td>\n",
       "<td class=\"iris iris-inclusion-cell\">366</td>\n",
       "<td class=\"iris iris-inclusion-cell\">720</td>\n",
       "<td class=\"iris iris-inclusion-cell\">1440</td>\n",
       "</tr>\n",
       "    <tr class=\"iris\">\n",
       "    <td class=\"iris-title iris-word-cell\">Dimension coordinates</td>\n",
       "    <td class=\"iris-title\"></td>\n",
       "    <td class=\"iris-title\"></td>\n",
       "    <td class=\"iris-title\"></td>\n",
       "</tr>\n",
       "<tr class=\"iris\">\n",
       "    <td class=\"iris-word-cell iris-subheading-cell\">\tday</td>\n",
       "    <td class=\"iris-inclusion-cell\">x</td>\n",
       "    <td class=\"iris-inclusion-cell\">-</td>\n",
       "    <td class=\"iris-inclusion-cell\">-</td>\n",
       "</tr>\n",
       "<tr class=\"iris\">\n",
       "    <td class=\"iris-word-cell iris-subheading-cell\">\tlatitude</td>\n",
       "    <td class=\"iris-inclusion-cell\">-</td>\n",
       "    <td class=\"iris-inclusion-cell\">x</td>\n",
       "    <td class=\"iris-inclusion-cell\">-</td>\n",
       "</tr>\n",
       "<tr class=\"iris\">\n",
       "    <td class=\"iris-word-cell iris-subheading-cell\">\tlongitude</td>\n",
       "    <td class=\"iris-inclusion-cell\">-</td>\n",
       "    <td class=\"iris-inclusion-cell\">-</td>\n",
       "    <td class=\"iris-inclusion-cell\">x</td>\n",
       "</tr>\n",
       "<tr class=\"iris\">\n",
       "    <td class=\"iris-title iris-word-cell\">Attributes</td>\n",
       "    <td class=\"iris-title\"></td>\n",
       "    <td class=\"iris-title\"></td>\n",
       "    <td class=\"iris-title\"></td>\n",
       "</tr>\n",
       "<tr class=\"iris\">\n",
       "    <td class=\"iris-word-cell iris-subheading-cell\">\tConventions</td>\n",
       "    <td class=\"iris-word-cell\" colspan=\"3\">CF-1.7</td>\n",
       "</tr>\n",
       "</table>\n",
       "        "
      ],
      "text/plain": [
       "<iris 'Cube' of seasonalT / (C) (day: 366; latitude: 720; longitude: 1440)>"
      ]
     },
     "execution_count": 15,
     "metadata": {},
     "output_type": "execute_result"
    }
   ],
   "source": [
    "cube = iris.load(climate_file)\n",
    "climate = cube[0]\n",
    "climate"
   ]
  },
  {
   "cell_type": "markdown",
   "metadata": {},
   "source": [
    "### lat, lon"
   ]
  },
  {
   "cell_type": "code",
   "execution_count": 17,
   "metadata": {},
   "outputs": [
    {
     "data": {
      "text/plain": [
       "array([-89.875, -89.625, -89.375, -89.125, -88.875], dtype=float32)"
      ]
     },
     "execution_count": 17,
     "metadata": {},
     "output_type": "execute_result"
    }
   ],
   "source": [
    "lat = climate.coord('latitude').points\n",
    "lat[0:5]"
   ]
  },
  {
   "cell_type": "code",
   "execution_count": 18,
   "metadata": {},
   "outputs": [
    {
     "data": {
      "text/plain": [
       "array([0.125, 0.375, 0.625, 0.875, 1.125], dtype=float32)"
      ]
     },
     "execution_count": 18,
     "metadata": {},
     "output_type": "execute_result"
    }
   ],
   "source": [
    "lon = climate.coord('longitude').points\n",
    "lon[0:5]"
   ]
  },
  {
   "cell_type": "markdown",
   "metadata": {},
   "source": [
    "## Time"
   ]
  },
  {
   "cell_type": "code",
   "execution_count": 19,
   "metadata": {},
   "outputs": [
    {
     "data": {
      "text/plain": [
       "723546"
      ]
     },
     "execution_count": 19,
     "metadata": {},
     "output_type": "execute_result"
    }
   ],
   "source": [
    "min_time = np.min(mhw_events['time_start'])\n",
    "min_time"
   ]
  },
  {
   "cell_type": "code",
   "execution_count": 20,
   "metadata": {},
   "outputs": [
    {
     "data": {
      "text/plain": [
       "723546"
      ]
     },
     "execution_count": 20,
     "metadata": {},
     "output_type": "execute_result"
    }
   ],
   "source": [
    "date(1982,1,1).toordinal()"
   ]
  },
  {
   "cell_type": "code",
   "execution_count": 22,
   "metadata": {},
   "outputs": [
    {
     "data": {
      "text/plain": [
       "737425"
      ]
     },
     "execution_count": 22,
     "metadata": {},
     "output_type": "execute_result"
    }
   ],
   "source": [
    "max_time = np.max(mhw_events['time_start'] + mhw_events['duration'])\n",
    "max_time"
   ]
  },
  {
   "cell_type": "code",
   "execution_count": 23,
   "metadata": {},
   "outputs": [
    {
     "data": {
      "text/plain": [
       "737424"
      ]
     },
     "execution_count": 23,
     "metadata": {},
     "output_type": "execute_result"
    }
   ],
   "source": [
    "date(2019,12,31).toordinal()"
   ]
  },
  {
   "cell_type": "code",
   "execution_count": 24,
   "metadata": {},
   "outputs": [
    {
     "data": {
      "text/plain": [
       "13879"
      ]
     },
     "execution_count": 24,
     "metadata": {},
     "output_type": "execute_result"
    }
   ],
   "source": [
    "max_time-min_time"
   ]
  },
  {
   "cell_type": "code",
   "execution_count": 27,
   "metadata": {},
   "outputs": [
    {
     "data": {
      "text/plain": [
       "13879"
      ]
     },
     "execution_count": 27,
     "metadata": {},
     "output_type": "execute_result"
    }
   ],
   "source": [
    "ntimes = date(2019,12,31).toordinal() - date(1982,1,1).toordinal() + 1\n",
    "ntimes"
   ]
  },
  {
   "cell_type": "markdown",
   "metadata": {},
   "source": [
    "# Cube"
   ]
  },
  {
   "cell_type": "markdown",
   "metadata": {},
   "source": [
    "## Init"
   ]
  },
  {
   "cell_type": "code",
   "execution_count": 26,
   "metadata": {},
   "outputs": [],
   "source": [
    "cube = np.zeros((720,1440,ntimes), dtype=bool)"
   ]
  },
  {
   "cell_type": "markdown",
   "metadata": {},
   "source": [
    "## Do It!"
   ]
  },
  {
   "cell_type": "code",
   "execution_count": 39,
   "metadata": {},
   "outputs": [
    {
     "data": {
      "text/plain": [
       "array([   0,    0,    0, ..., 1439, 1439, 1439], dtype=int32)"
      ]
     },
     "execution_count": 39,
     "metadata": {},
     "output_type": "execute_result"
    }
   ],
   "source": [
    "ilon = ((mhw_events['lon'].values-0.125)/0.25).astype(np.int32)\n",
    "ilon"
   ]
  },
  {
   "cell_type": "code",
   "execution_count": 40,
   "metadata": {},
   "outputs": [
    {
     "data": {
      "text/plain": [
       "array([ 74,  74,  74, ..., 718, 718, 718], dtype=int32)"
      ]
     },
     "execution_count": 40,
     "metadata": {},
     "output_type": "execute_result"
    }
   ],
   "source": [
    "jlat = ((mhw_events['lat'].values+89.975)/0.25).astype(np.int32)\n",
    "jlat"
   ]
  },
  {
   "cell_type": "code",
   "execution_count": 62,
   "metadata": {},
   "outputs": [
    {
     "name": "stdout",
     "output_type": "stream",
     "text": [
      "kk = 0\n",
      "kk = 1000000\n",
      "kk = 2000000\n",
      "kk = 3000000\n",
      "kk = 4000000\n",
      "kk = 5000000\n",
      "kk = 6000000\n",
      "kk = 7000000\n",
      "kk = 8000000\n",
      "kk = 9000000\n",
      "kk = 10000000\n",
      "kk = 11000000\n",
      "kk = 12000000\n",
      "kk = 13000000\n",
      "kk = 14000000\n",
      "kk = 15000000\n",
      "kk = 16000000\n",
      "kk = 17000000\n",
      "kk = 18000000\n",
      "kk = 19000000\n",
      "kk = 20000000\n",
      "kk = 21000000\n",
      "kk = 22000000\n",
      "kk = 23000000\n",
      "kk = 24000000\n",
      "kk = 25000000\n",
      "kk = 26000000\n",
      "kk = 27000000\n",
      "kk = 28000000\n",
      "kk = 29000000\n",
      "kk = 30000000\n",
      "kk = 31000000\n",
      "kk = 32000000\n",
      "kk = 33000000\n",
      "kk = 34000000\n",
      "kk = 35000000\n",
      "kk = 36000000\n",
      "kk = 37000000\n",
      "kk = 38000000\n",
      "kk = 39000000\n",
      "kk = 40000000\n",
      "kk = 41000000\n",
      "kk = 42000000\n",
      "kk = 43000000\n",
      "kk = 44000000\n",
      "kk = 45000000\n",
      "kk = 46000000\n",
      "kk = 47000000\n",
      "kk = 48000000\n",
      "kk = 49000000\n",
      "kk = 50000000\n",
      "kk = 51000000\n",
      "kk = 52000000\n",
      "kk = 53000000\n",
      "kk = 54000000\n",
      "kk = 55000000\n",
      "kk = 56000000\n",
      "kk = 57000000\n"
     ]
    }
   ],
   "source": [
    "tstart = mhw_events['time_start'].values\n",
    "durs = mhw_events['duration'].values\n",
    "cube[:] = False\n",
    "for kk in range(len(mhw_events)):\n",
    "    # Convenience\n",
    "    #iilon, jjlat, tstart, dur = ilon[kk], jlat[kk], time_start[kk], durations[kk]\n",
    "    #\n",
    "    if kk % 1000000 == 0:\n",
    "        print('kk = {}'.format(kk))\n",
    "    cube[jlat[kk], ilon[kk], tstart[kk]-min_time:tstart[kk]-min_time+durs[kk]] = True"
   ]
  },
  {
   "cell_type": "markdown",
   "metadata": {},
   "source": [
    "# Save"
   ]
  },
  {
   "cell_type": "code",
   "execution_count": 63,
   "metadata": {},
   "outputs": [],
   "source": [
    "np.savez_compressed('/home/xavier/Projects/Oceanography/MHW/db/MHWevent_cube.npz', cube=cube)"
   ]
  },
  {
   "cell_type": "markdown",
   "metadata": {},
   "source": [
    "# Load"
   ]
  },
  {
   "cell_type": "code",
   "execution_count": 64,
   "metadata": {},
   "outputs": [],
   "source": [
    "tmp = np.load('/home/xavier/Projects/Oceanography/MHW/db/MHWevent_cube.npz')"
   ]
  },
  {
   "cell_type": "code",
   "execution_count": 68,
   "metadata": {},
   "outputs": [],
   "source": [
    "tmp2 = tmp['cube']"
   ]
  },
  {
   "cell_type": "code",
   "execution_count": 71,
   "metadata": {},
   "outputs": [
    {
     "data": {
      "text/plain": [
       "1"
      ]
     },
     "execution_count": 71,
     "metadata": {},
     "output_type": "execute_result"
    }
   ],
   "source": [
    "tmp2.itemsize"
   ]
  },
  {
   "cell_type": "code",
   "execution_count": 72,
   "metadata": {},
   "outputs": [
    {
     "data": {
      "text/plain": [
       "846721274"
      ]
     },
     "execution_count": 72,
     "metadata": {},
     "output_type": "execute_result"
    }
   ],
   "source": [
    "np.sum(tmp2)"
   ]
  },
  {
   "cell_type": "code",
   "execution_count": null,
   "metadata": {},
   "outputs": [],
   "source": []
  }
 ],
 "metadata": {
  "kernelspec": {
   "display_name": "Python 3",
   "language": "python",
   "name": "python3"
  },
  "language_info": {
   "codemirror_mode": {
    "name": "ipython",
    "version": 3
   },
   "file_extension": ".py",
   "mimetype": "text/x-python",
   "name": "python",
   "nbconvert_exporter": "python",
   "pygments_lexer": "ipython3",
   "version": "3.7.3"
  }
 },
 "nbformat": 4,
 "nbformat_minor": 4
}
