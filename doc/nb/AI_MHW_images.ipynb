{
 "cells": [
  {
   "cell_type": "markdown",
   "metadata": {},
   "source": [
    "# AI MHW Images"
   ]
  },
  {
   "cell_type": "code",
   "execution_count": 3,
   "metadata": {},
   "outputs": [],
   "source": [
    "# imports\n",
    "import os\n",
    "import numpy as np\n",
    "from matplotlib import pyplot as plt\n",
    "\n",
    "import iris"
   ]
  },
  {
   "cell_type": "markdown",
   "metadata": {},
   "source": [
    "# Input (Z500)"
   ]
  },
  {
   "cell_type": "markdown",
   "metadata": {},
   "source": [
    "## Load the Cubes"
   ]
  },
  {
   "cell_type": "code",
   "execution_count": 4,
   "metadata": {},
   "outputs": [],
   "source": [
    "path = '/home/xavier/Projects/Oceanography/data/CEMS-LENS/Z500'"
   ]
  },
  {
   "cell_type": "code",
   "execution_count": 5,
   "metadata": {},
   "outputs": [],
   "source": [
    "zfile = os.path.join(path, 'b.e11.B20TRC5CNBDRD.f09_g16.008.cam.h1.Z500.19200101-20051231.nc')"
   ]
  },
  {
   "cell_type": "code",
   "execution_count": 6,
   "metadata": {},
   "outputs": [
    {
     "name": "stderr",
     "output_type": "stream",
     "text": [
      "/home/xavier/anaconda3/lib/python3.7/site-packages/iris/fileformats/cf.py:561: UserWarning: Missing CF-netCDF formula term variable 'PS', referenced by netCDF variable 'ilev'\n",
      "  warnings.warn(message % (variable_name, nc_var_name))\n",
      "/home/xavier/anaconda3/lib/python3.7/site-packages/iris/fileformats/cf.py:561: UserWarning: Missing CF-netCDF formula term variable 'PS', referenced by netCDF variable 'lev'\n",
      "  warnings.warn(message % (variable_name, nc_var_name))\n",
      "/home/xavier/anaconda3/lib/python3.7/site-packages/iris/fileformats/_pyke_rules/compiled_krb/fc_rules_cf_fc.py:2342: UserWarning: Failed to create 'time' dimension coordinate: The 'time' DimCoord bounds array must be strictly monotonic.\n",
      "Gracefully creating 'time' auxiliary coordinate instead.\n",
      "  error=e_msg))\n",
      "/home/xavier/anaconda3/lib/python3.7/site-packages/iris/fileformats/_pyke_rules/compiled_krb/fc_rules_cf_fc.py:2342: UserWarning: Failed to create 'time' dimension coordinate: The 'time' DimCoord bounds array must be strictly monotonic.\n",
      "Gracefully creating 'time' auxiliary coordinate instead.\n",
      "  error=e_msg))\n",
      "/home/xavier/anaconda3/lib/python3.7/site-packages/iris/fileformats/_pyke_rules/compiled_krb/fc_rules_cf_fc.py:2342: UserWarning: Failed to create 'time' dimension coordinate: The 'time' DimCoord bounds array must be strictly monotonic.\n",
      "Gracefully creating 'time' auxiliary coordinate instead.\n",
      "  error=e_msg))\n",
      "/home/xavier/anaconda3/lib/python3.7/site-packages/iris/fileformats/_pyke_rules/compiled_krb/fc_rules_cf_fc.py:2342: UserWarning: Failed to create 'time' dimension coordinate: The 'time' DimCoord bounds array must be strictly monotonic.\n",
      "Gracefully creating 'time' auxiliary coordinate instead.\n",
      "  error=e_msg))\n",
      "/home/xavier/anaconda3/lib/python3.7/site-packages/iris/fileformats/_pyke_rules/compiled_krb/fc_rules_cf_fc.py:2342: UserWarning: Failed to create 'time' dimension coordinate: The 'time' DimCoord bounds array must be strictly monotonic.\n",
      "Gracefully creating 'time' auxiliary coordinate instead.\n",
      "  error=e_msg))\n",
      "/home/xavier/anaconda3/lib/python3.7/site-packages/iris/fileformats/_pyke_rules/compiled_krb/fc_rules_cf_fc.py:2342: UserWarning: Failed to create 'time' dimension coordinate: The 'time' DimCoord bounds array must be strictly monotonic.\n",
      "Gracefully creating 'time' auxiliary coordinate instead.\n",
      "  error=e_msg))\n",
      "/home/xavier/anaconda3/lib/python3.7/site-packages/iris/fileformats/_pyke_rules/compiled_krb/fc_rules_cf_fc.py:2342: UserWarning: Failed to create 'time' dimension coordinate: The 'time' DimCoord bounds array must be strictly monotonic.\n",
      "Gracefully creating 'time' auxiliary coordinate instead.\n",
      "  error=e_msg))\n",
      "/home/xavier/anaconda3/lib/python3.7/site-packages/iris/fileformats/_pyke_rules/compiled_krb/fc_rules_cf_fc.py:2342: UserWarning: Failed to create 'time' dimension coordinate: The 'time' DimCoord bounds array must be strictly monotonic.\n",
      "Gracefully creating 'time' auxiliary coordinate instead.\n",
      "  error=e_msg))\n",
      "/home/xavier/anaconda3/lib/python3.7/site-packages/iris/fileformats/_pyke_rules/compiled_krb/fc_rules_cf_fc.py:2342: UserWarning: Failed to create 'time' dimension coordinate: The 'time' DimCoord bounds array must be strictly monotonic.\n",
      "Gracefully creating 'time' auxiliary coordinate instead.\n",
      "  error=e_msg))\n",
      "/home/xavier/anaconda3/lib/python3.7/site-packages/iris/fileformats/_pyke_rules/compiled_krb/fc_rules_cf_fc.py:2342: UserWarning: Failed to create 'time' dimension coordinate: The 'time' DimCoord bounds array must be strictly monotonic.\n",
      "Gracefully creating 'time' auxiliary coordinate instead.\n",
      "  error=e_msg))\n",
      "/home/xavier/anaconda3/lib/python3.7/site-packages/iris/fileformats/_pyke_rules/compiled_krb/fc_rules_cf_fc.py:2342: UserWarning: Failed to create 'time' dimension coordinate: The 'time' DimCoord bounds array must be strictly monotonic.\n",
      "Gracefully creating 'time' auxiliary coordinate instead.\n",
      "  error=e_msg))\n",
      "/home/xavier/anaconda3/lib/python3.7/site-packages/iris/fileformats/_pyke_rules/compiled_krb/fc_rules_cf_fc.py:2342: UserWarning: Failed to create 'time' dimension coordinate: The 'time' DimCoord bounds array must be strictly monotonic.\n",
      "Gracefully creating 'time' auxiliary coordinate instead.\n",
      "  error=e_msg))\n",
      "/home/xavier/anaconda3/lib/python3.7/site-packages/iris/fileformats/_pyke_rules/compiled_krb/fc_rules_cf_fc.py:2342: UserWarning: Failed to create 'time' dimension coordinate: The 'time' DimCoord bounds array must be strictly monotonic.\n",
      "Gracefully creating 'time' auxiliary coordinate instead.\n",
      "  error=e_msg))\n",
      "/home/xavier/anaconda3/lib/python3.7/site-packages/iris/fileformats/_pyke_rules/compiled_krb/fc_rules_cf_fc.py:2342: UserWarning: Failed to create 'time' dimension coordinate: The 'time' DimCoord bounds array must be strictly monotonic.\n",
      "Gracefully creating 'time' auxiliary coordinate instead.\n",
      "  error=e_msg))\n"
     ]
    }
   ],
   "source": [
    "cubes = iris.load(zfile)"
   ]
  },
  {
   "cell_type": "code",
   "execution_count": null,
   "metadata": {},
   "outputs": [],
   "source": [
    "## "
   ]
  }
 ],
 "metadata": {
  "kernelspec": {
   "display_name": "Python 3",
   "language": "python",
   "name": "python3"
  },
  "language_info": {
   "codemirror_mode": {
    "name": "ipython",
    "version": 3
   },
   "file_extension": ".py",
   "mimetype": "text/x-python",
   "name": "python",
   "nbconvert_exporter": "python",
   "pygments_lexer": "ipython3",
   "version": "3.7.6"
  }
 },
 "nbformat": 4,
 "nbformat_minor": 4
}
