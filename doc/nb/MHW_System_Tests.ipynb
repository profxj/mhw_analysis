{
 "cells": [
  {
   "cell_type": "markdown",
   "metadata": {},
   "source": [
    "# Testing MHW Systems"
   ]
  },
  {
   "cell_type": "code",
   "execution_count": 50,
   "metadata": {},
   "outputs": [],
   "source": [
    "# imports\n",
    "from importlib import reload\n",
    "import numpy as np\n",
    "import os\n",
    "from matplotlib import pyplot as plt\n",
    "from pkg_resources import resource_filename\n",
    "\n",
    "from datetime import date\n",
    "\n",
    "import pandas\n",
    "import sqlalchemy\n",
    "import iris\n",
    "import iris.quickplot as qplt\n",
    "\n",
    "import h5py\n",
    "\n",
    "from oceanpy.sst import io as sst_io\n",
    "from oceanpy.sst import utils as sst_utils\n",
    "from mhw_analysis.systems import cube as mhw_cube\n",
    "from mhw_analysis.systems import build as mhw_build\n",
    "from mhw_analysis.systems import io as mhw_sys_io"
   ]
  },
  {
   "cell_type": "markdown",
   "metadata": {},
   "source": [
    "# Load a few things for guidance"
   ]
  },
  {
   "cell_type": "code",
   "execution_count": 2,
   "metadata": {},
   "outputs": [],
   "source": [
    "SST = sst_io.load_noaa((1, 1, 2014))"
   ]
  },
  {
   "cell_type": "code",
   "execution_count": 3,
   "metadata": {},
   "outputs": [
    {
     "data": {
      "text/html": [
       "\n",
       "<style>\n",
       "  a.iris {\n",
       "      text-decoration: none !important;\n",
       "  }\n",
       "  table.iris {\n",
       "      white-space: pre;\n",
       "      border: 1px solid;\n",
       "      border-color: #9c9c9c;\n",
       "      font-family: monaco, monospace;\n",
       "  }\n",
       "  th.iris {\n",
       "      background: #303f3f;\n",
       "      color: #e0e0e0;\n",
       "      border-left: 1px solid;\n",
       "      border-color: #9c9c9c;\n",
       "      font-size: 1.05em;\n",
       "      min-width: 50px;\n",
       "      max-width: 125px;\n",
       "  }\n",
       "  tr.iris :first-child {\n",
       "      border-right: 1px solid #9c9c9c !important;\n",
       "  }\n",
       "  td.iris-title {\n",
       "      background: #d5dcdf;\n",
       "      border-top: 1px solid #9c9c9c;\n",
       "      font-weight: bold;\n",
       "  }\n",
       "  .iris-word-cell {\n",
       "      text-align: left !important;\n",
       "      white-space: pre;\n",
       "  }\n",
       "  .iris-subheading-cell {\n",
       "      padding-left: 2em !important;\n",
       "  }\n",
       "  .iris-inclusion-cell {\n",
       "      padding-right: 1em !important;\n",
       "  }\n",
       "  .iris-panel-body {\n",
       "      padding-top: 0px;\n",
       "  }\n",
       "  .iris-panel-title {\n",
       "      padding-left: 3em;\n",
       "  }\n",
       "  .iris-panel-title {\n",
       "      margin-top: 7px;\n",
       "  }\n",
       "</style>\n",
       "<table class=\"iris\" id=\"140107019781200\">\n",
       "    <tr class=\"iris\">\n",
       "<th class=\"iris iris-word-cell\">Daily Sea Surface Temperature (degC)</th>\n",
       "<th class=\"iris iris-word-cell\">latitude</th>\n",
       "<th class=\"iris iris-word-cell\">longitude</th>\n",
       "</tr>\n",
       "    <tr class=\"iris\">\n",
       "<td class=\"iris-word-cell iris-subheading-cell\">Shape</td>\n",
       "<td class=\"iris iris-inclusion-cell\">720</td>\n",
       "<td class=\"iris iris-inclusion-cell\">1440</td>\n",
       "</tr>\n",
       "    <tr class=\"iris\">\n",
       "    <td class=\"iris-title iris-word-cell\">Dimension coordinates</td>\n",
       "    <td class=\"iris-title\"></td>\n",
       "    <td class=\"iris-title\"></td>\n",
       "</tr>\n",
       "<tr class=\"iris\">\n",
       "    <td class=\"iris-word-cell iris-subheading-cell\">\tlatitude</td>\n",
       "    <td class=\"iris-inclusion-cell\">x</td>\n",
       "    <td class=\"iris-inclusion-cell\">-</td>\n",
       "</tr>\n",
       "<tr class=\"iris\">\n",
       "    <td class=\"iris-word-cell iris-subheading-cell\">\tlongitude</td>\n",
       "    <td class=\"iris-inclusion-cell\">-</td>\n",
       "    <td class=\"iris-inclusion-cell\">x</td>\n",
       "</tr>\n",
       "<tr class=\"iris\">\n",
       "    <td class=\"iris-title iris-word-cell\">Scalar coordinates</td>\n",
       "    <td class=\"iris-title\"></td>\n",
       "    <td class=\"iris-title\"></td>\n",
       "</tr>\n",
       "<tr class=\"iris\">\n",
       "    <td class=\"iris-word-cell iris-subheading-cell\">\ttime</td>\n",
       "    <td class=\"iris-word-cell\" colspan=\"2\">2014-01-01 00:00:00</td>\n",
       "</tr>\n",
       "<tr class=\"iris\">\n",
       "    <td class=\"iris-title iris-word-cell\">Attributes</td>\n",
       "    <td class=\"iris-title\"></td>\n",
       "    <td class=\"iris-title\"></td>\n",
       "</tr>\n",
       "<tr class=\"iris\">\n",
       "    <td class=\"iris-word-cell iris-subheading-cell\">\tConventions</td>\n",
       "    <td class=\"iris-word-cell\" colspan=\"2\">CF-1.5</td>\n",
       "</tr>\n",
       "<tr class=\"iris\">\n",
       "    <td class=\"iris-word-cell iris-subheading-cell\">\tReferences</td>\n",
       "    <td class=\"iris-word-cell\" colspan=\"2\">https://www.psl.noaa.gov/data/gridded/data.noaa.oisst.v2.highres.html</td>\n",
       "</tr>\n",
       "<tr class=\"iris\">\n",
       "    <td class=\"iris-word-cell iris-subheading-cell\">\tactual_range</td>\n",
       "    <td class=\"iris-word-cell\" colspan=\"2\">[-1.8 34.8]</td>\n",
       "</tr>\n",
       "<tr class=\"iris\">\n",
       "    <td class=\"iris-word-cell iris-subheading-cell\">\tcomment</td>\n",
       "    <td class=\"iris-word-cell\" colspan=\"2\">Reynolds, et al., 2007: Daily High-Resolution-Blended Analyses for Sea...</td>\n",
       "</tr>\n",
       "<tr class=\"iris\">\n",
       "    <td class=\"iris-word-cell iris-subheading-cell\">\tdataset</td>\n",
       "    <td class=\"iris-word-cell\" colspan=\"2\">NOAA High-resolution Blended Analysis</td>\n",
       "</tr>\n",
       "<tr class=\"iris\">\n",
       "    <td class=\"iris-word-cell iris-subheading-cell\">\tdataset_title</td>\n",
       "    <td class=\"iris-word-cell\" colspan=\"2\">NOAA Daily Optimum Interpolation Sea Surface Temperature</td>\n",
       "</tr>\n",
       "<tr class=\"iris\">\n",
       "    <td class=\"iris-word-cell iris-subheading-cell\">\thistory</td>\n",
       "    <td class=\"iris-word-cell\" colspan=\"2\">Thu Aug 24 13:51:51 2017: ncatted -O -a References,global,d,, sst.day.mean.2014.v2.nc<br>Version...</td>\n",
       "</tr>\n",
       "<tr class=\"iris\">\n",
       "    <td class=\"iris-word-cell iris-subheading-cell\">\tinstitution</td>\n",
       "    <td class=\"iris-word-cell\" colspan=\"2\">NOAA/NCDC</td>\n",
       "</tr>\n",
       "<tr class=\"iris\">\n",
       "    <td class=\"iris-word-cell iris-subheading-cell\">\tlevel_desc</td>\n",
       "    <td class=\"iris-word-cell\" colspan=\"2\">Surface</td>\n",
       "</tr>\n",
       "<tr class=\"iris\">\n",
       "    <td class=\"iris-word-cell iris-subheading-cell\">\tparent_stat</td>\n",
       "    <td class=\"iris-word-cell\" colspan=\"2\">Individual Observations</td>\n",
       "</tr>\n",
       "<tr class=\"iris\">\n",
       "    <td class=\"iris-word-cell iris-subheading-cell\">\tprecision</td>\n",
       "    <td class=\"iris-word-cell\" colspan=\"2\">2.0</td>\n",
       "</tr>\n",
       "<tr class=\"iris\">\n",
       "    <td class=\"iris-word-cell iris-subheading-cell\">\tsource</td>\n",
       "    <td class=\"iris-word-cell\" colspan=\"2\">NOAA/NCDC  ftp://eclipse.ncdc.noaa.gov/pub/OI-daily-v2/</td>\n",
       "</tr>\n",
       "<tr class=\"iris\">\n",
       "    <td class=\"iris-word-cell iris-subheading-cell\">\tstatistic</td>\n",
       "    <td class=\"iris-word-cell\" colspan=\"2\">Mean</td>\n",
       "</tr>\n",
       "<tr class=\"iris\">\n",
       "    <td class=\"iris-word-cell iris-subheading-cell\">\ttitle</td>\n",
       "    <td class=\"iris-word-cell\" colspan=\"2\">NOAA High-resolution Blended Analysis: Daily Values using AVHRR only</td>\n",
       "</tr>\n",
       "<tr class=\"iris\">\n",
       "    <td class=\"iris-word-cell iris-subheading-cell\">\tvalid_range</td>\n",
       "    <td class=\"iris-word-cell\" colspan=\"2\">[-3. 45.]</td>\n",
       "</tr>\n",
       "<tr class=\"iris\">\n",
       "    <td class=\"iris-word-cell iris-subheading-cell\">\tvar_desc</td>\n",
       "    <td class=\"iris-word-cell\" colspan=\"2\">Sea Surface Temperature</td>\n",
       "</tr>\n",
       "</table>\n",
       "        "
      ],
      "text/plain": [
       "<iris 'Cube' of Daily Sea Surface Temperature / (degC) (latitude: 720; longitude: 1440)>"
      ]
     },
     "execution_count": 3,
     "metadata": {},
     "output_type": "execute_result"
    }
   ],
   "source": [
    "SST"
   ]
  },
  {
   "cell_type": "code",
   "execution_count": 4,
   "metadata": {},
   "outputs": [
    {
     "data": {
      "text/plain": [
       "array([40.125, 40.375, 40.625, 40.875, 41.125, 41.375, 41.625, 41.875,\n",
       "       42.125, 42.375, 42.625, 42.875, 43.125, 43.375, 43.625, 43.875,\n",
       "       44.125, 44.375, 44.625, 44.875, 45.125, 45.375, 45.625, 45.875,\n",
       "       46.125, 46.375, 46.625, 46.875, 47.125, 47.375, 47.625, 47.875,\n",
       "       48.125, 48.375, 48.625, 48.875, 49.125, 49.375, 49.625, 49.875,\n",
       "       50.125, 50.375, 50.625, 50.875, 51.125, 51.375, 51.625, 51.875,\n",
       "       52.125, 52.375, 52.625, 52.875, 53.125, 53.375, 53.625, 53.875,\n",
       "       54.125, 54.375, 54.625, 54.875, 55.125, 55.375, 55.625, 55.875,\n",
       "       56.125, 56.375, 56.625, 56.875, 57.125, 57.375, 57.625, 57.875,\n",
       "       58.125, 58.375, 58.625, 58.875, 59.125, 59.375, 59.625, 59.875,\n",
       "       60.125, 60.375, 60.625, 60.875, 61.125, 61.375, 61.625, 61.875,\n",
       "       62.125, 62.375, 62.625, 62.875, 63.125, 63.375, 63.625, 63.875,\n",
       "       64.125, 64.375, 64.625, 64.875, 65.125, 65.375, 65.625, 65.875,\n",
       "       66.125, 66.375, 66.625, 66.875, 67.125, 67.375, 67.625, 67.875,\n",
       "       68.125, 68.375, 68.625, 68.875, 69.125, 69.375, 69.625, 69.875,\n",
       "       70.125, 70.375, 70.625, 70.875, 71.125, 71.375, 71.625, 71.875,\n",
       "       72.125, 72.375, 72.625, 72.875, 73.125, 73.375, 73.625, 73.875,\n",
       "       74.125, 74.375, 74.625, 74.875, 75.125, 75.375, 75.625, 75.875,\n",
       "       76.125, 76.375, 76.625, 76.875, 77.125, 77.375, 77.625, 77.875,\n",
       "       78.125, 78.375, 78.625, 78.875, 79.125, 79.375, 79.625, 79.875,\n",
       "       80.125, 80.375, 80.625, 80.875, 81.125, 81.375, 81.625, 81.875,\n",
       "       82.125, 82.375, 82.625, 82.875, 83.125, 83.375, 83.625, 83.875,\n",
       "       84.125, 84.375, 84.625, 84.875, 85.125, 85.375, 85.625, 85.875,\n",
       "       86.125, 86.375, 86.625, 86.875, 87.125, 87.375, 87.625, 87.875,\n",
       "       88.125, 88.375, 88.625, 88.875, 89.125, 89.375, 89.625, 89.875],\n",
       "      dtype=float32)"
      ]
     },
     "execution_count": 4,
     "metadata": {},
     "output_type": "execute_result"
    }
   ],
   "source": [
    "lats = SST.coord('latitude').points\n",
    "lats[lats>40.]"
   ]
  },
  {
   "cell_type": "code",
   "execution_count": 5,
   "metadata": {},
   "outputs": [
    {
     "data": {
      "text/plain": [
       "array([200.125, 200.375, 200.625, 200.875, 201.125, 201.375, 201.625,\n",
       "       201.875, 202.125, 202.375, 202.625, 202.875, 203.125, 203.375,\n",
       "       203.625, 203.875, 204.125, 204.375, 204.625, 204.875, 205.125,\n",
       "       205.375, 205.625, 205.875, 206.125, 206.375, 206.625, 206.875,\n",
       "       207.125, 207.375, 207.625, 207.875, 208.125, 208.375, 208.625,\n",
       "       208.875, 209.125, 209.375, 209.625, 209.875, 210.125, 210.375,\n",
       "       210.625, 210.875, 211.125, 211.375, 211.625, 211.875, 212.125,\n",
       "       212.375, 212.625, 212.875, 213.125, 213.375, 213.625, 213.875,\n",
       "       214.125, 214.375, 214.625, 214.875, 215.125, 215.375, 215.625,\n",
       "       215.875, 216.125, 216.375, 216.625, 216.875, 217.125, 217.375,\n",
       "       217.625, 217.875, 218.125, 218.375, 218.625, 218.875, 219.125,\n",
       "       219.375, 219.625, 219.875, 220.125, 220.375, 220.625, 220.875,\n",
       "       221.125, 221.375, 221.625, 221.875, 222.125, 222.375, 222.625,\n",
       "       222.875, 223.125, 223.375, 223.625, 223.875, 224.125, 224.375,\n",
       "       224.625, 224.875, 225.125, 225.375, 225.625, 225.875, 226.125,\n",
       "       226.375, 226.625, 226.875, 227.125, 227.375, 227.625, 227.875,\n",
       "       228.125, 228.375, 228.625, 228.875, 229.125, 229.375, 229.625,\n",
       "       229.875], dtype=float32)"
      ]
     },
     "execution_count": 5,
     "metadata": {},
     "output_type": "execute_result"
    }
   ],
   "source": [
    "lons = SST.coord('longitude').points\n",
    "lons[(lons > 200) & (lons < 230)]"
   ]
  },
  {
   "cell_type": "markdown",
   "metadata": {},
   "source": [
    "# Generate a faux pandas MHW Event table"
   ]
  },
  {
   "cell_type": "markdown",
   "metadata": {},
   "source": [
    "## Pacific"
   ]
  },
  {
   "cell_type": "markdown",
   "metadata": {},
   "source": [
    "### Locations"
   ]
  },
  {
   "cell_type": "code",
   "execution_count": 6,
   "metadata": {},
   "outputs": [
    {
     "data": {
      "text/plain": [
       "120"
      ]
     },
     "execution_count": 6,
     "metadata": {},
     "output_type": "execute_result"
    }
   ],
   "source": [
    "pac_lons = lons[(lons > 200) & (lons < 230)]\n",
    "pac_lons.size"
   ]
  },
  {
   "cell_type": "code",
   "execution_count": 7,
   "metadata": {},
   "outputs": [
    {
     "data": {
      "text/plain": [
       "80"
      ]
     },
     "execution_count": 7,
     "metadata": {},
     "output_type": "execute_result"
    }
   ],
   "source": [
    "pac_lats = lats[(lats>40.) & (lats < 60.)]\n",
    "pac_lats.size"
   ]
  },
  {
   "cell_type": "code",
   "execution_count": 8,
   "metadata": {},
   "outputs": [],
   "source": [
    "pac_XX, pac_YY = np.meshgrid(pac_lons, pac_lats)"
   ]
  },
  {
   "cell_type": "code",
   "execution_count": 9,
   "metadata": {},
   "outputs": [
    {
     "data": {
      "text/plain": [
       "(80, 120)"
      ]
     },
     "execution_count": 9,
     "metadata": {},
     "output_type": "execute_result"
    }
   ],
   "source": [
    "pac_XX.shape"
   ]
  },
  {
   "cell_type": "code",
   "execution_count": null,
   "metadata": {},
   "outputs": [],
   "source": []
  },
  {
   "cell_type": "markdown",
   "metadata": {},
   "source": [
    "### Times"
   ]
  },
  {
   "cell_type": "code",
   "execution_count": 10,
   "metadata": {},
   "outputs": [
    {
     "data": {
      "text/plain": [
       "735233"
      ]
     },
     "execution_count": 10,
     "metadata": {},
     "output_type": "execute_result"
    }
   ],
   "source": [
    "pac_date_end = date(2013, 12, 31)\n",
    "pac_date_end.toordinal()"
   ]
  },
  {
   "cell_type": "code",
   "execution_count": 11,
   "metadata": {},
   "outputs": [
    {
     "data": {
      "text/plain": [
       "array([[ 8, 32, 65, ..., 41, 77, 54],\n",
       "       [20, 70, 46, ..., 16, 70, 32],\n",
       "       [97, 84, 29, ..., 19, 62, 73],\n",
       "       ...,\n",
       "       [26, 75, 23, ..., 15,  9, 52],\n",
       "       [42, 53, 90, ..., 28, 45, 93],\n",
       "       [50, 48, 48, ..., 27, 39, 50]])"
      ]
     },
     "execution_count": 11,
     "metadata": {},
     "output_type": "execute_result"
    }
   ],
   "source": [
    "rand_dur = np.random.randint(5,100, pac_lats.size*pac_lons.size).reshape((80,120))\n",
    "rand_dur"
   ]
  },
  {
   "cell_type": "code",
   "execution_count": 12,
   "metadata": {},
   "outputs": [],
   "source": [
    "pac_start = pac_date_end.toordinal() - rand_dur"
   ]
  },
  {
   "cell_type": "code",
   "execution_count": 13,
   "metadata": {},
   "outputs": [
    {
     "data": {
      "text/plain": [
       "(80, 120)"
      ]
     },
     "execution_count": 13,
     "metadata": {},
     "output_type": "execute_result"
    }
   ],
   "source": [
    "pac_start.shape"
   ]
  },
  {
   "cell_type": "markdown",
   "metadata": {},
   "source": [
    "### Random categories"
   ]
  },
  {
   "cell_type": "code",
   "execution_count": 14,
   "metadata": {},
   "outputs": [],
   "source": [
    "ran_cat = np.random.randint(0,4, pac_lats.size*pac_lons.size).reshape((80,120))"
   ]
  },
  {
   "cell_type": "markdown",
   "metadata": {},
   "source": [
    "### Build em"
   ]
  },
  {
   "cell_type": "code",
   "execution_count": 15,
   "metadata": {},
   "outputs": [],
   "source": [
    "pac_mhw_events = dict(lat=[], lon=[], duration=[], time_start=[], category=[])\n",
    "for ii in range(pac_start.shape[0]):\n",
    "    for jj in range(pac_start.shape[1]):\n",
    "        # Fill it up\n",
    "        pac_mhw_events['lat'].append(pac_YY[ii,jj])\n",
    "        pac_mhw_events['lon'].append(pac_XX[ii,jj])\n",
    "        pac_mhw_events['duration'].append(rand_dur[ii,jj])\n",
    "        pac_mhw_events['time_start'].append(pac_start[ii,jj])\n",
    "        pac_mhw_events['category'].append(ran_cat[ii,jj])"
   ]
  },
  {
   "cell_type": "code",
   "execution_count": 16,
   "metadata": {},
   "outputs": [],
   "source": [
    "pac_tbl = pandas.DataFrame(pac_mhw_events)"
   ]
  },
  {
   "cell_type": "code",
   "execution_count": 17,
   "metadata": {},
   "outputs": [
    {
     "data": {
      "text/html": [
       "<div>\n",
       "<style scoped>\n",
       "    .dataframe tbody tr th:only-of-type {\n",
       "        vertical-align: middle;\n",
       "    }\n",
       "\n",
       "    .dataframe tbody tr th {\n",
       "        vertical-align: top;\n",
       "    }\n",
       "\n",
       "    .dataframe thead th {\n",
       "        text-align: right;\n",
       "    }\n",
       "</style>\n",
       "<table border=\"1\" class=\"dataframe\">\n",
       "  <thead>\n",
       "    <tr style=\"text-align: right;\">\n",
       "      <th></th>\n",
       "      <th>lat</th>\n",
       "      <th>lon</th>\n",
       "      <th>duration</th>\n",
       "      <th>time_start</th>\n",
       "      <th>category</th>\n",
       "    </tr>\n",
       "  </thead>\n",
       "  <tbody>\n",
       "    <tr>\n",
       "      <th>0</th>\n",
       "      <td>40.125</td>\n",
       "      <td>200.125</td>\n",
       "      <td>8</td>\n",
       "      <td>735225</td>\n",
       "      <td>1</td>\n",
       "    </tr>\n",
       "    <tr>\n",
       "      <th>1</th>\n",
       "      <td>40.125</td>\n",
       "      <td>200.375</td>\n",
       "      <td>32</td>\n",
       "      <td>735201</td>\n",
       "      <td>2</td>\n",
       "    </tr>\n",
       "    <tr>\n",
       "      <th>2</th>\n",
       "      <td>40.125</td>\n",
       "      <td>200.625</td>\n",
       "      <td>65</td>\n",
       "      <td>735168</td>\n",
       "      <td>3</td>\n",
       "    </tr>\n",
       "    <tr>\n",
       "      <th>3</th>\n",
       "      <td>40.125</td>\n",
       "      <td>200.875</td>\n",
       "      <td>65</td>\n",
       "      <td>735168</td>\n",
       "      <td>1</td>\n",
       "    </tr>\n",
       "    <tr>\n",
       "      <th>4</th>\n",
       "      <td>40.125</td>\n",
       "      <td>201.125</td>\n",
       "      <td>38</td>\n",
       "      <td>735195</td>\n",
       "      <td>1</td>\n",
       "    </tr>\n",
       "  </tbody>\n",
       "</table>\n",
       "</div>"
      ],
      "text/plain": [
       "      lat      lon  duration  time_start  category\n",
       "0  40.125  200.125         8      735225         1\n",
       "1  40.125  200.375        32      735201         2\n",
       "2  40.125  200.625        65      735168         3\n",
       "3  40.125  200.875        65      735168         1\n",
       "4  40.125  201.125        38      735195         1"
      ]
     },
     "execution_count": 17,
     "metadata": {},
     "output_type": "execute_result"
    }
   ],
   "source": [
    "pac_tbl.head()"
   ]
  },
  {
   "cell_type": "markdown",
   "metadata": {},
   "source": [
    "## Atlantic"
   ]
  },
  {
   "cell_type": "code",
   "execution_count": 18,
   "metadata": {},
   "outputs": [],
   "source": [
    "atl_lons = lons[(lons > (360-70)) & (lons < (360-20))]\n",
    "atl_lats = lats[(lats > 10) & (lats < 50)]"
   ]
  },
  {
   "cell_type": "code",
   "execution_count": 19,
   "metadata": {},
   "outputs": [
    {
     "data": {
      "text/plain": [
       "(32000,)"
      ]
     },
     "execution_count": 19,
     "metadata": {},
     "output_type": "execute_result"
    }
   ],
   "source": [
    "atl_XX, atl_YY = np.meshgrid(atl_lons, atl_lats)\n",
    "atl_XX = atl_XX.flatten()\n",
    "atl_YY = atl_YY.flatten()\n",
    "atl_XX.shape"
   ]
  },
  {
   "cell_type": "code",
   "execution_count": 20,
   "metadata": {},
   "outputs": [],
   "source": [
    "nrand_atl = 500"
   ]
  },
  {
   "cell_type": "code",
   "execution_count": 21,
   "metadata": {},
   "outputs": [
    {
     "data": {
      "text/plain": [
       "array([18147, 11306, 26761,  1730,  7687])"
      ]
     },
     "execution_count": 21,
     "metadata": {},
     "output_type": "execute_result"
    }
   ],
   "source": [
    "pos_rand = np.random.choice(np.arange(atl_XX.size), nrand_atl, replace=False)\n",
    "pos_rand[0:5]"
   ]
  },
  {
   "cell_type": "markdown",
   "metadata": {},
   "source": [
    "### Time"
   ]
  },
  {
   "cell_type": "code",
   "execution_count": 22,
   "metadata": {},
   "outputs": [],
   "source": [
    "atl_dur = 7"
   ]
  },
  {
   "cell_type": "code",
   "execution_count": 23,
   "metadata": {},
   "outputs": [],
   "source": [
    "atl_start = pac_date_end.toordinal() - np.random.randint(10,100, nrand_atl)"
   ]
  },
  {
   "cell_type": "code",
   "execution_count": 24,
   "metadata": {},
   "outputs": [],
   "source": [
    "atl_cat = np.random.randint(0,4, nrand_atl)"
   ]
  },
  {
   "cell_type": "markdown",
   "metadata": {},
   "source": [
    "### Build em"
   ]
  },
  {
   "cell_type": "code",
   "execution_count": 25,
   "metadata": {},
   "outputs": [],
   "source": [
    "atl_mhw_events = dict(lat=[], lon=[], duration=[], time_start=[], category=[])\n",
    "for ii in range(nrand_atl):\n",
    "    # Fill it up\n",
    "    atl_mhw_events['lat'].append(atl_YY[pos_rand[ii]])\n",
    "    atl_mhw_events['lon'].append(atl_XX[pos_rand[ii]])\n",
    "    atl_mhw_events['duration'].append(atl_dur)\n",
    "    atl_mhw_events['time_start'].append(atl_start[ii])\n",
    "    atl_mhw_events['category'].append(atl_cat[ii])"
   ]
  },
  {
   "cell_type": "code",
   "execution_count": 26,
   "metadata": {},
   "outputs": [],
   "source": [
    "atl_tbl = pandas.DataFrame(atl_mhw_events)"
   ]
  },
  {
   "cell_type": "code",
   "execution_count": 27,
   "metadata": {},
   "outputs": [
    {
     "data": {
      "text/html": [
       "<div>\n",
       "<style scoped>\n",
       "    .dataframe tbody tr th:only-of-type {\n",
       "        vertical-align: middle;\n",
       "    }\n",
       "\n",
       "    .dataframe tbody tr th {\n",
       "        vertical-align: top;\n",
       "    }\n",
       "\n",
       "    .dataframe thead th {\n",
       "        text-align: right;\n",
       "    }\n",
       "</style>\n",
       "<table border=\"1\" class=\"dataframe\">\n",
       "  <thead>\n",
       "    <tr style=\"text-align: right;\">\n",
       "      <th></th>\n",
       "      <th>lat</th>\n",
       "      <th>lon</th>\n",
       "      <th>duration</th>\n",
       "      <th>time_start</th>\n",
       "      <th>category</th>\n",
       "    </tr>\n",
       "  </thead>\n",
       "  <tbody>\n",
       "    <tr>\n",
       "      <th>0</th>\n",
       "      <td>32.625</td>\n",
       "      <td>326.875</td>\n",
       "      <td>7</td>\n",
       "      <td>735148</td>\n",
       "      <td>1</td>\n",
       "    </tr>\n",
       "    <tr>\n",
       "      <th>1</th>\n",
       "      <td>24.125</td>\n",
       "      <td>316.625</td>\n",
       "      <td>7</td>\n",
       "      <td>735161</td>\n",
       "      <td>2</td>\n",
       "    </tr>\n",
       "    <tr>\n",
       "      <th>2</th>\n",
       "      <td>43.375</td>\n",
       "      <td>330.375</td>\n",
       "      <td>7</td>\n",
       "      <td>735222</td>\n",
       "      <td>0</td>\n",
       "    </tr>\n",
       "    <tr>\n",
       "      <th>3</th>\n",
       "      <td>12.125</td>\n",
       "      <td>322.625</td>\n",
       "      <td>7</td>\n",
       "      <td>735169</td>\n",
       "      <td>0</td>\n",
       "    </tr>\n",
       "    <tr>\n",
       "      <th>4</th>\n",
       "      <td>19.625</td>\n",
       "      <td>311.875</td>\n",
       "      <td>7</td>\n",
       "      <td>735167</td>\n",
       "      <td>2</td>\n",
       "    </tr>\n",
       "  </tbody>\n",
       "</table>\n",
       "</div>"
      ],
      "text/plain": [
       "      lat      lon  duration  time_start  category\n",
       "0  32.625  326.875         7      735148         1\n",
       "1  24.125  316.625         7      735161         2\n",
       "2  43.375  330.375         7      735222         0\n",
       "3  12.125  322.625         7      735169         0\n",
       "4  19.625  311.875         7      735167         2"
      ]
     },
     "execution_count": 27,
     "metadata": {},
     "output_type": "execute_result"
    }
   ],
   "source": [
    "atl_tbl.head()"
   ]
  },
  {
   "cell_type": "markdown",
   "metadata": {},
   "source": [
    "## Combine"
   ]
  },
  {
   "cell_type": "code",
   "execution_count": 28,
   "metadata": {},
   "outputs": [
    {
     "data": {
      "text/html": [
       "<div>\n",
       "<style scoped>\n",
       "    .dataframe tbody tr th:only-of-type {\n",
       "        vertical-align: middle;\n",
       "    }\n",
       "\n",
       "    .dataframe tbody tr th {\n",
       "        vertical-align: top;\n",
       "    }\n",
       "\n",
       "    .dataframe thead th {\n",
       "        text-align: right;\n",
       "    }\n",
       "</style>\n",
       "<table border=\"1\" class=\"dataframe\">\n",
       "  <thead>\n",
       "    <tr style=\"text-align: right;\">\n",
       "      <th></th>\n",
       "      <th>lat</th>\n",
       "      <th>lon</th>\n",
       "      <th>duration</th>\n",
       "      <th>time_start</th>\n",
       "      <th>category</th>\n",
       "    </tr>\n",
       "  </thead>\n",
       "  <tbody>\n",
       "    <tr>\n",
       "      <th>0</th>\n",
       "      <td>40.125</td>\n",
       "      <td>200.125</td>\n",
       "      <td>8</td>\n",
       "      <td>735225</td>\n",
       "      <td>1</td>\n",
       "    </tr>\n",
       "    <tr>\n",
       "      <th>1</th>\n",
       "      <td>40.125</td>\n",
       "      <td>200.375</td>\n",
       "      <td>32</td>\n",
       "      <td>735201</td>\n",
       "      <td>2</td>\n",
       "    </tr>\n",
       "    <tr>\n",
       "      <th>2</th>\n",
       "      <td>40.125</td>\n",
       "      <td>200.625</td>\n",
       "      <td>65</td>\n",
       "      <td>735168</td>\n",
       "      <td>3</td>\n",
       "    </tr>\n",
       "    <tr>\n",
       "      <th>3</th>\n",
       "      <td>40.125</td>\n",
       "      <td>200.875</td>\n",
       "      <td>65</td>\n",
       "      <td>735168</td>\n",
       "      <td>1</td>\n",
       "    </tr>\n",
       "    <tr>\n",
       "      <th>4</th>\n",
       "      <td>40.125</td>\n",
       "      <td>201.125</td>\n",
       "      <td>38</td>\n",
       "      <td>735195</td>\n",
       "      <td>1</td>\n",
       "    </tr>\n",
       "  </tbody>\n",
       "</table>\n",
       "</div>"
      ],
      "text/plain": [
       "      lat      lon  duration  time_start  category\n",
       "0  40.125  200.125         8      735225         1\n",
       "1  40.125  200.375        32      735201         2\n",
       "2  40.125  200.625        65      735168         3\n",
       "3  40.125  200.875        65      735168         1\n",
       "4  40.125  201.125        38      735195         1"
      ]
     },
     "execution_count": 28,
     "metadata": {},
     "output_type": "execute_result"
    }
   ],
   "source": [
    "mhw_tbl = pandas.concat([pac_tbl, atl_tbl])\n",
    "mhw_tbl.head()"
   ]
  },
  {
   "cell_type": "markdown",
   "metadata": {},
   "source": [
    "# Cube"
   ]
  },
  {
   "cell_type": "code",
   "execution_count": 29,
   "metadata": {},
   "outputs": [
    {
     "name": "stdout",
     "output_type": "stream",
     "text": [
      "Events are loaded\n",
      "kk = 0\n",
      "Wrote: test_cube.npz\n"
     ]
    }
   ],
   "source": [
    "reload(mhw_cube)\n",
    "cube = mhw_cube.build_cube('test_cube.npz', mhw_events=mhw_tbl, dmy_start=(2013,1,1), dmy_end=(2013,12,31))"
   ]
  },
  {
   "cell_type": "code",
   "execution_count": 30,
   "metadata": {},
   "outputs": [
    {
     "data": {
      "text/plain": [
       "(4, dtype('int8'))"
      ]
     },
     "execution_count": 30,
     "metadata": {},
     "output_type": "execute_result"
    }
   ],
   "source": [
    "np.max(cube), cube.dtype"
   ]
  },
  {
   "cell_type": "markdown",
   "metadata": {},
   "source": [
    "# Systems"
   ]
  },
  {
   "cell_type": "markdown",
   "metadata": {},
   "source": [
    "## Build"
   ]
  },
  {
   "cell_type": "code",
   "execution_count": 34,
   "metadata": {},
   "outputs": [
    {
     "name": "stdout",
     "output_type": "stream",
     "text": [
      "Entering first_pass_c\n",
      "First pass complete\n",
      "Second pass complete\n",
      "NObj Extracted= 495\n",
      "Nobj Detected = 495\n",
      "Objects nearly done\n",
      "area done\n",
      "Wrote: test_mhw_systems.hdf\n"
     ]
    },
    {
     "name": "stderr",
     "output_type": "stream",
     "text": [
      "/home/xavier/anaconda3/lib/python3.7/site-packages/pandas/core/generic.py:2505: PerformanceWarning: \n",
      "your performance may suffer as PyTables will pickle object types that it cannot\n",
      "map directly to c-types [inferred_type->date,key->block3_values] [items->Index(['date'], dtype='object')]\n",
      "\n",
      "  encoding=encoding,\n"
     ]
    },
    {
     "name": "stdout",
     "output_type": "stream",
     "text": [
      "Wrote: test_mhw_mask.npz\n"
     ]
    }
   ],
   "source": [
    "reload(mhw_build)\n",
    "mhw_sys, mhw_mask = mhw_build.main(cube=cube, mhwsys_file='test_mhw_systems.hdf',\n",
    "                                  dmy_start=(1983,1,1))"
   ]
  },
  {
   "cell_type": "markdown",
   "metadata": {},
   "source": [
    "## Explore"
   ]
  },
  {
   "cell_type": "code",
   "execution_count": 35,
   "metadata": {},
   "outputs": [
    {
     "data": {
      "text/html": [
       "<div>\n",
       "<style scoped>\n",
       "    .dataframe tbody tr th:only-of-type {\n",
       "        vertical-align: middle;\n",
       "    }\n",
       "\n",
       "    .dataframe tbody tr th {\n",
       "        vertical-align: top;\n",
       "    }\n",
       "\n",
       "    .dataframe thead th {\n",
       "        text-align: right;\n",
       "    }\n",
       "</style>\n",
       "<table border=\"1\" class=\"dataframe\">\n",
       "  <thead>\n",
       "    <tr style=\"text-align: right;\">\n",
       "      <th></th>\n",
       "      <th>NSpax</th>\n",
       "      <th>category</th>\n",
       "      <th>mask_Id</th>\n",
       "      <th>max_area</th>\n",
       "      <th>xcen</th>\n",
       "      <th>xboxmin</th>\n",
       "      <th>xboxmax</th>\n",
       "      <th>ycen</th>\n",
       "      <th>yboxmin</th>\n",
       "      <th>yboxmax</th>\n",
       "      <th>zcen</th>\n",
       "      <th>zboxmin</th>\n",
       "      <th>zboxmax</th>\n",
       "      <th>date</th>\n",
       "      <th>lat</th>\n",
       "      <th>lon</th>\n",
       "    </tr>\n",
       "    <tr>\n",
       "      <th>Id</th>\n",
       "      <th></th>\n",
       "      <th></th>\n",
       "      <th></th>\n",
       "      <th></th>\n",
       "      <th></th>\n",
       "      <th></th>\n",
       "      <th></th>\n",
       "      <th></th>\n",
       "      <th></th>\n",
       "      <th></th>\n",
       "      <th></th>\n",
       "      <th></th>\n",
       "      <th></th>\n",
       "      <th></th>\n",
       "      <th></th>\n",
       "      <th></th>\n",
       "    </tr>\n",
       "  </thead>\n",
       "  <tbody>\n",
       "    <tr>\n",
       "      <th>368</th>\n",
       "      <td>495879</td>\n",
       "      <td>4</td>\n",
       "      <td>369</td>\n",
       "      <td>9600</td>\n",
       "      <td>559.14209</td>\n",
       "      <td>520</td>\n",
       "      <td>599</td>\n",
       "      <td>859.130127</td>\n",
       "      <td>800</td>\n",
       "      <td>919</td>\n",
       "      <td>329.895874</td>\n",
       "      <td>265</td>\n",
       "      <td>363</td>\n",
       "      <td>1983-11-26</td>\n",
       "      <td>49.910522</td>\n",
       "      <td>214.907532</td>\n",
       "    </tr>\n",
       "    <tr>\n",
       "      <th>95</th>\n",
       "      <td>14</td>\n",
       "      <td>2</td>\n",
       "      <td>96</td>\n",
       "      <td>2</td>\n",
       "      <td>432.00000</td>\n",
       "      <td>432</td>\n",
       "      <td>433</td>\n",
       "      <td>1173.500000</td>\n",
       "      <td>1174</td>\n",
       "      <td>1174</td>\n",
       "      <td>286.000000</td>\n",
       "      <td>281</td>\n",
       "      <td>292</td>\n",
       "      <td>1983-10-14</td>\n",
       "      <td>18.125000</td>\n",
       "      <td>293.500000</td>\n",
       "    </tr>\n",
       "    <tr>\n",
       "      <th>76</th>\n",
       "      <td>14</td>\n",
       "      <td>2</td>\n",
       "      <td>76</td>\n",
       "      <td>1</td>\n",
       "      <td>427.00000</td>\n",
       "      <td>427</td>\n",
       "      <td>428</td>\n",
       "      <td>1205.000000</td>\n",
       "      <td>1205</td>\n",
       "      <td>1206</td>\n",
       "      <td>302.000000</td>\n",
       "      <td>296</td>\n",
       "      <td>309</td>\n",
       "      <td>1983-10-30</td>\n",
       "      <td>16.875000</td>\n",
       "      <td>301.375000</td>\n",
       "    </tr>\n",
       "    <tr>\n",
       "      <th>481</th>\n",
       "      <td>14</td>\n",
       "      <td>4</td>\n",
       "      <td>1339</td>\n",
       "      <td>2</td>\n",
       "      <td>556.00000</td>\n",
       "      <td>556</td>\n",
       "      <td>557</td>\n",
       "      <td>1192.500000</td>\n",
       "      <td>1193</td>\n",
       "      <td>1193</td>\n",
       "      <td>274.500000</td>\n",
       "      <td>272</td>\n",
       "      <td>278</td>\n",
       "      <td>1983-10-02</td>\n",
       "      <td>49.125000</td>\n",
       "      <td>298.250000</td>\n",
       "    </tr>\n",
       "    <tr>\n",
       "      <th>264</th>\n",
       "      <td>14</td>\n",
       "      <td>3</td>\n",
       "      <td>265</td>\n",
       "      <td>2</td>\n",
       "      <td>482.50000</td>\n",
       "      <td>483</td>\n",
       "      <td>483</td>\n",
       "      <td>1280.000000</td>\n",
       "      <td>1280</td>\n",
       "      <td>1281</td>\n",
       "      <td>326.500000</td>\n",
       "      <td>321</td>\n",
       "      <td>333</td>\n",
       "      <td>1983-11-23</td>\n",
       "      <td>30.750000</td>\n",
       "      <td>320.125000</td>\n",
       "    </tr>\n",
       "    <tr>\n",
       "      <th>...</th>\n",
       "      <td>...</td>\n",
       "      <td>...</td>\n",
       "      <td>...</td>\n",
       "      <td>...</td>\n",
       "      <td>...</td>\n",
       "      <td>...</td>\n",
       "      <td>...</td>\n",
       "      <td>...</td>\n",
       "      <td>...</td>\n",
       "      <td>...</td>\n",
       "      <td>...</td>\n",
       "      <td>...</td>\n",
       "      <td>...</td>\n",
       "      <td>...</td>\n",
       "      <td>...</td>\n",
       "      <td>...</td>\n",
       "    </tr>\n",
       "    <tr>\n",
       "      <th>163</th>\n",
       "      <td>7</td>\n",
       "      <td>2</td>\n",
       "      <td>164</td>\n",
       "      <td>1</td>\n",
       "      <td>451.50000</td>\n",
       "      <td>452</td>\n",
       "      <td>452</td>\n",
       "      <td>1206.500000</td>\n",
       "      <td>1207</td>\n",
       "      <td>1207</td>\n",
       "      <td>319.500000</td>\n",
       "      <td>317</td>\n",
       "      <td>323</td>\n",
       "      <td>1983-11-16</td>\n",
       "      <td>23.000000</td>\n",
       "      <td>301.750000</td>\n",
       "    </tr>\n",
       "    <tr>\n",
       "      <th>162</th>\n",
       "      <td>7</td>\n",
       "      <td>4</td>\n",
       "      <td>163</td>\n",
       "      <td>1</td>\n",
       "      <td>451.50000</td>\n",
       "      <td>452</td>\n",
       "      <td>452</td>\n",
       "      <td>1174.500000</td>\n",
       "      <td>1175</td>\n",
       "      <td>1175</td>\n",
       "      <td>344.500000</td>\n",
       "      <td>342</td>\n",
       "      <td>348</td>\n",
       "      <td>1983-12-11</td>\n",
       "      <td>23.000000</td>\n",
       "      <td>293.750000</td>\n",
       "    </tr>\n",
       "    <tr>\n",
       "      <th>161</th>\n",
       "      <td>7</td>\n",
       "      <td>3</td>\n",
       "      <td>162</td>\n",
       "      <td>1</td>\n",
       "      <td>451.50000</td>\n",
       "      <td>452</td>\n",
       "      <td>452</td>\n",
       "      <td>1160.500000</td>\n",
       "      <td>1161</td>\n",
       "      <td>1161</td>\n",
       "      <td>313.500000</td>\n",
       "      <td>311</td>\n",
       "      <td>317</td>\n",
       "      <td>1983-11-10</td>\n",
       "      <td>23.000000</td>\n",
       "      <td>290.250000</td>\n",
       "    </tr>\n",
       "    <tr>\n",
       "      <th>160</th>\n",
       "      <td>7</td>\n",
       "      <td>1</td>\n",
       "      <td>161</td>\n",
       "      <td>1</td>\n",
       "      <td>450.50000</td>\n",
       "      <td>451</td>\n",
       "      <td>451</td>\n",
       "      <td>1346.500000</td>\n",
       "      <td>1347</td>\n",
       "      <td>1347</td>\n",
       "      <td>320.500000</td>\n",
       "      <td>318</td>\n",
       "      <td>324</td>\n",
       "      <td>1983-11-17</td>\n",
       "      <td>22.750000</td>\n",
       "      <td>336.750000</td>\n",
       "    </tr>\n",
       "    <tr>\n",
       "      <th>495</th>\n",
       "      <td>7</td>\n",
       "      <td>1</td>\n",
       "      <td>1428</td>\n",
       "      <td>1</td>\n",
       "      <td>558.50000</td>\n",
       "      <td>559</td>\n",
       "      <td>559</td>\n",
       "      <td>1358.500000</td>\n",
       "      <td>1359</td>\n",
       "      <td>1359</td>\n",
       "      <td>314.500000</td>\n",
       "      <td>312</td>\n",
       "      <td>318</td>\n",
       "      <td>1983-11-11</td>\n",
       "      <td>49.750000</td>\n",
       "      <td>339.750000</td>\n",
       "    </tr>\n",
       "  </tbody>\n",
       "</table>\n",
       "<p>495 rows × 16 columns</p>\n",
       "</div>"
      ],
      "text/plain": [
       "      NSpax  category  mask_Id  max_area       xcen  xboxmin  xboxmax  \\\n",
       "Id                                                                      \n",
       "368  495879         4      369      9600  559.14209      520      599   \n",
       "95       14         2       96         2  432.00000      432      433   \n",
       "76       14         2       76         1  427.00000      427      428   \n",
       "481      14         4     1339         2  556.00000      556      557   \n",
       "264      14         3      265         2  482.50000      483      483   \n",
       "..      ...       ...      ...       ...        ...      ...      ...   \n",
       "163       7         2      164         1  451.50000      452      452   \n",
       "162       7         4      163         1  451.50000      452      452   \n",
       "161       7         3      162         1  451.50000      452      452   \n",
       "160       7         1      161         1  450.50000      451      451   \n",
       "495       7         1     1428         1  558.50000      559      559   \n",
       "\n",
       "            ycen  yboxmin  yboxmax        zcen  zboxmin  zboxmax        date  \\\n",
       "Id                                                                             \n",
       "368   859.130127      800      919  329.895874      265      363  1983-11-26   \n",
       "95   1173.500000     1174     1174  286.000000      281      292  1983-10-14   \n",
       "76   1205.000000     1205     1206  302.000000      296      309  1983-10-30   \n",
       "481  1192.500000     1193     1193  274.500000      272      278  1983-10-02   \n",
       "264  1280.000000     1280     1281  326.500000      321      333  1983-11-23   \n",
       "..           ...      ...      ...         ...      ...      ...         ...   \n",
       "163  1206.500000     1207     1207  319.500000      317      323  1983-11-16   \n",
       "162  1174.500000     1175     1175  344.500000      342      348  1983-12-11   \n",
       "161  1160.500000     1161     1161  313.500000      311      317  1983-11-10   \n",
       "160  1346.500000     1347     1347  320.500000      318      324  1983-11-17   \n",
       "495  1358.500000     1359     1359  314.500000      312      318  1983-11-11   \n",
       "\n",
       "           lat         lon  \n",
       "Id                          \n",
       "368  49.910522  214.907532  \n",
       "95   18.125000  293.500000  \n",
       "76   16.875000  301.375000  \n",
       "481  49.125000  298.250000  \n",
       "264  30.750000  320.125000  \n",
       "..         ...         ...  \n",
       "163  23.000000  301.750000  \n",
       "162  23.000000  293.750000  \n",
       "161  23.000000  290.250000  \n",
       "160  22.750000  336.750000  \n",
       "495  49.750000  339.750000  \n",
       "\n",
       "[495 rows x 16 columns]"
      ]
     },
     "execution_count": 35,
     "metadata": {},
     "output_type": "execute_result"
    }
   ],
   "source": [
    "mhw_sys = mhw_sys.sort_values('NSpax', ascending=False)\n",
    "mhw_sys"
   ]
  },
  {
   "cell_type": "markdown",
   "metadata": {},
   "source": [
    "----"
   ]
  },
  {
   "cell_type": "markdown",
   "metadata": {},
   "source": [
    "# Ocean boundaries"
   ]
  },
  {
   "cell_type": "markdown",
   "metadata": {},
   "source": [
    "## Simple tests"
   ]
  },
  {
   "cell_type": "code",
   "execution_count": 6,
   "metadata": {},
   "outputs": [],
   "source": [
    "tst_file = os.path.join(resource_filename('mhw_analysis', 'systems'), 'tst_indian_systems.hdf')"
   ]
  },
  {
   "cell_type": "code",
   "execution_count": 21,
   "metadata": {},
   "outputs": [
    {
     "name": "stdout",
     "output_type": "stream",
     "text": [
      "Loading systems from /data/Projects/Oceanography/Python/mhw_analysis/mhw_analysis/systems/tst_indian_systems.hdf\n"
     ]
    }
   ],
   "source": [
    "tst_sys = mhw_sys_io.load_systems(mhw_sys_file=tst_file)"
   ]
  },
  {
   "cell_type": "code",
   "execution_count": 24,
   "metadata": {},
   "outputs": [
    {
     "data": {
      "text/html": [
       "<div>\n",
       "<style scoped>\n",
       "    .dataframe tbody tr th:only-of-type {\n",
       "        vertical-align: middle;\n",
       "    }\n",
       "\n",
       "    .dataframe tbody tr th {\n",
       "        vertical-align: top;\n",
       "    }\n",
       "\n",
       "    .dataframe thead th {\n",
       "        text-align: right;\n",
       "    }\n",
       "</style>\n",
       "<table border=\"1\" class=\"dataframe\">\n",
       "  <thead>\n",
       "    <tr style=\"text-align: right;\">\n",
       "      <th></th>\n",
       "      <th>NSpax</th>\n",
       "      <th>category</th>\n",
       "      <th>mask_Id</th>\n",
       "      <th>max_area</th>\n",
       "      <th>xcen</th>\n",
       "      <th>xboxmin</th>\n",
       "      <th>xboxmax</th>\n",
       "      <th>ycen</th>\n",
       "      <th>yboxmin</th>\n",
       "      <th>yboxmax</th>\n",
       "      <th>zcen</th>\n",
       "      <th>zboxmin</th>\n",
       "      <th>zboxmax</th>\n",
       "      <th>date</th>\n",
       "      <th>lat</th>\n",
       "      <th>lon</th>\n",
       "    </tr>\n",
       "    <tr>\n",
       "      <th>Id</th>\n",
       "      <th></th>\n",
       "      <th></th>\n",
       "      <th></th>\n",
       "      <th></th>\n",
       "      <th></th>\n",
       "      <th></th>\n",
       "      <th></th>\n",
       "      <th></th>\n",
       "      <th></th>\n",
       "      <th></th>\n",
       "      <th></th>\n",
       "      <th></th>\n",
       "      <th></th>\n",
       "      <th></th>\n",
       "      <th></th>\n",
       "      <th></th>\n",
       "    </tr>\n",
       "  </thead>\n",
       "  <tbody>\n",
       "    <tr>\n",
       "      <th>1</th>\n",
       "      <td>1245600</td>\n",
       "      <td>1</td>\n",
       "      <td>1</td>\n",
       "      <td>62280</td>\n",
       "      <td>234.635681</td>\n",
       "      <td>100</td>\n",
       "      <td>399</td>\n",
       "      <td>462.416016</td>\n",
       "      <td>350</td>\n",
       "      <td>580</td>\n",
       "      <td>39.233223</td>\n",
       "      <td>30</td>\n",
       "      <td>49</td>\n",
       "      <td>1982-02-09</td>\n",
       "      <td>-31.216080</td>\n",
       "      <td>115.729004</td>\n",
       "    </tr>\n",
       "    <tr>\n",
       "      <th>2</th>\n",
       "      <td>554400</td>\n",
       "      <td>1</td>\n",
       "      <td>2</td>\n",
       "      <td>27720</td>\n",
       "      <td>282.516083</td>\n",
       "      <td>100</td>\n",
       "      <td>399</td>\n",
       "      <td>583.470032</td>\n",
       "      <td>401</td>\n",
       "      <td>649</td>\n",
       "      <td>39.383068</td>\n",
       "      <td>30</td>\n",
       "      <td>49</td>\n",
       "      <td>1982-02-09</td>\n",
       "      <td>-19.245979</td>\n",
       "      <td>145.992508</td>\n",
       "    </tr>\n",
       "    <tr>\n",
       "      <th>3</th>\n",
       "      <td>16500</td>\n",
       "      <td>1</td>\n",
       "      <td>3</td>\n",
       "      <td>1650</td>\n",
       "      <td>224.500000</td>\n",
       "      <td>150</td>\n",
       "      <td>299</td>\n",
       "      <td>75.000000</td>\n",
       "      <td>70</td>\n",
       "      <td>80</td>\n",
       "      <td>24.500000</td>\n",
       "      <td>20</td>\n",
       "      <td>29</td>\n",
       "      <td>1982-01-25</td>\n",
       "      <td>-33.750000</td>\n",
       "      <td>18.875000</td>\n",
       "    </tr>\n",
       "    <tr>\n",
       "      <th>4</th>\n",
       "      <td>13500</td>\n",
       "      <td>1</td>\n",
       "      <td>4</td>\n",
       "      <td>1350</td>\n",
       "      <td>224.500000</td>\n",
       "      <td>150</td>\n",
       "      <td>299</td>\n",
       "      <td>85.000000</td>\n",
       "      <td>81</td>\n",
       "      <td>89</td>\n",
       "      <td>24.500000</td>\n",
       "      <td>20</td>\n",
       "      <td>29</td>\n",
       "      <td>1982-01-25</td>\n",
       "      <td>-33.750000</td>\n",
       "      <td>21.375000</td>\n",
       "    </tr>\n",
       "    <tr>\n",
       "      <th>5</th>\n",
       "      <td>16500</td>\n",
       "      <td>1</td>\n",
       "      <td>5</td>\n",
       "      <td>1650</td>\n",
       "      <td>224.500000</td>\n",
       "      <td>150</td>\n",
       "      <td>299</td>\n",
       "      <td>1155.010864</td>\n",
       "      <td>1150</td>\n",
       "      <td>1160</td>\n",
       "      <td>14.500000</td>\n",
       "      <td>10</td>\n",
       "      <td>19</td>\n",
       "      <td>1982-01-15</td>\n",
       "      <td>-33.750000</td>\n",
       "      <td>288.877716</td>\n",
       "    </tr>\n",
       "    <tr>\n",
       "      <th>6</th>\n",
       "      <td>13500</td>\n",
       "      <td>1</td>\n",
       "      <td>6</td>\n",
       "      <td>1350</td>\n",
       "      <td>224.500000</td>\n",
       "      <td>150</td>\n",
       "      <td>299</td>\n",
       "      <td>1165.000000</td>\n",
       "      <td>1161</td>\n",
       "      <td>1169</td>\n",
       "      <td>14.500000</td>\n",
       "      <td>10</td>\n",
       "      <td>19</td>\n",
       "      <td>1982-01-15</td>\n",
       "      <td>-33.750000</td>\n",
       "      <td>291.375000</td>\n",
       "    </tr>\n",
       "  </tbody>\n",
       "</table>\n",
       "</div>"
      ],
      "text/plain": [
       "      NSpax  category  mask_Id  max_area        xcen  xboxmin  xboxmax  \\\n",
       "Id                                                                       \n",
       "1   1245600         1        1     62280  234.635681      100      399   \n",
       "2    554400         1        2     27720  282.516083      100      399   \n",
       "3     16500         1        3      1650  224.500000      150      299   \n",
       "4     13500         1        4      1350  224.500000      150      299   \n",
       "5     16500         1        5      1650  224.500000      150      299   \n",
       "6     13500         1        6      1350  224.500000      150      299   \n",
       "\n",
       "           ycen  yboxmin  yboxmax       zcen  zboxmin  zboxmax        date  \\\n",
       "Id                                                                           \n",
       "1    462.416016      350      580  39.233223       30       49  1982-02-09   \n",
       "2    583.470032      401      649  39.383068       30       49  1982-02-09   \n",
       "3     75.000000       70       80  24.500000       20       29  1982-01-25   \n",
       "4     85.000000       81       89  24.500000       20       29  1982-01-25   \n",
       "5   1155.010864     1150     1160  14.500000       10       19  1982-01-15   \n",
       "6   1165.000000     1161     1169  14.500000       10       19  1982-01-15   \n",
       "\n",
       "          lat         lon  \n",
       "Id                         \n",
       "1  -31.216080  115.729004  \n",
       "2  -19.245979  145.992508  \n",
       "3  -33.750000   18.875000  \n",
       "4  -33.750000   21.375000  \n",
       "5  -33.750000  288.877716  \n",
       "6  -33.750000  291.375000  "
      ]
     },
     "execution_count": 24,
     "metadata": {},
     "output_type": "execute_result"
    }
   ],
   "source": [
    "tst_sys"
   ]
  },
  {
   "cell_type": "code",
   "execution_count": 23,
   "metadata": {},
   "outputs": [],
   "source": [
    "tst_msk_file = os.path.join(resource_filename('mhw_analysis', 'systems'), 'tst_indian_mask.hdf')"
   ]
  },
  {
   "cell_type": "code",
   "execution_count": 15,
   "metadata": {},
   "outputs": [],
   "source": [
    "f = h5py.File(tst_msk_file, mode='r')\n",
    "mask = f['mask'][:]\n",
    "f.close()"
   ]
  },
  {
   "cell_type": "code",
   "execution_count": 18,
   "metadata": {},
   "outputs": [
    {
     "data": {
      "text/plain": [
       "1"
      ]
     },
     "execution_count": 18,
     "metadata": {},
     "output_type": "execute_result"
    }
   ],
   "source": [
    "mask[180,500,45]"
   ]
  },
  {
   "cell_type": "markdown",
   "metadata": {},
   "source": [
    "## Semi-full test"
   ]
  },
  {
   "cell_type": "code",
   "execution_count": 27,
   "metadata": {},
   "outputs": [],
   "source": [
    "tst2_file = os.path.join(resource_filename('mhw_analysis', 'systems'), 'test_basins_systems.hdf')"
   ]
  },
  {
   "cell_type": "code",
   "execution_count": 28,
   "metadata": {},
   "outputs": [
    {
     "name": "stdout",
     "output_type": "stream",
     "text": [
      "Loading systems from /data/Projects/Oceanography/Python/mhw_analysis/mhw_analysis/systems/test_basins_systems.hdf\n"
     ]
    }
   ],
   "source": [
    "tst2_sys = mhw_sys_io.load_systems(mhw_sys_file=tst2_file)"
   ]
  },
  {
   "cell_type": "code",
   "execution_count": 36,
   "metadata": {},
   "outputs": [
    {
     "data": {
      "text/plain": [
       "NSpax         29774578\n",
       "category             4\n",
       "mask_Id           2196\n",
       "max_area         41619\n",
       "xcen           432.332\n",
       "xboxmin             71\n",
       "xboxmax            624\n",
       "ycen           577.094\n",
       "yboxmin            401\n",
       "yboxmax           1155\n",
       "zcen           1533.81\n",
       "zboxmin            315\n",
       "zboxmax           2498\n",
       "date        1986-03-14\n",
       "lat             18.208\n",
       "lon            144.399\n",
       "Name: 592, dtype: object"
      ]
     },
     "execution_count": 36,
     "metadata": {},
     "output_type": "execute_result"
    }
   ],
   "source": [
    "imax = np.argmax(tst2_sys.NSpax)\n",
    "tst2_sys.iloc[imax]"
   ]
  },
  {
   "cell_type": "code",
   "execution_count": 31,
   "metadata": {},
   "outputs": [
    {
     "data": {
      "text/plain": [
       "8.243492874124511"
      ]
     },
     "execution_count": 31,
     "metadata": {},
     "output_type": "execute_result"
    }
   ],
   "source": [
    "np.log10(175183369)"
   ]
  },
  {
   "cell_type": "markdown",
   "metadata": {},
   "source": [
    "## Pacific blob?"
   ]
  },
  {
   "cell_type": "code",
   "execution_count": 47,
   "metadata": {},
   "outputs": [],
   "source": [
    "lat_c, lon_c = sst_utils.noaa_oi_coords(as_iris_coord=True)"
   ]
  },
  {
   "cell_type": "code",
   "execution_count": 37,
   "metadata": {},
   "outputs": [],
   "source": [
    "tst2_msk_file = os.path.join(resource_filename('mhw_analysis', 'systems'), 'test_basins_mask.hdf')"
   ]
  },
  {
   "cell_type": "code",
   "execution_count": 38,
   "metadata": {},
   "outputs": [],
   "source": [
    "f = h5py.File(tst2_msk_file, mode='r')\n",
    "mask2 = f['mask'][:]\n",
    "f.close()"
   ]
  },
  {
   "cell_type": "code",
   "execution_count": 39,
   "metadata": {},
   "outputs": [],
   "source": [
    "\n",
    "from matplotlib import pyplot as plt\n",
    "import matplotlib.ticker as mticker\n",
    "\n",
    "import cartopy.crs as ccrs\n",
    "from cartopy.mpl.gridliner import LONGITUDE_FORMATTER, LATITUDE_FORMATTER\n"
   ]
  },
  {
   "cell_type": "code",
   "execution_count": 41,
   "metadata": {},
   "outputs": [
    {
     "data": {
      "text/plain": [
       "29774578"
      ]
     },
     "execution_count": 41,
     "metadata": {},
     "output_type": "execute_result"
    }
   ],
   "source": [
    "bigone = mask2 == 2196\n",
    "np.sum(bigone)"
   ]
  },
  {
   "cell_type": "code",
   "execution_count": 64,
   "metadata": {},
   "outputs": [
    {
     "data": {
      "text/plain": [
       "56399"
      ]
     },
     "execution_count": 64,
     "metadata": {},
     "output_type": "execute_result"
    }
   ],
   "source": [
    "i0, step=2015, 50\n",
    "any_mask = np.sum(bigone[:,:,i0:i0+step], axis=2)\n",
    "any_mask[any_mask > 0] = 1\n",
    "np.sum(any_mask)"
   ]
  },
  {
   "cell_type": "code",
   "execution_count": 65,
   "metadata": {},
   "outputs": [],
   "source": [
    "any_big_cube = iris.cube.Cube(any_mask, var_name='BigOne',\n",
    "                      dim_coords_and_dims=[(lat_c, 0),\n",
    "                                           (lon_c, 1)])"
   ]
  },
  {
   "cell_type": "code",
   "execution_count": 66,
   "metadata": {},
   "outputs": [
    {
     "data": {
      "image/png": "[encoded data removed]",
      "text/plain": [
       "<Figure size 720x432 with 1 Axes>"
      ]
     },
     "metadata": {
      "needs_background": "light"
     },
     "output_type": "display_data"
    }
   ],
   "source": [
    "fig = plt.figure(figsize=(10, 6))\n",
    "plt.clf()\n",
    "\n",
    "proj = ccrs.PlateCarree(central_longitude=-180.0)\n",
    "ax = plt.gca(projection=proj)\n",
    "\n",
    "# Pacific events\n",
    "# Draw the contour with 25 levels.\n",
    "cm = plt.get_cmap('Blues')\n",
    "\n",
    "cplt = iris.plot.contourf(any_big_cube, cmap=cm)  # , vmin=0, vmax=20)#, 5)\n",
    "#cb = plt.colorbar(cplt, fraction=0.020, pad=0.04)\n",
    "#cb.set_label('Blob')\n",
    "\n",
    "# Add coastlines to the map created by contourf.\n",
    "plt.gca().coastlines()\n",
    "plt.show()"
   ]
  },
  {
   "cell_type": "markdown",
   "metadata": {},
   "source": [
    "## Longest duration MHW System"
   ]
  },
  {
   "cell_type": "code",
   "execution_count": 67,
   "metadata": {},
   "outputs": [
    {
     "data": {
      "text/plain": [
       "2183"
      ]
     },
     "execution_count": 67,
     "metadata": {},
     "output_type": "execute_result"
    }
   ],
   "source": [
    "np.max(tst2_sys.zboxmax-tst2_sys.zboxmin)"
   ]
  },
  {
   "cell_type": "code",
   "execution_count": null,
   "metadata": {},
   "outputs": [],
   "source": []
  }
 ],
 "metadata": {
  "kernelspec": {
   "display_name": "Python 3",
   "language": "python",
   "name": "python3"
  },
  "language_info": {
   "codemirror_mode": {
    "name": "ipython",
    "version": 3
   },
   "file_extension": ".py",
   "mimetype": "text/x-python",
   "name": "python",
   "nbconvert_exporter": "python",
   "pygments_lexer": "ipython3",
   "version": "3.7.3"
  }
 },
 "nbformat": 4,
 "nbformat_minor": 4
}
