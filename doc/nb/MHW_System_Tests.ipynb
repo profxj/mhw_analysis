{
 "cells": [
  {
   "cell_type": "markdown",
   "metadata": {},
   "source": [
    "# Testing MHW Systems"
   ]
  },
  {
   "cell_type": "code",
   "execution_count": 94,
   "metadata": {},
   "outputs": [],
   "source": [
    "# imports\n",
    "from importlib import reload\n",
    "import numpy as np\n",
    "import os\n",
    "from matplotlib import pyplot as plt\n",
    "\n",
    "from datetime import date\n",
    "\n",
    "import pandas\n",
    "import sqlalchemy\n",
    "import iris\n",
    "\n",
    "from oceanpy.sst import io as sst_io\n",
    "from mhw_analysis.systems import cube as mhw_cube\n",
    "from mhw_analysis.systems import build as mhw_build"
   ]
  },
  {
   "cell_type": "markdown",
   "metadata": {},
   "source": [
    "# Load a few things for guidance"
   ]
  },
  {
   "cell_type": "code",
   "execution_count": 4,
   "metadata": {},
   "outputs": [],
   "source": [
    "SST = sst_io.load_noaa((1, 1, 2014))"
   ]
  },
  {
   "cell_type": "code",
   "execution_count": 5,
   "metadata": {},
   "outputs": [
    {
     "data": {
      "text/html": [
       "\n",
       "<style>\n",
       "  a.iris {\n",
       "      text-decoration: none !important;\n",
       "  }\n",
       "  table.iris {\n",
       "      white-space: pre;\n",
       "      border: 1px solid;\n",
       "      border-color: #9c9c9c;\n",
       "      font-family: monaco, monospace;\n",
       "  }\n",
       "  th.iris {\n",
       "      background: #303f3f;\n",
       "      color: #e0e0e0;\n",
       "      border-left: 1px solid;\n",
       "      border-color: #9c9c9c;\n",
       "      font-size: 1.05em;\n",
       "      min-width: 50px;\n",
       "      max-width: 125px;\n",
       "  }\n",
       "  tr.iris :first-child {\n",
       "      border-right: 1px solid #9c9c9c !important;\n",
       "  }\n",
       "  td.iris-title {\n",
       "      background: #d5dcdf;\n",
       "      border-top: 1px solid #9c9c9c;\n",
       "      font-weight: bold;\n",
       "  }\n",
       "  .iris-word-cell {\n",
       "      text-align: left !important;\n",
       "      white-space: pre;\n",
       "  }\n",
       "  .iris-subheading-cell {\n",
       "      padding-left: 2em !important;\n",
       "  }\n",
       "  .iris-inclusion-cell {\n",
       "      padding-right: 1em !important;\n",
       "  }\n",
       "  .iris-panel-body {\n",
       "      padding-top: 0px;\n",
       "  }\n",
       "  .iris-panel-title {\n",
       "      padding-left: 3em;\n",
       "  }\n",
       "  .iris-panel-title {\n",
       "      margin-top: 7px;\n",
       "  }\n",
       "</style>\n",
       "<table class=\"iris\" id=\"139914228508048\">\n",
       "    <tr class=\"iris\">\n",
       "<th class=\"iris iris-word-cell\">Daily Sea Surface Temperature (degC)</th>\n",
       "<th class=\"iris iris-word-cell\">latitude</th>\n",
       "<th class=\"iris iris-word-cell\">longitude</th>\n",
       "</tr>\n",
       "    <tr class=\"iris\">\n",
       "<td class=\"iris-word-cell iris-subheading-cell\">Shape</td>\n",
       "<td class=\"iris iris-inclusion-cell\">720</td>\n",
       "<td class=\"iris iris-inclusion-cell\">1440</td>\n",
       "</tr>\n",
       "    <tr class=\"iris\">\n",
       "    <td class=\"iris-title iris-word-cell\">Dimension coordinates</td>\n",
       "    <td class=\"iris-title\"></td>\n",
       "    <td class=\"iris-title\"></td>\n",
       "</tr>\n",
       "<tr class=\"iris\">\n",
       "    <td class=\"iris-word-cell iris-subheading-cell\">\tlatitude</td>\n",
       "    <td class=\"iris-inclusion-cell\">x</td>\n",
       "    <td class=\"iris-inclusion-cell\">-</td>\n",
       "</tr>\n",
       "<tr class=\"iris\">\n",
       "    <td class=\"iris-word-cell iris-subheading-cell\">\tlongitude</td>\n",
       "    <td class=\"iris-inclusion-cell\">-</td>\n",
       "    <td class=\"iris-inclusion-cell\">x</td>\n",
       "</tr>\n",
       "<tr class=\"iris\">\n",
       "    <td class=\"iris-title iris-word-cell\">Scalar coordinates</td>\n",
       "    <td class=\"iris-title\"></td>\n",
       "    <td class=\"iris-title\"></td>\n",
       "</tr>\n",
       "<tr class=\"iris\">\n",
       "    <td class=\"iris-word-cell iris-subheading-cell\">\ttime</td>\n",
       "    <td class=\"iris-word-cell\" colspan=\"2\">2014-01-01 00:00:00</td>\n",
       "</tr>\n",
       "<tr class=\"iris\">\n",
       "    <td class=\"iris-title iris-word-cell\">Attributes</td>\n",
       "    <td class=\"iris-title\"></td>\n",
       "    <td class=\"iris-title\"></td>\n",
       "</tr>\n",
       "<tr class=\"iris\">\n",
       "    <td class=\"iris-word-cell iris-subheading-cell\">\tConventions</td>\n",
       "    <td class=\"iris-word-cell\" colspan=\"2\">CF-1.5</td>\n",
       "</tr>\n",
       "<tr class=\"iris\">\n",
       "    <td class=\"iris-word-cell iris-subheading-cell\">\tReferences</td>\n",
       "    <td class=\"iris-word-cell\" colspan=\"2\">https://www.psl.noaa.gov/data/gridded/data.noaa.oisst.v2.highres.html</td>\n",
       "</tr>\n",
       "<tr class=\"iris\">\n",
       "    <td class=\"iris-word-cell iris-subheading-cell\">\tactual_range</td>\n",
       "    <td class=\"iris-word-cell\" colspan=\"2\">[-1.8 34.8]</td>\n",
       "</tr>\n",
       "<tr class=\"iris\">\n",
       "    <td class=\"iris-word-cell iris-subheading-cell\">\tcomment</td>\n",
       "    <td class=\"iris-word-cell\" colspan=\"2\">Reynolds, et al., 2007: Daily High-Resolution-Blended Analyses for Sea...</td>\n",
       "</tr>\n",
       "<tr class=\"iris\">\n",
       "    <td class=\"iris-word-cell iris-subheading-cell\">\tdataset</td>\n",
       "    <td class=\"iris-word-cell\" colspan=\"2\">NOAA High-resolution Blended Analysis</td>\n",
       "</tr>\n",
       "<tr class=\"iris\">\n",
       "    <td class=\"iris-word-cell iris-subheading-cell\">\tdataset_title</td>\n",
       "    <td class=\"iris-word-cell\" colspan=\"2\">NOAA Daily Optimum Interpolation Sea Surface Temperature</td>\n",
       "</tr>\n",
       "<tr class=\"iris\">\n",
       "    <td class=\"iris-word-cell iris-subheading-cell\">\thistory</td>\n",
       "    <td class=\"iris-word-cell\" colspan=\"2\">Thu Aug 24 13:51:51 2017: ncatted -O -a References,global,d,, sst.day.mean.2014.v2.nc<br>Version...</td>\n",
       "</tr>\n",
       "<tr class=\"iris\">\n",
       "    <td class=\"iris-word-cell iris-subheading-cell\">\tinstitution</td>\n",
       "    <td class=\"iris-word-cell\" colspan=\"2\">NOAA/NCDC</td>\n",
       "</tr>\n",
       "<tr class=\"iris\">\n",
       "    <td class=\"iris-word-cell iris-subheading-cell\">\tlevel_desc</td>\n",
       "    <td class=\"iris-word-cell\" colspan=\"2\">Surface</td>\n",
       "</tr>\n",
       "<tr class=\"iris\">\n",
       "    <td class=\"iris-word-cell iris-subheading-cell\">\tparent_stat</td>\n",
       "    <td class=\"iris-word-cell\" colspan=\"2\">Individual Observations</td>\n",
       "</tr>\n",
       "<tr class=\"iris\">\n",
       "    <td class=\"iris-word-cell iris-subheading-cell\">\tprecision</td>\n",
       "    <td class=\"iris-word-cell\" colspan=\"2\">2.0</td>\n",
       "</tr>\n",
       "<tr class=\"iris\">\n",
       "    <td class=\"iris-word-cell iris-subheading-cell\">\tsource</td>\n",
       "    <td class=\"iris-word-cell\" colspan=\"2\">NOAA/NCDC  ftp://eclipse.ncdc.noaa.gov/pub/OI-daily-v2/</td>\n",
       "</tr>\n",
       "<tr class=\"iris\">\n",
       "    <td class=\"iris-word-cell iris-subheading-cell\">\tstatistic</td>\n",
       "    <td class=\"iris-word-cell\" colspan=\"2\">Mean</td>\n",
       "</tr>\n",
       "<tr class=\"iris\">\n",
       "    <td class=\"iris-word-cell iris-subheading-cell\">\ttitle</td>\n",
       "    <td class=\"iris-word-cell\" colspan=\"2\">NOAA High-resolution Blended Analysis: Daily Values using AVHRR only</td>\n",
       "</tr>\n",
       "<tr class=\"iris\">\n",
       "    <td class=\"iris-word-cell iris-subheading-cell\">\tvalid_range</td>\n",
       "    <td class=\"iris-word-cell\" colspan=\"2\">[-3. 45.]</td>\n",
       "</tr>\n",
       "<tr class=\"iris\">\n",
       "    <td class=\"iris-word-cell iris-subheading-cell\">\tvar_desc</td>\n",
       "    <td class=\"iris-word-cell\" colspan=\"2\">Sea Surface Temperature</td>\n",
       "</tr>\n",
       "</table>\n",
       "        "
      ],
      "text/plain": [
       "<iris 'Cube' of Daily Sea Surface Temperature / (degC) (latitude: 720; longitude: 1440)>"
      ]
     },
     "execution_count": 5,
     "metadata": {},
     "output_type": "execute_result"
    }
   ],
   "source": [
    "SST"
   ]
  },
  {
   "cell_type": "code",
   "execution_count": 7,
   "metadata": {},
   "outputs": [
    {
     "data": {
      "text/plain": [
       "array([40.125, 40.375, 40.625, 40.875, 41.125, 41.375, 41.625, 41.875,\n",
       "       42.125, 42.375, 42.625, 42.875, 43.125, 43.375, 43.625, 43.875,\n",
       "       44.125, 44.375, 44.625, 44.875, 45.125, 45.375, 45.625, 45.875,\n",
       "       46.125, 46.375, 46.625, 46.875, 47.125, 47.375, 47.625, 47.875,\n",
       "       48.125, 48.375, 48.625, 48.875, 49.125, 49.375, 49.625, 49.875,\n",
       "       50.125, 50.375, 50.625, 50.875, 51.125, 51.375, 51.625, 51.875,\n",
       "       52.125, 52.375, 52.625, 52.875, 53.125, 53.375, 53.625, 53.875,\n",
       "       54.125, 54.375, 54.625, 54.875, 55.125, 55.375, 55.625, 55.875,\n",
       "       56.125, 56.375, 56.625, 56.875, 57.125, 57.375, 57.625, 57.875,\n",
       "       58.125, 58.375, 58.625, 58.875, 59.125, 59.375, 59.625, 59.875,\n",
       "       60.125, 60.375, 60.625, 60.875, 61.125, 61.375, 61.625, 61.875,\n",
       "       62.125, 62.375, 62.625, 62.875, 63.125, 63.375, 63.625, 63.875,\n",
       "       64.125, 64.375, 64.625, 64.875, 65.125, 65.375, 65.625, 65.875,\n",
       "       66.125, 66.375, 66.625, 66.875, 67.125, 67.375, 67.625, 67.875,\n",
       "       68.125, 68.375, 68.625, 68.875, 69.125, 69.375, 69.625, 69.875,\n",
       "       70.125, 70.375, 70.625, 70.875, 71.125, 71.375, 71.625, 71.875,\n",
       "       72.125, 72.375, 72.625, 72.875, 73.125, 73.375, 73.625, 73.875,\n",
       "       74.125, 74.375, 74.625, 74.875, 75.125, 75.375, 75.625, 75.875,\n",
       "       76.125, 76.375, 76.625, 76.875, 77.125, 77.375, 77.625, 77.875,\n",
       "       78.125, 78.375, 78.625, 78.875, 79.125, 79.375, 79.625, 79.875,\n",
       "       80.125, 80.375, 80.625, 80.875, 81.125, 81.375, 81.625, 81.875,\n",
       "       82.125, 82.375, 82.625, 82.875, 83.125, 83.375, 83.625, 83.875,\n",
       "       84.125, 84.375, 84.625, 84.875, 85.125, 85.375, 85.625, 85.875,\n",
       "       86.125, 86.375, 86.625, 86.875, 87.125, 87.375, 87.625, 87.875,\n",
       "       88.125, 88.375, 88.625, 88.875, 89.125, 89.375, 89.625, 89.875],\n",
       "      dtype=float32)"
      ]
     },
     "execution_count": 7,
     "metadata": {},
     "output_type": "execute_result"
    }
   ],
   "source": [
    "lats = SST.coord('latitude').points\n",
    "lats[lats>40.]"
   ]
  },
  {
   "cell_type": "code",
   "execution_count": 11,
   "metadata": {},
   "outputs": [
    {
     "data": {
      "text/plain": [
       "array([200.125, 200.375, 200.625, 200.875, 201.125, 201.375, 201.625,\n",
       "       201.875, 202.125, 202.375, 202.625, 202.875, 203.125, 203.375,\n",
       "       203.625, 203.875, 204.125, 204.375, 204.625, 204.875, 205.125,\n",
       "       205.375, 205.625, 205.875, 206.125, 206.375, 206.625, 206.875,\n",
       "       207.125, 207.375, 207.625, 207.875, 208.125, 208.375, 208.625,\n",
       "       208.875, 209.125, 209.375, 209.625, 209.875, 210.125, 210.375,\n",
       "       210.625, 210.875, 211.125, 211.375, 211.625, 211.875, 212.125,\n",
       "       212.375, 212.625, 212.875, 213.125, 213.375, 213.625, 213.875,\n",
       "       214.125, 214.375, 214.625, 214.875, 215.125, 215.375, 215.625,\n",
       "       215.875, 216.125, 216.375, 216.625, 216.875, 217.125, 217.375,\n",
       "       217.625, 217.875, 218.125, 218.375, 218.625, 218.875, 219.125,\n",
       "       219.375, 219.625, 219.875, 220.125, 220.375, 220.625, 220.875,\n",
       "       221.125, 221.375, 221.625, 221.875, 222.125, 222.375, 222.625,\n",
       "       222.875, 223.125, 223.375, 223.625, 223.875, 224.125, 224.375,\n",
       "       224.625, 224.875, 225.125, 225.375, 225.625, 225.875, 226.125,\n",
       "       226.375, 226.625, 226.875, 227.125, 227.375, 227.625, 227.875,\n",
       "       228.125, 228.375, 228.625, 228.875, 229.125, 229.375, 229.625,\n",
       "       229.875], dtype=float32)"
      ]
     },
     "execution_count": 11,
     "metadata": {},
     "output_type": "execute_result"
    }
   ],
   "source": [
    "lons = SST.coord('longitude').points\n",
    "lons[(lons > 200) & (lons < 230)]"
   ]
  },
  {
   "cell_type": "markdown",
   "metadata": {},
   "source": [
    "# Generate a faux pandas MHW Event table"
   ]
  },
  {
   "cell_type": "markdown",
   "metadata": {},
   "source": [
    "## Pacific"
   ]
  },
  {
   "cell_type": "markdown",
   "metadata": {},
   "source": [
    "### Locations"
   ]
  },
  {
   "cell_type": "code",
   "execution_count": 12,
   "metadata": {},
   "outputs": [
    {
     "data": {
      "text/plain": [
       "120"
      ]
     },
     "execution_count": 12,
     "metadata": {},
     "output_type": "execute_result"
    }
   ],
   "source": [
    "pac_lons = lons[(lons > 200) & (lons < 230)]\n",
    "pac_lons.size"
   ]
  },
  {
   "cell_type": "code",
   "execution_count": 13,
   "metadata": {},
   "outputs": [
    {
     "data": {
      "text/plain": [
       "80"
      ]
     },
     "execution_count": 13,
     "metadata": {},
     "output_type": "execute_result"
    }
   ],
   "source": [
    "pac_lats = lats[(lats>40.) & (lats < 60.)]\n",
    "pac_lats.size"
   ]
  },
  {
   "cell_type": "code",
   "execution_count": 23,
   "metadata": {},
   "outputs": [],
   "source": [
    "pac_XX, pac_YY = np.meshgrid(pac_lons, pac_lats)"
   ]
  },
  {
   "cell_type": "code",
   "execution_count": 25,
   "metadata": {},
   "outputs": [
    {
     "data": {
      "text/plain": [
       "(80, 120)"
      ]
     },
     "execution_count": 25,
     "metadata": {},
     "output_type": "execute_result"
    }
   ],
   "source": [
    "pac_XX.shape"
   ]
  },
  {
   "cell_type": "code",
   "execution_count": null,
   "metadata": {},
   "outputs": [],
   "source": []
  },
  {
   "cell_type": "markdown",
   "metadata": {},
   "source": [
    "### Times"
   ]
  },
  {
   "cell_type": "code",
   "execution_count": 67,
   "metadata": {},
   "outputs": [
    {
     "data": {
      "text/plain": [
       "735233"
      ]
     },
     "execution_count": 67,
     "metadata": {},
     "output_type": "execute_result"
    }
   ],
   "source": [
    "pac_date_end = date(2013, 12, 31)\n",
    "pac_date_end.toordinal()"
   ]
  },
  {
   "cell_type": "code",
   "execution_count": 27,
   "metadata": {},
   "outputs": [
    {
     "data": {
      "text/plain": [
       "array([[81, 33, 13, ...,  7, 98,  6],\n",
       "       [68, 14, 90, ..., 33, 26,  9],\n",
       "       [24, 86, 48, ..., 44, 55, 89],\n",
       "       ...,\n",
       "       [ 9, 64, 17, ..., 75, 58, 16],\n",
       "       [42, 30, 24, ..., 91, 79, 79],\n",
       "       [31, 72, 43, ..., 27, 10, 74]])"
      ]
     },
     "execution_count": 27,
     "metadata": {},
     "output_type": "execute_result"
    }
   ],
   "source": [
    "rand_dur = np.random.randint(5,100, pac_lats.size*pac_lons.size).reshape((80,120))\n",
    "rand_dur"
   ]
  },
  {
   "cell_type": "code",
   "execution_count": 28,
   "metadata": {},
   "outputs": [],
   "source": [
    "pac_start = pac_date_end.toordinal() - rand_dur"
   ]
  },
  {
   "cell_type": "code",
   "execution_count": 30,
   "metadata": {},
   "outputs": [
    {
     "data": {
      "text/plain": [
       "(80, 120)"
      ]
     },
     "execution_count": 30,
     "metadata": {},
     "output_type": "execute_result"
    }
   ],
   "source": [
    "pac_start.shape"
   ]
  },
  {
   "cell_type": "markdown",
   "metadata": {},
   "source": [
    "### Random categories"
   ]
  },
  {
   "cell_type": "code",
   "execution_count": 79,
   "metadata": {},
   "outputs": [],
   "source": [
    "ran_cat = np.random.randint(0,4, pac_lats.size*pac_lons.size).reshape((80,120))"
   ]
  },
  {
   "cell_type": "markdown",
   "metadata": {},
   "source": [
    "### Build em"
   ]
  },
  {
   "cell_type": "code",
   "execution_count": 80,
   "metadata": {},
   "outputs": [],
   "source": [
    "pac_mhw_events = dict(lat=[], lon=[], duration=[], time_start=[], category=[])\n",
    "for ii in range(pac_start.shape[0]):\n",
    "    for jj in range(pac_start.shape[1]):\n",
    "        # Fill it up\n",
    "        pac_mhw_events['lat'].append(pac_YY[ii,jj])\n",
    "        pac_mhw_events['lon'].append(pac_XX[ii,jj])\n",
    "        pac_mhw_events['duration'].append(rand_dur[ii,jj])\n",
    "        pac_mhw_events['time_start'].append(pac_start[ii,jj])\n",
    "        pac_mhw_events['category'].append(ran_cat[ii,jj])"
   ]
  },
  {
   "cell_type": "code",
   "execution_count": 81,
   "metadata": {},
   "outputs": [],
   "source": [
    "pac_tbl = pandas.DataFrame(pac_mhw_events)"
   ]
  },
  {
   "cell_type": "code",
   "execution_count": 82,
   "metadata": {},
   "outputs": [
    {
     "data": {
      "text/html": [
       "<div>\n",
       "<style scoped>\n",
       "    .dataframe tbody tr th:only-of-type {\n",
       "        vertical-align: middle;\n",
       "    }\n",
       "\n",
       "    .dataframe tbody tr th {\n",
       "        vertical-align: top;\n",
       "    }\n",
       "\n",
       "    .dataframe thead th {\n",
       "        text-align: right;\n",
       "    }\n",
       "</style>\n",
       "<table border=\"1\" class=\"dataframe\">\n",
       "  <thead>\n",
       "    <tr style=\"text-align: right;\">\n",
       "      <th></th>\n",
       "      <th>lat</th>\n",
       "      <th>lon</th>\n",
       "      <th>duration</th>\n",
       "      <th>time_start</th>\n",
       "      <th>category</th>\n",
       "    </tr>\n",
       "  </thead>\n",
       "  <tbody>\n",
       "    <tr>\n",
       "      <th>0</th>\n",
       "      <td>40.125</td>\n",
       "      <td>200.125</td>\n",
       "      <td>81</td>\n",
       "      <td>735152</td>\n",
       "      <td>2</td>\n",
       "    </tr>\n",
       "    <tr>\n",
       "      <th>1</th>\n",
       "      <td>40.125</td>\n",
       "      <td>200.375</td>\n",
       "      <td>33</td>\n",
       "      <td>735200</td>\n",
       "      <td>1</td>\n",
       "    </tr>\n",
       "    <tr>\n",
       "      <th>2</th>\n",
       "      <td>40.125</td>\n",
       "      <td>200.625</td>\n",
       "      <td>13</td>\n",
       "      <td>735220</td>\n",
       "      <td>0</td>\n",
       "    </tr>\n",
       "    <tr>\n",
       "      <th>3</th>\n",
       "      <td>40.125</td>\n",
       "      <td>200.875</td>\n",
       "      <td>32</td>\n",
       "      <td>735201</td>\n",
       "      <td>3</td>\n",
       "    </tr>\n",
       "    <tr>\n",
       "      <th>4</th>\n",
       "      <td>40.125</td>\n",
       "      <td>201.125</td>\n",
       "      <td>12</td>\n",
       "      <td>735221</td>\n",
       "      <td>0</td>\n",
       "    </tr>\n",
       "  </tbody>\n",
       "</table>\n",
       "</div>"
      ],
      "text/plain": [
       "      lat      lon  duration  time_start  category\n",
       "0  40.125  200.125        81      735152         2\n",
       "1  40.125  200.375        33      735200         1\n",
       "2  40.125  200.625        13      735220         0\n",
       "3  40.125  200.875        32      735201         3\n",
       "4  40.125  201.125        12      735221         0"
      ]
     },
     "execution_count": 82,
     "metadata": {},
     "output_type": "execute_result"
    }
   ],
   "source": [
    "pac_tbl.head()"
   ]
  },
  {
   "cell_type": "markdown",
   "metadata": {},
   "source": [
    "## Atlantic"
   ]
  },
  {
   "cell_type": "code",
   "execution_count": 41,
   "metadata": {},
   "outputs": [],
   "source": [
    "atl_lons = lons[(lons > (360-70)) & (lons < (360-20))]\n",
    "atl_lats = lats[(lats > 10) & (lats < 50)]"
   ]
  },
  {
   "cell_type": "code",
   "execution_count": 48,
   "metadata": {},
   "outputs": [
    {
     "data": {
      "text/plain": [
       "(32000,)"
      ]
     },
     "execution_count": 48,
     "metadata": {},
     "output_type": "execute_result"
    }
   ],
   "source": [
    "atl_XX, atl_YY = np.meshgrid(atl_lons, atl_lats)\n",
    "atl_XX = atl_XX.flatten()\n",
    "atl_YY = atl_YY.flatten()\n",
    "atl_XX.shape"
   ]
  },
  {
   "cell_type": "code",
   "execution_count": 45,
   "metadata": {},
   "outputs": [],
   "source": [
    "nrand_atl = 500"
   ]
  },
  {
   "cell_type": "code",
   "execution_count": 56,
   "metadata": {},
   "outputs": [
    {
     "data": {
      "text/plain": [
       "array([  510, 10455,  5809, 26731, 22621])"
      ]
     },
     "execution_count": 56,
     "metadata": {},
     "output_type": "execute_result"
    }
   ],
   "source": [
    "pos_rand = np.random.choice(np.arange(atl_XX.size), nrand_atl, replace=False)\n",
    "pos_rand[0:5]"
   ]
  },
  {
   "cell_type": "markdown",
   "metadata": {},
   "source": [
    "### Time"
   ]
  },
  {
   "cell_type": "code",
   "execution_count": 49,
   "metadata": {},
   "outputs": [],
   "source": [
    "atl_dur = 7"
   ]
  },
  {
   "cell_type": "code",
   "execution_count": 51,
   "metadata": {},
   "outputs": [],
   "source": [
    "atl_start = pac_date_end.toordinal() - np.random.randint(10,100, nrand_atl)"
   ]
  },
  {
   "cell_type": "code",
   "execution_count": 83,
   "metadata": {},
   "outputs": [],
   "source": [
    "atl_cat = np.random.randint(0,4, nrand_atl)"
   ]
  },
  {
   "cell_type": "markdown",
   "metadata": {},
   "source": [
    "### Build em"
   ]
  },
  {
   "cell_type": "code",
   "execution_count": 84,
   "metadata": {},
   "outputs": [],
   "source": [
    "atl_mhw_events = dict(lat=[], lon=[], duration=[], time_start=[], category=[])\n",
    "for ii in range(nrand_atl):\n",
    "    # Fill it up\n",
    "    atl_mhw_events['lat'].append(atl_YY[pos_rand[ii]])\n",
    "    atl_mhw_events['lon'].append(atl_XX[pos_rand[ii]])\n",
    "    atl_mhw_events['duration'].append(atl_dur)\n",
    "    atl_mhw_events['time_start'].append(atl_start[ii])\n",
    "    atl_mhw_events['category'].append(atl_cat[ii])"
   ]
  },
  {
   "cell_type": "code",
   "execution_count": 85,
   "metadata": {},
   "outputs": [],
   "source": [
    "atl_tbl = pandas.DataFrame(atl_mhw_events)"
   ]
  },
  {
   "cell_type": "code",
   "execution_count": 86,
   "metadata": {},
   "outputs": [
    {
     "data": {
      "text/html": [
       "<div>\n",
       "<style scoped>\n",
       "    .dataframe tbody tr th:only-of-type {\n",
       "        vertical-align: middle;\n",
       "    }\n",
       "\n",
       "    .dataframe tbody tr th {\n",
       "        vertical-align: top;\n",
       "    }\n",
       "\n",
       "    .dataframe thead th {\n",
       "        text-align: right;\n",
       "    }\n",
       "</style>\n",
       "<table border=\"1\" class=\"dataframe\">\n",
       "  <thead>\n",
       "    <tr style=\"text-align: right;\">\n",
       "      <th></th>\n",
       "      <th>lat</th>\n",
       "      <th>lon</th>\n",
       "      <th>duration</th>\n",
       "      <th>time_start</th>\n",
       "      <th>category</th>\n",
       "    </tr>\n",
       "  </thead>\n",
       "  <tbody>\n",
       "    <tr>\n",
       "      <th>0</th>\n",
       "      <td>10.625</td>\n",
       "      <td>317.625</td>\n",
       "      <td>7</td>\n",
       "      <td>735193</td>\n",
       "      <td>2</td>\n",
       "    </tr>\n",
       "    <tr>\n",
       "      <th>1</th>\n",
       "      <td>23.125</td>\n",
       "      <td>303.875</td>\n",
       "      <td>7</td>\n",
       "      <td>735180</td>\n",
       "      <td>0</td>\n",
       "    </tr>\n",
       "    <tr>\n",
       "      <th>2</th>\n",
       "      <td>17.375</td>\n",
       "      <td>292.375</td>\n",
       "      <td>7</td>\n",
       "      <td>735171</td>\n",
       "      <td>1</td>\n",
       "    </tr>\n",
       "    <tr>\n",
       "      <th>3</th>\n",
       "      <td>43.375</td>\n",
       "      <td>322.875</td>\n",
       "      <td>7</td>\n",
       "      <td>735172</td>\n",
       "      <td>3</td>\n",
       "    </tr>\n",
       "    <tr>\n",
       "      <th>4</th>\n",
       "      <td>38.375</td>\n",
       "      <td>295.375</td>\n",
       "      <td>7</td>\n",
       "      <td>735187</td>\n",
       "      <td>1</td>\n",
       "    </tr>\n",
       "  </tbody>\n",
       "</table>\n",
       "</div>"
      ],
      "text/plain": [
       "      lat      lon  duration  time_start  category\n",
       "0  10.625  317.625         7      735193         2\n",
       "1  23.125  303.875         7      735180         0\n",
       "2  17.375  292.375         7      735171         1\n",
       "3  43.375  322.875         7      735172         3\n",
       "4  38.375  295.375         7      735187         1"
      ]
     },
     "execution_count": 86,
     "metadata": {},
     "output_type": "execute_result"
    }
   ],
   "source": [
    "atl_tbl.head()"
   ]
  },
  {
   "cell_type": "markdown",
   "metadata": {},
   "source": [
    "## Combine"
   ]
  },
  {
   "cell_type": "code",
   "execution_count": 87,
   "metadata": {},
   "outputs": [
    {
     "data": {
      "text/html": [
       "<div>\n",
       "<style scoped>\n",
       "    .dataframe tbody tr th:only-of-type {\n",
       "        vertical-align: middle;\n",
       "    }\n",
       "\n",
       "    .dataframe tbody tr th {\n",
       "        vertical-align: top;\n",
       "    }\n",
       "\n",
       "    .dataframe thead th {\n",
       "        text-align: right;\n",
       "    }\n",
       "</style>\n",
       "<table border=\"1\" class=\"dataframe\">\n",
       "  <thead>\n",
       "    <tr style=\"text-align: right;\">\n",
       "      <th></th>\n",
       "      <th>lat</th>\n",
       "      <th>lon</th>\n",
       "      <th>duration</th>\n",
       "      <th>time_start</th>\n",
       "      <th>category</th>\n",
       "    </tr>\n",
       "  </thead>\n",
       "  <tbody>\n",
       "    <tr>\n",
       "      <th>0</th>\n",
       "      <td>40.125</td>\n",
       "      <td>200.125</td>\n",
       "      <td>81</td>\n",
       "      <td>735152</td>\n",
       "      <td>2</td>\n",
       "    </tr>\n",
       "    <tr>\n",
       "      <th>1</th>\n",
       "      <td>40.125</td>\n",
       "      <td>200.375</td>\n",
       "      <td>33</td>\n",
       "      <td>735200</td>\n",
       "      <td>1</td>\n",
       "    </tr>\n",
       "    <tr>\n",
       "      <th>2</th>\n",
       "      <td>40.125</td>\n",
       "      <td>200.625</td>\n",
       "      <td>13</td>\n",
       "      <td>735220</td>\n",
       "      <td>0</td>\n",
       "    </tr>\n",
       "    <tr>\n",
       "      <th>3</th>\n",
       "      <td>40.125</td>\n",
       "      <td>200.875</td>\n",
       "      <td>32</td>\n",
       "      <td>735201</td>\n",
       "      <td>3</td>\n",
       "    </tr>\n",
       "    <tr>\n",
       "      <th>4</th>\n",
       "      <td>40.125</td>\n",
       "      <td>201.125</td>\n",
       "      <td>12</td>\n",
       "      <td>735221</td>\n",
       "      <td>0</td>\n",
       "    </tr>\n",
       "  </tbody>\n",
       "</table>\n",
       "</div>"
      ],
      "text/plain": [
       "      lat      lon  duration  time_start  category\n",
       "0  40.125  200.125        81      735152         2\n",
       "1  40.125  200.375        33      735200         1\n",
       "2  40.125  200.625        13      735220         0\n",
       "3  40.125  200.875        32      735201         3\n",
       "4  40.125  201.125        12      735221         0"
      ]
     },
     "execution_count": 87,
     "metadata": {},
     "output_type": "execute_result"
    }
   ],
   "source": [
    "mhw_tbl = pandas.concat([pac_tbl, atl_tbl])\n",
    "mhw_tbl.head()"
   ]
  },
  {
   "cell_type": "markdown",
   "metadata": {},
   "source": [
    "# Cube"
   ]
  },
  {
   "cell_type": "code",
   "execution_count": 88,
   "metadata": {},
   "outputs": [
    {
     "name": "stdout",
     "output_type": "stream",
     "text": [
      "Events are loaded\n",
      "kk = 0\n",
      "Wrote: test_cube.npz\n"
     ]
    }
   ],
   "source": [
    "reload(mhw_cube)\n",
    "cube = mhw_cube.build_cube('test_cube.npz', mhw_events=mhw_tbl, dmy_start=(2013,1,1), dmy_end=(2013,12,31))"
   ]
  },
  {
   "cell_type": "code",
   "execution_count": 92,
   "metadata": {},
   "outputs": [
    {
     "data": {
      "text/plain": [
       "(4, dtype('int8'))"
      ]
     },
     "execution_count": 92,
     "metadata": {},
     "output_type": "execute_result"
    }
   ],
   "source": [
    "np.max(cube), cube.dtype"
   ]
  },
  {
   "cell_type": "markdown",
   "metadata": {},
   "source": [
    "# Systems"
   ]
  },
  {
   "cell_type": "code",
   "execution_count": 95,
   "metadata": {},
   "outputs": [
    {
     "data": {
      "text/plain": [
       "<module 'mhw_analysis.systems.build' from '/home/xavier/Projects/Oceanography/Python/mhw_analysis/mhw_analysis/systems/build.py'>"
      ]
     },
     "execution_count": 95,
     "metadata": {},
     "output_type": "execute_result"
    }
   ],
   "source": [
    "reload(mhw_build)\n",
    "mhw_sys, mhw_mask = mhw_build."
   ]
  },
  {
   "cell_type": "code",
   "execution_count": null,
   "metadata": {},
   "outputs": [],
   "source": []
  }
 ],
 "metadata": {
  "kernelspec": {
   "display_name": "Python 3",
   "language": "python",
   "name": "python3"
  },
  "language_info": {
   "codemirror_mode": {
    "name": "ipython",
    "version": 3
   },
   "file_extension": ".py",
   "mimetype": "text/x-python",
   "name": "python",
   "nbconvert_exporter": "python",
   "pygments_lexer": "ipython3",
   "version": "3.7.6"
  }
 },
 "nbformat": 4,
 "nbformat_minor": 4
}
