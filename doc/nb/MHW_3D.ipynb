{
 "cells": [
  {
   "cell_type": "markdown",
   "metadata": {},
   "source": [
    "# MHW Event 3D"
   ]
  },
  {
   "cell_type": "code",
   "execution_count": 1,
   "metadata": {},
   "outputs": [],
   "source": [
    "# imports\n",
    "import numpy as np\n",
    "import os\n",
    "from matplotlib import pyplot as plt\n",
    "\n",
    "from datetime import date\n",
    "\n",
    "import pandas\n",
    "import sqlalchemy\n",
    "from mayavi import mlab"
   ]
  },
  {
   "cell_type": "markdown",
   "metadata": {},
   "source": [
    "# Load"
   ]
  },
  {
   "cell_type": "code",
   "execution_count": 2,
   "metadata": {},
   "outputs": [
    {
     "data": {
      "text/plain": [
       "<sqlalchemy.engine.base.Connection at 0x7ff6298a40b8>"
      ]
     },
     "execution_count": 2,
     "metadata": {},
     "output_type": "execute_result"
    }
   ],
   "source": [
    "mhw_file = '/home/xavier/Projects/Oceanography/MHW/db/mhws_allsky_defaults.db'\n",
    "tst_file = '/home/xavier/Projects/Oceanography/MHW/db/test_mhws_allsky.db'\n",
    "#\n",
    "engine = sqlalchemy.create_engine('sqlite:///'+mhw_file)\n",
    "connection = engine.connect()\n",
    "connection"
   ]
  },
  {
   "cell_type": "code",
   "execution_count": 3,
   "metadata": {},
   "outputs": [
    {
     "data": {
      "text/html": [
       "<div>\n",
       "<style scoped>\n",
       "    .dataframe tbody tr th:only-of-type {\n",
       "        vertical-align: middle;\n",
       "    }\n",
       "\n",
       "    .dataframe tbody tr th {\n",
       "        vertical-align: top;\n",
       "    }\n",
       "\n",
       "    .dataframe thead th {\n",
       "        text-align: right;\n",
       "    }\n",
       "</style>\n",
       "<table border=\"1\" class=\"dataframe\">\n",
       "  <thead>\n",
       "    <tr style=\"text-align: right;\">\n",
       "      <th></th>\n",
       "      <th>date</th>\n",
       "      <th>lon</th>\n",
       "      <th>lat</th>\n",
       "      <th>duration</th>\n",
       "      <th>ievent</th>\n",
       "      <th>time_peak</th>\n",
       "      <th>time_start</th>\n",
       "    </tr>\n",
       "  </thead>\n",
       "  <tbody>\n",
       "    <tr>\n",
       "      <th>0</th>\n",
       "      <td>1982-01-01</td>\n",
       "      <td>0.125</td>\n",
       "      <td>-71.375</td>\n",
       "      <td>13</td>\n",
       "      <td>0</td>\n",
       "      <td>723552</td>\n",
       "      <td>723546</td>\n",
       "    </tr>\n",
       "    <tr>\n",
       "      <th>1</th>\n",
       "      <td>1982-12-20</td>\n",
       "      <td>0.125</td>\n",
       "      <td>-71.375</td>\n",
       "      <td>33</td>\n",
       "      <td>1</td>\n",
       "      <td>723901</td>\n",
       "      <td>723899</td>\n",
       "    </tr>\n",
       "    <tr>\n",
       "      <th>2</th>\n",
       "      <td>1985-01-30</td>\n",
       "      <td>0.125</td>\n",
       "      <td>-71.375</td>\n",
       "      <td>10</td>\n",
       "      <td>2</td>\n",
       "      <td>724677</td>\n",
       "      <td>724671</td>\n",
       "    </tr>\n",
       "    <tr>\n",
       "      <th>3</th>\n",
       "      <td>1988-01-10</td>\n",
       "      <td>0.125</td>\n",
       "      <td>-71.375</td>\n",
       "      <td>9</td>\n",
       "      <td>3</td>\n",
       "      <td>725752</td>\n",
       "      <td>725746</td>\n",
       "    </tr>\n",
       "    <tr>\n",
       "      <th>4</th>\n",
       "      <td>1991-01-09</td>\n",
       "      <td>0.125</td>\n",
       "      <td>-71.375</td>\n",
       "      <td>52</td>\n",
       "      <td>4</td>\n",
       "      <td>726858</td>\n",
       "      <td>726841</td>\n",
       "    </tr>\n",
       "  </tbody>\n",
       "</table>\n",
       "</div>"
      ],
      "text/plain": [
       "        date    lon     lat  duration  ievent  time_peak  time_start\n",
       "0 1982-01-01  0.125 -71.375        13       0     723552      723546\n",
       "1 1982-12-20  0.125 -71.375        33       1     723901      723899\n",
       "2 1985-01-30  0.125 -71.375        10       2     724677      724671\n",
       "3 1988-01-10  0.125 -71.375         9       3     725752      725746\n",
       "4 1991-01-09  0.125 -71.375        52       4     726858      726841"
      ]
     },
     "execution_count": 3,
     "metadata": {},
     "output_type": "execute_result"
    }
   ],
   "source": [
    "mhw_events = pandas.read_sql_table('MHW_Events', con=engine, \n",
    "                               columns=['date', 'lon', 'lat', 'duration' , \n",
    "                                        'ievent', 'time_peak', 'time_start'])\n",
    "mhw_events.head()"
   ]
  },
  {
   "cell_type": "code",
   "execution_count": 4,
   "metadata": {},
   "outputs": [
    {
     "data": {
      "text/html": [
       "<div>\n",
       "<style scoped>\n",
       "    .dataframe tbody tr th:only-of-type {\n",
       "        vertical-align: middle;\n",
       "    }\n",
       "\n",
       "    .dataframe tbody tr th {\n",
       "        vertical-align: top;\n",
       "    }\n",
       "\n",
       "    .dataframe thead th {\n",
       "        text-align: right;\n",
       "    }\n",
       "</style>\n",
       "<table border=\"1\" class=\"dataframe\">\n",
       "  <thead>\n",
       "    <tr style=\"text-align: right;\">\n",
       "      <th></th>\n",
       "      <th>lon</th>\n",
       "      <th>lat</th>\n",
       "      <th>duration</th>\n",
       "      <th>ievent</th>\n",
       "      <th>time_peak</th>\n",
       "      <th>time_start</th>\n",
       "    </tr>\n",
       "    <tr>\n",
       "      <th>date</th>\n",
       "      <th></th>\n",
       "      <th></th>\n",
       "      <th></th>\n",
       "      <th></th>\n",
       "      <th></th>\n",
       "      <th></th>\n",
       "    </tr>\n",
       "  </thead>\n",
       "  <tbody>\n",
       "    <tr>\n",
       "      <th>1982-01-01</th>\n",
       "      <td>0.125</td>\n",
       "      <td>-71.375</td>\n",
       "      <td>13</td>\n",
       "      <td>0</td>\n",
       "      <td>723552</td>\n",
       "      <td>723546</td>\n",
       "    </tr>\n",
       "    <tr>\n",
       "      <th>1982-12-20</th>\n",
       "      <td>0.125</td>\n",
       "      <td>-71.375</td>\n",
       "      <td>33</td>\n",
       "      <td>1</td>\n",
       "      <td>723901</td>\n",
       "      <td>723899</td>\n",
       "    </tr>\n",
       "    <tr>\n",
       "      <th>1985-01-30</th>\n",
       "      <td>0.125</td>\n",
       "      <td>-71.375</td>\n",
       "      <td>10</td>\n",
       "      <td>2</td>\n",
       "      <td>724677</td>\n",
       "      <td>724671</td>\n",
       "    </tr>\n",
       "    <tr>\n",
       "      <th>1988-01-10</th>\n",
       "      <td>0.125</td>\n",
       "      <td>-71.375</td>\n",
       "      <td>9</td>\n",
       "      <td>3</td>\n",
       "      <td>725752</td>\n",
       "      <td>725746</td>\n",
       "    </tr>\n",
       "    <tr>\n",
       "      <th>1991-01-09</th>\n",
       "      <td>0.125</td>\n",
       "      <td>-71.375</td>\n",
       "      <td>52</td>\n",
       "      <td>4</td>\n",
       "      <td>726858</td>\n",
       "      <td>726841</td>\n",
       "    </tr>\n",
       "  </tbody>\n",
       "</table>\n",
       "</div>"
      ],
      "text/plain": [
       "              lon     lat  duration  ievent  time_peak  time_start\n",
       "date                                                              \n",
       "1982-01-01  0.125 -71.375        13       0     723552      723546\n",
       "1982-12-20  0.125 -71.375        33       1     723901      723899\n",
       "1985-01-30  0.125 -71.375        10       2     724677      724671\n",
       "1988-01-10  0.125 -71.375         9       3     725752      725746\n",
       "1991-01-09  0.125 -71.375        52       4     726858      726841"
      ]
     },
     "execution_count": 4,
     "metadata": {},
     "output_type": "execute_result"
    }
   ],
   "source": [
    "mhw_events = mhw_events.set_index('date')\n",
    "mhw_events.head()"
   ]
  },
  {
   "cell_type": "markdown",
   "metadata": {},
   "source": [
    "## Add start date"
   ]
  },
  {
   "cell_type": "code",
   "execution_count": 5,
   "metadata": {},
   "outputs": [],
   "source": [
    "mhw_events['peak_date'] = pandas.to_datetime([date.fromordinal(tt) for tt in mhw_events['time_peak']])"
   ]
  },
  {
   "cell_type": "code",
   "execution_count": 6,
   "metadata": {},
   "outputs": [
    {
     "data": {
      "text/html": [
       "<div>\n",
       "<style scoped>\n",
       "    .dataframe tbody tr th:only-of-type {\n",
       "        vertical-align: middle;\n",
       "    }\n",
       "\n",
       "    .dataframe tbody tr th {\n",
       "        vertical-align: top;\n",
       "    }\n",
       "\n",
       "    .dataframe thead th {\n",
       "        text-align: right;\n",
       "    }\n",
       "</style>\n",
       "<table border=\"1\" class=\"dataframe\">\n",
       "  <thead>\n",
       "    <tr style=\"text-align: right;\">\n",
       "      <th></th>\n",
       "      <th>lon</th>\n",
       "      <th>lat</th>\n",
       "      <th>duration</th>\n",
       "      <th>ievent</th>\n",
       "      <th>time_peak</th>\n",
       "      <th>time_start</th>\n",
       "      <th>peak_date</th>\n",
       "    </tr>\n",
       "    <tr>\n",
       "      <th>date</th>\n",
       "      <th></th>\n",
       "      <th></th>\n",
       "      <th></th>\n",
       "      <th></th>\n",
       "      <th></th>\n",
       "      <th></th>\n",
       "      <th></th>\n",
       "    </tr>\n",
       "  </thead>\n",
       "  <tbody>\n",
       "    <tr>\n",
       "      <th>1982-01-01</th>\n",
       "      <td>0.125</td>\n",
       "      <td>-71.375</td>\n",
       "      <td>13</td>\n",
       "      <td>0</td>\n",
       "      <td>723552</td>\n",
       "      <td>723546</td>\n",
       "      <td>1982-01-07</td>\n",
       "    </tr>\n",
       "    <tr>\n",
       "      <th>1982-12-20</th>\n",
       "      <td>0.125</td>\n",
       "      <td>-71.375</td>\n",
       "      <td>33</td>\n",
       "      <td>1</td>\n",
       "      <td>723901</td>\n",
       "      <td>723899</td>\n",
       "      <td>1982-12-22</td>\n",
       "    </tr>\n",
       "    <tr>\n",
       "      <th>1985-01-30</th>\n",
       "      <td>0.125</td>\n",
       "      <td>-71.375</td>\n",
       "      <td>10</td>\n",
       "      <td>2</td>\n",
       "      <td>724677</td>\n",
       "      <td>724671</td>\n",
       "      <td>1985-02-05</td>\n",
       "    </tr>\n",
       "    <tr>\n",
       "      <th>1988-01-10</th>\n",
       "      <td>0.125</td>\n",
       "      <td>-71.375</td>\n",
       "      <td>9</td>\n",
       "      <td>3</td>\n",
       "      <td>725752</td>\n",
       "      <td>725746</td>\n",
       "      <td>1988-01-16</td>\n",
       "    </tr>\n",
       "    <tr>\n",
       "      <th>1991-01-09</th>\n",
       "      <td>0.125</td>\n",
       "      <td>-71.375</td>\n",
       "      <td>52</td>\n",
       "      <td>4</td>\n",
       "      <td>726858</td>\n",
       "      <td>726841</td>\n",
       "      <td>1991-01-26</td>\n",
       "    </tr>\n",
       "  </tbody>\n",
       "</table>\n",
       "</div>"
      ],
      "text/plain": [
       "              lon     lat  duration  ievent  time_peak  time_start  peak_date\n",
       "date                                                                         \n",
       "1982-01-01  0.125 -71.375        13       0     723552      723546 1982-01-07\n",
       "1982-12-20  0.125 -71.375        33       1     723901      723899 1982-12-22\n",
       "1985-01-30  0.125 -71.375        10       2     724677      724671 1985-02-05\n",
       "1988-01-10  0.125 -71.375         9       3     725752      725746 1988-01-16\n",
       "1991-01-09  0.125 -71.375        52       4     726858      726841 1991-01-26"
      ]
     },
     "execution_count": 6,
     "metadata": {},
     "output_type": "execute_result"
    }
   ],
   "source": [
    "mhw_events.head()"
   ]
  },
  {
   "cell_type": "markdown",
   "metadata": {},
   "source": [
    "# Pick one"
   ]
  },
  {
   "cell_type": "markdown",
   "metadata": {},
   "source": [
    "## Not so far from the equator"
   ]
  },
  {
   "cell_type": "code",
   "execution_count": 7,
   "metadata": {},
   "outputs": [],
   "source": [
    "equ_events = mhw_events[np.abs(mhw_events['lat']) < 20.]"
   ]
  },
  {
   "cell_type": "code",
   "execution_count": 8,
   "metadata": {},
   "outputs": [
    {
     "data": {
      "text/html": [
       "<div>\n",
       "<style scoped>\n",
       "    .dataframe tbody tr th:only-of-type {\n",
       "        vertical-align: middle;\n",
       "    }\n",
       "\n",
       "    .dataframe tbody tr th {\n",
       "        vertical-align: top;\n",
       "    }\n",
       "\n",
       "    .dataframe thead th {\n",
       "        text-align: right;\n",
       "    }\n",
       "</style>\n",
       "<table border=\"1\" class=\"dataframe\">\n",
       "  <thead>\n",
       "    <tr style=\"text-align: right;\">\n",
       "      <th></th>\n",
       "      <th>lon</th>\n",
       "      <th>lat</th>\n",
       "      <th>duration</th>\n",
       "      <th>ievent</th>\n",
       "      <th>time_peak</th>\n",
       "      <th>time_start</th>\n",
       "      <th>peak_date</th>\n",
       "    </tr>\n",
       "    <tr>\n",
       "      <th>date</th>\n",
       "      <th></th>\n",
       "      <th></th>\n",
       "      <th></th>\n",
       "      <th></th>\n",
       "      <th></th>\n",
       "      <th></th>\n",
       "      <th></th>\n",
       "    </tr>\n",
       "  </thead>\n",
       "  <tbody>\n",
       "    <tr>\n",
       "      <th>2015-03-21</th>\n",
       "      <td>190.375</td>\n",
       "      <td>-2.125</td>\n",
       "      <td>433</td>\n",
       "      <td>55</td>\n",
       "      <td>736005</td>\n",
       "      <td>735678</td>\n",
       "      <td>2016-02-11</td>\n",
       "    </tr>\n",
       "    <tr>\n",
       "      <th>2015-03-20</th>\n",
       "      <td>190.125</td>\n",
       "      <td>-2.375</td>\n",
       "      <td>434</td>\n",
       "      <td>51</td>\n",
       "      <td>735997</td>\n",
       "      <td>735677</td>\n",
       "      <td>2016-02-03</td>\n",
       "    </tr>\n",
       "    <tr>\n",
       "      <th>2015-03-20</th>\n",
       "      <td>190.125</td>\n",
       "      <td>-2.625</td>\n",
       "      <td>434</td>\n",
       "      <td>51</td>\n",
       "      <td>736015</td>\n",
       "      <td>735677</td>\n",
       "      <td>2016-02-21</td>\n",
       "    </tr>\n",
       "    <tr>\n",
       "      <th>1997-06-27</th>\n",
       "      <td>270.625</td>\n",
       "      <td>-11.875</td>\n",
       "      <td>436</td>\n",
       "      <td>9</td>\n",
       "      <td>729351</td>\n",
       "      <td>729202</td>\n",
       "      <td>1997-11-23</td>\n",
       "    </tr>\n",
       "    <tr>\n",
       "      <th>1997-08-20</th>\n",
       "      <td>262.375</td>\n",
       "      <td>-10.875</td>\n",
       "      <td>436</td>\n",
       "      <td>10</td>\n",
       "      <td>729459</td>\n",
       "      <td>729256</td>\n",
       "      <td>1998-03-11</td>\n",
       "    </tr>\n",
       "    <tr>\n",
       "      <th>1997-08-19</th>\n",
       "      <td>262.625</td>\n",
       "      <td>-10.625</td>\n",
       "      <td>436</td>\n",
       "      <td>12</td>\n",
       "      <td>729417</td>\n",
       "      <td>729255</td>\n",
       "      <td>1998-01-28</td>\n",
       "    </tr>\n",
       "    <tr>\n",
       "      <th>1997-06-27</th>\n",
       "      <td>270.625</td>\n",
       "      <td>-12.125</td>\n",
       "      <td>436</td>\n",
       "      <td>11</td>\n",
       "      <td>729350</td>\n",
       "      <td>729202</td>\n",
       "      <td>1997-11-22</td>\n",
       "    </tr>\n",
       "    <tr>\n",
       "      <th>2015-03-13</th>\n",
       "      <td>219.875</td>\n",
       "      <td>4.875</td>\n",
       "      <td>438</td>\n",
       "      <td>69</td>\n",
       "      <td>735727</td>\n",
       "      <td>735670</td>\n",
       "      <td>2015-05-09</td>\n",
       "    </tr>\n",
       "    <tr>\n",
       "      <th>1997-06-25</th>\n",
       "      <td>270.625</td>\n",
       "      <td>-11.625</td>\n",
       "      <td>438</td>\n",
       "      <td>13</td>\n",
       "      <td>729351</td>\n",
       "      <td>729200</td>\n",
       "      <td>1997-11-23</td>\n",
       "    </tr>\n",
       "    <tr>\n",
       "      <th>2015-03-15</th>\n",
       "      <td>189.875</td>\n",
       "      <td>-2.375</td>\n",
       "      <td>439</td>\n",
       "      <td>52</td>\n",
       "      <td>735997</td>\n",
       "      <td>735672</td>\n",
       "      <td>2016-02-03</td>\n",
       "    </tr>\n",
       "    <tr>\n",
       "      <th>2015-03-14</th>\n",
       "      <td>220.375</td>\n",
       "      <td>5.125</td>\n",
       "      <td>441</td>\n",
       "      <td>59</td>\n",
       "      <td>735775</td>\n",
       "      <td>735671</td>\n",
       "      <td>2015-06-26</td>\n",
       "    </tr>\n",
       "    <tr>\n",
       "      <th>2015-03-11</th>\n",
       "      <td>220.125</td>\n",
       "      <td>4.875</td>\n",
       "      <td>441</td>\n",
       "      <td>66</td>\n",
       "      <td>735727</td>\n",
       "      <td>735668</td>\n",
       "      <td>2015-05-09</td>\n",
       "    </tr>\n",
       "    <tr>\n",
       "      <th>2015-03-09</th>\n",
       "      <td>189.875</td>\n",
       "      <td>-2.625</td>\n",
       "      <td>445</td>\n",
       "      <td>52</td>\n",
       "      <td>736015</td>\n",
       "      <td>735666</td>\n",
       "      <td>2016-02-21</td>\n",
       "    </tr>\n",
       "    <tr>\n",
       "      <th>1997-06-16</th>\n",
       "      <td>270.625</td>\n",
       "      <td>-11.375</td>\n",
       "      <td>447</td>\n",
       "      <td>15</td>\n",
       "      <td>729359</td>\n",
       "      <td>729191</td>\n",
       "      <td>1997-12-01</td>\n",
       "    </tr>\n",
       "    <tr>\n",
       "      <th>1997-06-16</th>\n",
       "      <td>270.875</td>\n",
       "      <td>-11.625</td>\n",
       "      <td>447</td>\n",
       "      <td>13</td>\n",
       "      <td>729351</td>\n",
       "      <td>729191</td>\n",
       "      <td>1997-11-23</td>\n",
       "    </tr>\n",
       "    <tr>\n",
       "      <th>2015-03-09</th>\n",
       "      <td>189.375</td>\n",
       "      <td>-2.875</td>\n",
       "      <td>449</td>\n",
       "      <td>57</td>\n",
       "      <td>736015</td>\n",
       "      <td>735666</td>\n",
       "      <td>2016-02-21</td>\n",
       "    </tr>\n",
       "    <tr>\n",
       "      <th>2015-03-09</th>\n",
       "      <td>189.625</td>\n",
       "      <td>-2.875</td>\n",
       "      <td>449</td>\n",
       "      <td>55</td>\n",
       "      <td>736015</td>\n",
       "      <td>735666</td>\n",
       "      <td>2016-02-21</td>\n",
       "    </tr>\n",
       "    <tr>\n",
       "      <th>2015-03-09</th>\n",
       "      <td>190.125</td>\n",
       "      <td>-2.875</td>\n",
       "      <td>449</td>\n",
       "      <td>56</td>\n",
       "      <td>736015</td>\n",
       "      <td>735666</td>\n",
       "      <td>2016-02-21</td>\n",
       "    </tr>\n",
       "    <tr>\n",
       "      <th>2015-03-09</th>\n",
       "      <td>189.625</td>\n",
       "      <td>-2.625</td>\n",
       "      <td>449</td>\n",
       "      <td>45</td>\n",
       "      <td>736015</td>\n",
       "      <td>735666</td>\n",
       "      <td>2016-02-21</td>\n",
       "    </tr>\n",
       "    <tr>\n",
       "      <th>1997-06-11</th>\n",
       "      <td>271.125</td>\n",
       "      <td>-11.375</td>\n",
       "      <td>453</td>\n",
       "      <td>12</td>\n",
       "      <td>729358</td>\n",
       "      <td>729186</td>\n",
       "      <td>1997-11-30</td>\n",
       "    </tr>\n",
       "  </tbody>\n",
       "</table>\n",
       "</div>"
      ],
      "text/plain": [
       "                lon     lat  duration  ievent  time_peak  time_start  \\\n",
       "date                                                                   \n",
       "2015-03-21  190.375  -2.125       433      55     736005      735678   \n",
       "2015-03-20  190.125  -2.375       434      51     735997      735677   \n",
       "2015-03-20  190.125  -2.625       434      51     736015      735677   \n",
       "1997-06-27  270.625 -11.875       436       9     729351      729202   \n",
       "1997-08-20  262.375 -10.875       436      10     729459      729256   \n",
       "1997-08-19  262.625 -10.625       436      12     729417      729255   \n",
       "1997-06-27  270.625 -12.125       436      11     729350      729202   \n",
       "2015-03-13  219.875   4.875       438      69     735727      735670   \n",
       "1997-06-25  270.625 -11.625       438      13     729351      729200   \n",
       "2015-03-15  189.875  -2.375       439      52     735997      735672   \n",
       "2015-03-14  220.375   5.125       441      59     735775      735671   \n",
       "2015-03-11  220.125   4.875       441      66     735727      735668   \n",
       "2015-03-09  189.875  -2.625       445      52     736015      735666   \n",
       "1997-06-16  270.625 -11.375       447      15     729359      729191   \n",
       "1997-06-16  270.875 -11.625       447      13     729351      729191   \n",
       "2015-03-09  189.375  -2.875       449      57     736015      735666   \n",
       "2015-03-09  189.625  -2.875       449      55     736015      735666   \n",
       "2015-03-09  190.125  -2.875       449      56     736015      735666   \n",
       "2015-03-09  189.625  -2.625       449      45     736015      735666   \n",
       "1997-06-11  271.125 -11.375       453      12     729358      729186   \n",
       "\n",
       "            peak_date  \n",
       "date                   \n",
       "2015-03-21 2016-02-11  \n",
       "2015-03-20 2016-02-03  \n",
       "2015-03-20 2016-02-21  \n",
       "1997-06-27 1997-11-23  \n",
       "1997-08-20 1998-03-11  \n",
       "1997-08-19 1998-01-28  \n",
       "1997-06-27 1997-11-22  \n",
       "2015-03-13 2015-05-09  \n",
       "1997-06-25 1997-11-23  \n",
       "2015-03-15 2016-02-03  \n",
       "2015-03-14 2015-06-26  \n",
       "2015-03-11 2015-05-09  \n",
       "2015-03-09 2016-02-21  \n",
       "1997-06-16 1997-12-01  \n",
       "1997-06-16 1997-11-23  \n",
       "2015-03-09 2016-02-21  \n",
       "2015-03-09 2016-02-21  \n",
       "2015-03-09 2016-02-21  \n",
       "2015-03-09 2016-02-21  \n",
       "1997-06-11 1997-11-30  "
      ]
     },
     "execution_count": 8,
     "metadata": {},
     "output_type": "execute_result"
    }
   ],
   "source": [
    "equ_events.iloc[np.argsort(equ_events['duration'])[-20:]]"
   ]
  },
  {
   "cell_type": "code",
   "execution_count": 9,
   "metadata": {},
   "outputs": [
    {
     "data": {
      "text/plain": [
       "8385907"
      ]
     },
     "execution_count": 9,
     "metadata": {},
     "output_type": "execute_result"
    }
   ],
   "source": [
    "ievent = np.argsort(equ_events['duration'])[-20:][0]\n",
    "ievent"
   ]
  },
  {
   "cell_type": "markdown",
   "metadata": {},
   "source": [
    "## Build a Cube"
   ]
  },
  {
   "cell_type": "markdown",
   "metadata": {},
   "source": [
    "### Cut out near my event"
   ]
  },
  {
   "cell_type": "code",
   "execution_count": 10,
   "metadata": {},
   "outputs": [
    {
     "data": {
      "text/html": [
       "<div>\n",
       "<style scoped>\n",
       "    .dataframe tbody tr th:only-of-type {\n",
       "        vertical-align: middle;\n",
       "    }\n",
       "\n",
       "    .dataframe tbody tr th {\n",
       "        vertical-align: top;\n",
       "    }\n",
       "\n",
       "    .dataframe thead th {\n",
       "        text-align: right;\n",
       "    }\n",
       "</style>\n",
       "<table border=\"1\" class=\"dataframe\">\n",
       "  <thead>\n",
       "    <tr style=\"text-align: right;\">\n",
       "      <th></th>\n",
       "      <th>lon</th>\n",
       "      <th>lat</th>\n",
       "      <th>duration</th>\n",
       "      <th>ievent</th>\n",
       "      <th>time_peak</th>\n",
       "      <th>time_start</th>\n",
       "      <th>peak_date</th>\n",
       "    </tr>\n",
       "    <tr>\n",
       "      <th>date</th>\n",
       "      <th></th>\n",
       "      <th></th>\n",
       "      <th></th>\n",
       "      <th></th>\n",
       "      <th></th>\n",
       "      <th></th>\n",
       "      <th></th>\n",
       "    </tr>\n",
       "  </thead>\n",
       "  <tbody>\n",
       "    <tr>\n",
       "      <th>2015-03-21</th>\n",
       "      <td>190.375</td>\n",
       "      <td>-2.125</td>\n",
       "      <td>433</td>\n",
       "      <td>55</td>\n",
       "      <td>736005</td>\n",
       "      <td>735678</td>\n",
       "      <td>2016-02-11</td>\n",
       "    </tr>\n",
       "  </tbody>\n",
       "</table>\n",
       "</div>"
      ],
      "text/plain": [
       "                lon    lat  duration  ievent  time_peak  time_start  peak_date\n",
       "date                                                                          \n",
       "2015-03-21  190.375 -2.125       433      55     736005      735678 2016-02-11"
      ]
     },
     "execution_count": 10,
     "metadata": {},
     "output_type": "execute_result"
    }
   ],
   "source": [
    "event = equ_events.iloc[ievent:ievent+1]\n",
    "event"
   ]
  },
  {
   "cell_type": "code",
   "execution_count": 11,
   "metadata": {},
   "outputs": [
    {
     "data": {
      "text/plain": [
       "numpy.datetime64('2015-03-21T00:00:00.000000000')"
      ]
     },
     "execution_count": 11,
     "metadata": {},
     "output_type": "execute_result"
    }
   ],
   "source": [
    "start_date = event.index.values[0]\n",
    "start_date"
   ]
  },
  {
   "cell_type": "code",
   "execution_count": 12,
   "metadata": {},
   "outputs": [
    {
     "data": {
      "text/plain": [
       "Timestamp('2016-05-27 00:00:00')"
      ]
     },
     "execution_count": 12,
     "metadata": {},
     "output_type": "execute_result"
    }
   ],
   "source": [
    "end_date= start_date + pandas.Timedelta(days=event.duration.values[0])\n",
    "end_date"
   ]
  },
  {
   "cell_type": "markdown",
   "metadata": {},
   "source": [
    "## Just use start for now"
   ]
  },
  {
   "cell_type": "markdown",
   "metadata": {},
   "source": [
    "### Time"
   ]
  },
  {
   "cell_type": "code",
   "execution_count": 13,
   "metadata": {},
   "outputs": [],
   "source": [
    "#neartime_events = mhw_events[\"2018-10-15\":\"2019-02-23\"]\n",
    "neartime_events = equ_events[\"2015-03-21\":\"2016-05-27\"]"
   ]
  },
  {
   "cell_type": "code",
   "execution_count": 14,
   "metadata": {},
   "outputs": [
    {
     "data": {
      "text/html": [
       "<div>\n",
       "<style scoped>\n",
       "    .dataframe tbody tr th:only-of-type {\n",
       "        vertical-align: middle;\n",
       "    }\n",
       "\n",
       "    .dataframe tbody tr th {\n",
       "        vertical-align: top;\n",
       "    }\n",
       "\n",
       "    .dataframe thead th {\n",
       "        text-align: right;\n",
       "    }\n",
       "</style>\n",
       "<table border=\"1\" class=\"dataframe\">\n",
       "  <thead>\n",
       "    <tr style=\"text-align: right;\">\n",
       "      <th></th>\n",
       "      <th>lon</th>\n",
       "      <th>lat</th>\n",
       "      <th>duration</th>\n",
       "      <th>ievent</th>\n",
       "      <th>time_peak</th>\n",
       "      <th>time_start</th>\n",
       "      <th>peak_date</th>\n",
       "    </tr>\n",
       "    <tr>\n",
       "      <th>date</th>\n",
       "      <th></th>\n",
       "      <th></th>\n",
       "      <th></th>\n",
       "      <th></th>\n",
       "      <th></th>\n",
       "      <th></th>\n",
       "      <th></th>\n",
       "    </tr>\n",
       "  </thead>\n",
       "  <tbody>\n",
       "    <tr>\n",
       "      <th>2015-12-08</th>\n",
       "      <td>0.125</td>\n",
       "      <td>-19.875</td>\n",
       "      <td>9</td>\n",
       "      <td>62</td>\n",
       "      <td>735944</td>\n",
       "      <td>735940</td>\n",
       "      <td>2015-12-12</td>\n",
       "    </tr>\n",
       "    <tr>\n",
       "      <th>2016-01-26</th>\n",
       "      <td>0.125</td>\n",
       "      <td>-19.875</td>\n",
       "      <td>7</td>\n",
       "      <td>63</td>\n",
       "      <td>735994</td>\n",
       "      <td>735989</td>\n",
       "      <td>2016-01-31</td>\n",
       "    </tr>\n",
       "    <tr>\n",
       "      <th>2016-02-05</th>\n",
       "      <td>0.125</td>\n",
       "      <td>-19.875</td>\n",
       "      <td>47</td>\n",
       "      <td>64</td>\n",
       "      <td>736018</td>\n",
       "      <td>735999</td>\n",
       "      <td>2016-02-24</td>\n",
       "    </tr>\n",
       "    <tr>\n",
       "      <th>2015-12-08</th>\n",
       "      <td>0.125</td>\n",
       "      <td>-19.625</td>\n",
       "      <td>9</td>\n",
       "      <td>64</td>\n",
       "      <td>735944</td>\n",
       "      <td>735940</td>\n",
       "      <td>2015-12-12</td>\n",
       "    </tr>\n",
       "    <tr>\n",
       "      <th>2016-01-26</th>\n",
       "      <td>0.125</td>\n",
       "      <td>-19.625</td>\n",
       "      <td>7</td>\n",
       "      <td>65</td>\n",
       "      <td>735994</td>\n",
       "      <td>735989</td>\n",
       "      <td>2016-01-31</td>\n",
       "    </tr>\n",
       "  </tbody>\n",
       "</table>\n",
       "</div>"
      ],
      "text/plain": [
       "              lon     lat  duration  ievent  time_peak  time_start  peak_date\n",
       "date                                                                         \n",
       "2015-12-08  0.125 -19.875         9      62     735944      735940 2015-12-12\n",
       "2016-01-26  0.125 -19.875         7      63     735994      735989 2016-01-31\n",
       "2016-02-05  0.125 -19.875        47      64     736018      735999 2016-02-24\n",
       "2015-12-08  0.125 -19.625         9      64     735944      735940 2015-12-12\n",
       "2016-01-26  0.125 -19.625         7      65     735994      735989 2016-01-31"
      ]
     },
     "execution_count": 14,
     "metadata": {},
     "output_type": "execute_result"
    }
   ],
   "source": [
    "neartime_events.head()"
   ]
  },
  {
   "cell_type": "markdown",
   "metadata": {},
   "source": [
    "### Space"
   ]
  },
  {
   "cell_type": "code",
   "execution_count": 15,
   "metadata": {},
   "outputs": [
    {
     "data": {
      "text/plain": [
       "-2.125"
      ]
     },
     "execution_count": 15,
     "metadata": {},
     "output_type": "execute_result"
    }
   ],
   "source": [
    "event.lat.values[0]"
   ]
  },
  {
   "cell_type": "code",
   "execution_count": 16,
   "metadata": {},
   "outputs": [
    {
     "data": {
      "text/html": [
       "<div>\n",
       "<style scoped>\n",
       "    .dataframe tbody tr th:only-of-type {\n",
       "        vertical-align: middle;\n",
       "    }\n",
       "\n",
       "    .dataframe tbody tr th {\n",
       "        vertical-align: top;\n",
       "    }\n",
       "\n",
       "    .dataframe thead th {\n",
       "        text-align: right;\n",
       "    }\n",
       "</style>\n",
       "<table border=\"1\" class=\"dataframe\">\n",
       "  <thead>\n",
       "    <tr style=\"text-align: right;\">\n",
       "      <th></th>\n",
       "      <th>lon</th>\n",
       "      <th>lat</th>\n",
       "      <th>duration</th>\n",
       "      <th>ievent</th>\n",
       "      <th>time_peak</th>\n",
       "      <th>time_start</th>\n",
       "      <th>peak_date</th>\n",
       "    </tr>\n",
       "    <tr>\n",
       "      <th>date</th>\n",
       "      <th></th>\n",
       "      <th></th>\n",
       "      <th></th>\n",
       "      <th></th>\n",
       "      <th></th>\n",
       "      <th></th>\n",
       "      <th></th>\n",
       "    </tr>\n",
       "  </thead>\n",
       "  <tbody>\n",
       "    <tr>\n",
       "      <th>2015-03-31</th>\n",
       "      <td>180.625</td>\n",
       "      <td>-11.875</td>\n",
       "      <td>7</td>\n",
       "      <td>72</td>\n",
       "      <td>735689</td>\n",
       "      <td>735688</td>\n",
       "      <td>2015-04-01</td>\n",
       "    </tr>\n",
       "    <tr>\n",
       "      <th>2015-08-09</th>\n",
       "      <td>180.625</td>\n",
       "      <td>-11.875</td>\n",
       "      <td>5</td>\n",
       "      <td>73</td>\n",
       "      <td>735820</td>\n",
       "      <td>735819</td>\n",
       "      <td>2015-08-10</td>\n",
       "    </tr>\n",
       "    <tr>\n",
       "      <th>2015-11-05</th>\n",
       "      <td>180.625</td>\n",
       "      <td>-11.875</td>\n",
       "      <td>9</td>\n",
       "      <td>74</td>\n",
       "      <td>735909</td>\n",
       "      <td>735907</td>\n",
       "      <td>2015-11-07</td>\n",
       "    </tr>\n",
       "    <tr>\n",
       "      <th>2015-12-25</th>\n",
       "      <td>180.625</td>\n",
       "      <td>-11.875</td>\n",
       "      <td>5</td>\n",
       "      <td>75</td>\n",
       "      <td>735959</td>\n",
       "      <td>735957</td>\n",
       "      <td>2015-12-27</td>\n",
       "    </tr>\n",
       "    <tr>\n",
       "      <th>2016-01-26</th>\n",
       "      <td>180.625</td>\n",
       "      <td>-11.875</td>\n",
       "      <td>14</td>\n",
       "      <td>76</td>\n",
       "      <td>735991</td>\n",
       "      <td>735989</td>\n",
       "      <td>2016-01-28</td>\n",
       "    </tr>\n",
       "  </tbody>\n",
       "</table>\n",
       "</div>"
      ],
      "text/plain": [
       "                lon     lat  duration  ievent  time_peak  time_start  \\\n",
       "date                                                                   \n",
       "2015-03-31  180.625 -11.875         7      72     735689      735688   \n",
       "2015-08-09  180.625 -11.875         5      73     735820      735819   \n",
       "2015-11-05  180.625 -11.875         9      74     735909      735907   \n",
       "2015-12-25  180.625 -11.875         5      75     735959      735957   \n",
       "2016-01-26  180.625 -11.875        14      76     735991      735989   \n",
       "\n",
       "            peak_date  \n",
       "date                   \n",
       "2015-03-31 2015-04-01  \n",
       "2015-08-09 2015-08-10  \n",
       "2015-11-05 2015-11-07  \n",
       "2015-12-25 2015-12-27  \n",
       "2016-01-26 2016-01-28  "
      ]
     },
     "execution_count": 16,
     "metadata": {},
     "output_type": "execute_result"
    }
   ],
   "source": [
    "nearst_events = neartime_events[(np.abs(\n",
    "    neartime_events.lat-event.lat.values[0]) < 10.) & (np.abs(\n",
    "    neartime_events.lon-event.lon.values[0]) < 10.)]\n",
    "nearst_events.head()"
   ]
  },
  {
   "cell_type": "markdown",
   "metadata": {},
   "source": [
    "### Cube"
   ]
  },
  {
   "cell_type": "code",
   "execution_count": 17,
   "metadata": {},
   "outputs": [],
   "source": [
    "deg = 10.\n",
    "step = 0.25\n",
    "grid_lon = np.arange(event.lon.values[0]-deg, event.lon.values[0]+deg+step, step)\n",
    "grid_lat = np.arange(event.lat.values[0]-deg, event.lat.values[0]+deg+step, step)"
   ]
  },
  {
   "cell_type": "code",
   "execution_count": 18,
   "metadata": {},
   "outputs": [
    {
     "data": {
      "text/plain": [
       "(433, 81, 81)"
      ]
     },
     "execution_count": 18,
     "metadata": {},
     "output_type": "execute_result"
    }
   ],
   "source": [
    "cube = np.zeros((event.duration.values[0], grid_lat.size, grid_lon.size), dtype='int')\n",
    "cube.shape"
   ]
  },
  {
   "cell_type": "code",
   "execution_count": 19,
   "metadata": {},
   "outputs": [],
   "source": [
    "for index, row in nearst_events.iterrows():\n",
    "    #import pdb; pdb.set_trace()\n",
    "    ilat = np.argmin(np.abs(grid_lat-row.lat))\n",
    "    jlon = np.argmin(np.abs(grid_lon-row.lon))\n",
    "    # Do it!\n",
    "    t0 = row.time_start-event.time_start.values[0]\n",
    "    cube[t0:t0+row.duration+1, ilat, jlon] = 1"
   ]
  },
  {
   "cell_type": "code",
   "execution_count": 20,
   "metadata": {},
   "outputs": [
    {
     "data": {
      "text/plain": [
       "0.511879455653869"
      ]
     },
     "execution_count": 20,
     "metadata": {},
     "output_type": "execute_result"
    }
   ],
   "source": [
    "np.sum(cube)/cube.size"
   ]
  },
  {
   "cell_type": "code",
   "execution_count": 21,
   "metadata": {},
   "outputs": [
    {
     "data": {
      "text/plain": [
       "2840913"
      ]
     },
     "execution_count": 21,
     "metadata": {},
     "output_type": "execute_result"
    }
   ],
   "source": [
    "cube.size"
   ]
  },
  {
   "cell_type": "markdown",
   "metadata": {},
   "source": [
    "## Viz"
   ]
  },
  {
   "cell_type": "code",
   "execution_count": 22,
   "metadata": {},
   "outputs": [],
   "source": [
    "x, y, z = np.ogrid[-10:10:20j, -10:10:20j, -10:10:20j]\n",
    "s = np.sin(x*y*z)/(x*y*z)"
   ]
  },
  {
   "cell_type": "code",
   "execution_count": 23,
   "metadata": {},
   "outputs": [],
   "source": [
    "#mlab.contour3d(s)"
   ]
  },
  {
   "cell_type": "markdown",
   "metadata": {},
   "source": [
    "### Save"
   ]
  },
  {
   "cell_type": "code",
   "execution_count": 24,
   "metadata": {},
   "outputs": [],
   "source": [
    "np.save('tst_cube.npy', cube)"
   ]
  },
  {
   "cell_type": "code",
   "execution_count": null,
   "metadata": {},
   "outputs": [],
   "source": []
  }
 ],
 "metadata": {
  "kernelspec": {
   "display_name": "Python 3",
   "language": "python",
   "name": "python3"
  },
  "language_info": {
   "codemirror_mode": {
    "name": "ipython",
    "version": 3
   },
   "file_extension": ".py",
   "mimetype": "text/x-python",
   "name": "python",
   "nbconvert_exporter": "python",
   "pygments_lexer": "ipython3",
   "version": "3.7.3"
  }
 },
 "nbformat": 4,
 "nbformat_minor": 4
}
