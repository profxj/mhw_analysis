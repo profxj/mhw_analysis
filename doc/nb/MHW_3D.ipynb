{
 "cells": [
  {
   "cell_type": "markdown",
   "metadata": {},
   "source": [
    "# MHW Event 3D"
   ]
  },
  {
   "cell_type": "code",
   "execution_count": 26,
   "metadata": {},
   "outputs": [],
   "source": [
    "# imports\n",
    "import numpy as np\n",
    "import os\n",
    "from matplotlib import pyplot as plt\n",
    "\n",
    "from datetime import date\n",
    "\n",
    "import pandas\n",
    "import sqlalchemy\n",
    "from mayavi import mlab"
   ]
  },
  {
   "cell_type": "markdown",
   "metadata": {},
   "source": [
    "# Load"
   ]
  },
  {
   "cell_type": "code",
   "execution_count": 2,
   "metadata": {},
   "outputs": [
    {
     "data": {
      "text/plain": [
       "<sqlalchemy.engine.base.Connection at 0x7fc7fb8cbb70>"
      ]
     },
     "execution_count": 2,
     "metadata": {},
     "output_type": "execute_result"
    }
   ],
   "source": [
    "mhw_file = '/home/xavier/Projects/Oceanography/MHWs/db/mhws_allsky_defaults.db'\n",
    "tst_file = '/home/xavier/Projects/Oceanography/MHWs/db/test_mhws_allsky.db'\n",
    "#\n",
    "engine = sqlalchemy.create_engine('sqlite:///'+mhw_file)\n",
    "connection = engine.connect()\n",
    "connection"
   ]
  },
  {
   "cell_type": "code",
   "execution_count": 3,
   "metadata": {},
   "outputs": [
    {
     "data": {
      "text/html": [
       "<div>\n",
       "<style scoped>\n",
       "    .dataframe tbody tr th:only-of-type {\n",
       "        vertical-align: middle;\n",
       "    }\n",
       "\n",
       "    .dataframe tbody tr th {\n",
       "        vertical-align: top;\n",
       "    }\n",
       "\n",
       "    .dataframe thead th {\n",
       "        text-align: right;\n",
       "    }\n",
       "</style>\n",
       "<table border=\"1\" class=\"dataframe\">\n",
       "  <thead>\n",
       "    <tr style=\"text-align: right;\">\n",
       "      <th></th>\n",
       "      <th>date</th>\n",
       "      <th>lon</th>\n",
       "      <th>lat</th>\n",
       "      <th>duration</th>\n",
       "      <th>ievent</th>\n",
       "      <th>time_peak</th>\n",
       "      <th>time_start</th>\n",
       "    </tr>\n",
       "  </thead>\n",
       "  <tbody>\n",
       "    <tr>\n",
       "      <th>0</th>\n",
       "      <td>1982-01-01</td>\n",
       "      <td>0.125</td>\n",
       "      <td>-71.375</td>\n",
       "      <td>13</td>\n",
       "      <td>0</td>\n",
       "      <td>723552</td>\n",
       "      <td>723546</td>\n",
       "    </tr>\n",
       "    <tr>\n",
       "      <th>1</th>\n",
       "      <td>1982-12-20</td>\n",
       "      <td>0.125</td>\n",
       "      <td>-71.375</td>\n",
       "      <td>33</td>\n",
       "      <td>1</td>\n",
       "      <td>723901</td>\n",
       "      <td>723899</td>\n",
       "    </tr>\n",
       "    <tr>\n",
       "      <th>2</th>\n",
       "      <td>1985-01-30</td>\n",
       "      <td>0.125</td>\n",
       "      <td>-71.375</td>\n",
       "      <td>10</td>\n",
       "      <td>2</td>\n",
       "      <td>724677</td>\n",
       "      <td>724671</td>\n",
       "    </tr>\n",
       "    <tr>\n",
       "      <th>3</th>\n",
       "      <td>1988-01-10</td>\n",
       "      <td>0.125</td>\n",
       "      <td>-71.375</td>\n",
       "      <td>9</td>\n",
       "      <td>3</td>\n",
       "      <td>725752</td>\n",
       "      <td>725746</td>\n",
       "    </tr>\n",
       "    <tr>\n",
       "      <th>4</th>\n",
       "      <td>1991-01-09</td>\n",
       "      <td>0.125</td>\n",
       "      <td>-71.375</td>\n",
       "      <td>52</td>\n",
       "      <td>4</td>\n",
       "      <td>726858</td>\n",
       "      <td>726841</td>\n",
       "    </tr>\n",
       "  </tbody>\n",
       "</table>\n",
       "</div>"
      ],
      "text/plain": [
       "        date    lon     lat  duration  ievent  time_peak  time_start\n",
       "0 1982-01-01  0.125 -71.375        13       0     723552      723546\n",
       "1 1982-12-20  0.125 -71.375        33       1     723901      723899\n",
       "2 1985-01-30  0.125 -71.375        10       2     724677      724671\n",
       "3 1988-01-10  0.125 -71.375         9       3     725752      725746\n",
       "4 1991-01-09  0.125 -71.375        52       4     726858      726841"
      ]
     },
     "execution_count": 3,
     "metadata": {},
     "output_type": "execute_result"
    }
   ],
   "source": [
    "mhw_events = pandas.read_sql_table('MHW_Events', con=engine, \n",
    "                               columns=['date', 'lon', 'lat', 'duration' , \n",
    "                                        'ievent', 'time_peak', 'time_start'])\n",
    "mhw_events.head()"
   ]
  },
  {
   "cell_type": "code",
   "execution_count": 4,
   "metadata": {},
   "outputs": [
    {
     "data": {
      "text/html": [
       "<div>\n",
       "<style scoped>\n",
       "    .dataframe tbody tr th:only-of-type {\n",
       "        vertical-align: middle;\n",
       "    }\n",
       "\n",
       "    .dataframe tbody tr th {\n",
       "        vertical-align: top;\n",
       "    }\n",
       "\n",
       "    .dataframe thead th {\n",
       "        text-align: right;\n",
       "    }\n",
       "</style>\n",
       "<table border=\"1\" class=\"dataframe\">\n",
       "  <thead>\n",
       "    <tr style=\"text-align: right;\">\n",
       "      <th></th>\n",
       "      <th>lon</th>\n",
       "      <th>lat</th>\n",
       "      <th>duration</th>\n",
       "      <th>ievent</th>\n",
       "      <th>time_peak</th>\n",
       "      <th>time_start</th>\n",
       "    </tr>\n",
       "    <tr>\n",
       "      <th>date</th>\n",
       "      <th></th>\n",
       "      <th></th>\n",
       "      <th></th>\n",
       "      <th></th>\n",
       "      <th></th>\n",
       "      <th></th>\n",
       "    </tr>\n",
       "  </thead>\n",
       "  <tbody>\n",
       "    <tr>\n",
       "      <th>1982-01-01</th>\n",
       "      <td>0.125</td>\n",
       "      <td>-71.375</td>\n",
       "      <td>13</td>\n",
       "      <td>0</td>\n",
       "      <td>723552</td>\n",
       "      <td>723546</td>\n",
       "    </tr>\n",
       "    <tr>\n",
       "      <th>1982-12-20</th>\n",
       "      <td>0.125</td>\n",
       "      <td>-71.375</td>\n",
       "      <td>33</td>\n",
       "      <td>1</td>\n",
       "      <td>723901</td>\n",
       "      <td>723899</td>\n",
       "    </tr>\n",
       "    <tr>\n",
       "      <th>1985-01-30</th>\n",
       "      <td>0.125</td>\n",
       "      <td>-71.375</td>\n",
       "      <td>10</td>\n",
       "      <td>2</td>\n",
       "      <td>724677</td>\n",
       "      <td>724671</td>\n",
       "    </tr>\n",
       "    <tr>\n",
       "      <th>1988-01-10</th>\n",
       "      <td>0.125</td>\n",
       "      <td>-71.375</td>\n",
       "      <td>9</td>\n",
       "      <td>3</td>\n",
       "      <td>725752</td>\n",
       "      <td>725746</td>\n",
       "    </tr>\n",
       "    <tr>\n",
       "      <th>1991-01-09</th>\n",
       "      <td>0.125</td>\n",
       "      <td>-71.375</td>\n",
       "      <td>52</td>\n",
       "      <td>4</td>\n",
       "      <td>726858</td>\n",
       "      <td>726841</td>\n",
       "    </tr>\n",
       "  </tbody>\n",
       "</table>\n",
       "</div>"
      ],
      "text/plain": [
       "              lon     lat  duration  ievent  time_peak  time_start\n",
       "date                                                              \n",
       "1982-01-01  0.125 -71.375        13       0     723552      723546\n",
       "1982-12-20  0.125 -71.375        33       1     723901      723899\n",
       "1985-01-30  0.125 -71.375        10       2     724677      724671\n",
       "1988-01-10  0.125 -71.375         9       3     725752      725746\n",
       "1991-01-09  0.125 -71.375        52       4     726858      726841"
      ]
     },
     "execution_count": 4,
     "metadata": {},
     "output_type": "execute_result"
    }
   ],
   "source": [
    "mhw_events = mhw_events.set_index('date')\n",
    "mhw_events.head()"
   ]
  },
  {
   "cell_type": "markdown",
   "metadata": {},
   "source": [
    "## Add start date"
   ]
  },
  {
   "cell_type": "code",
   "execution_count": 5,
   "metadata": {},
   "outputs": [],
   "source": [
    "mhw_events['peak_date'] = pandas.to_datetime([date.fromordinal(tt) for tt in mhw_events['time_peak']])"
   ]
  },
  {
   "cell_type": "code",
   "execution_count": 6,
   "metadata": {},
   "outputs": [
    {
     "data": {
      "text/html": [
       "<div>\n",
       "<style scoped>\n",
       "    .dataframe tbody tr th:only-of-type {\n",
       "        vertical-align: middle;\n",
       "    }\n",
       "\n",
       "    .dataframe tbody tr th {\n",
       "        vertical-align: top;\n",
       "    }\n",
       "\n",
       "    .dataframe thead th {\n",
       "        text-align: right;\n",
       "    }\n",
       "</style>\n",
       "<table border=\"1\" class=\"dataframe\">\n",
       "  <thead>\n",
       "    <tr style=\"text-align: right;\">\n",
       "      <th></th>\n",
       "      <th>lon</th>\n",
       "      <th>lat</th>\n",
       "      <th>duration</th>\n",
       "      <th>ievent</th>\n",
       "      <th>time_peak</th>\n",
       "      <th>time_start</th>\n",
       "      <th>peak_date</th>\n",
       "    </tr>\n",
       "    <tr>\n",
       "      <th>date</th>\n",
       "      <th></th>\n",
       "      <th></th>\n",
       "      <th></th>\n",
       "      <th></th>\n",
       "      <th></th>\n",
       "      <th></th>\n",
       "      <th></th>\n",
       "    </tr>\n",
       "  </thead>\n",
       "  <tbody>\n",
       "    <tr>\n",
       "      <th>1982-01-01</th>\n",
       "      <td>0.125</td>\n",
       "      <td>-71.375</td>\n",
       "      <td>13</td>\n",
       "      <td>0</td>\n",
       "      <td>723552</td>\n",
       "      <td>723546</td>\n",
       "      <td>1982-01-07</td>\n",
       "    </tr>\n",
       "    <tr>\n",
       "      <th>1982-12-20</th>\n",
       "      <td>0.125</td>\n",
       "      <td>-71.375</td>\n",
       "      <td>33</td>\n",
       "      <td>1</td>\n",
       "      <td>723901</td>\n",
       "      <td>723899</td>\n",
       "      <td>1982-12-22</td>\n",
       "    </tr>\n",
       "    <tr>\n",
       "      <th>1985-01-30</th>\n",
       "      <td>0.125</td>\n",
       "      <td>-71.375</td>\n",
       "      <td>10</td>\n",
       "      <td>2</td>\n",
       "      <td>724677</td>\n",
       "      <td>724671</td>\n",
       "      <td>1985-02-05</td>\n",
       "    </tr>\n",
       "    <tr>\n",
       "      <th>1988-01-10</th>\n",
       "      <td>0.125</td>\n",
       "      <td>-71.375</td>\n",
       "      <td>9</td>\n",
       "      <td>3</td>\n",
       "      <td>725752</td>\n",
       "      <td>725746</td>\n",
       "      <td>1988-01-16</td>\n",
       "    </tr>\n",
       "    <tr>\n",
       "      <th>1991-01-09</th>\n",
       "      <td>0.125</td>\n",
       "      <td>-71.375</td>\n",
       "      <td>52</td>\n",
       "      <td>4</td>\n",
       "      <td>726858</td>\n",
       "      <td>726841</td>\n",
       "      <td>1991-01-26</td>\n",
       "    </tr>\n",
       "  </tbody>\n",
       "</table>\n",
       "</div>"
      ],
      "text/plain": [
       "              lon     lat  duration  ievent  time_peak  time_start  peak_date\n",
       "date                                                                         \n",
       "1982-01-01  0.125 -71.375        13       0     723552      723546 1982-01-07\n",
       "1982-12-20  0.125 -71.375        33       1     723901      723899 1982-12-22\n",
       "1985-01-30  0.125 -71.375        10       2     724677      724671 1985-02-05\n",
       "1988-01-10  0.125 -71.375         9       3     725752      725746 1988-01-16\n",
       "1991-01-09  0.125 -71.375        52       4     726858      726841 1991-01-26"
      ]
     },
     "execution_count": 6,
     "metadata": {},
     "output_type": "execute_result"
    }
   ],
   "source": [
    "mhw_events.head()"
   ]
  },
  {
   "cell_type": "markdown",
   "metadata": {},
   "source": [
    "# Pick one"
   ]
  },
  {
   "cell_type": "markdown",
   "metadata": {},
   "source": [
    "## Not so far from the equator"
   ]
  },
  {
   "cell_type": "code",
   "execution_count": 7,
   "metadata": {},
   "outputs": [],
   "source": [
    "equ_events = mhw_events[np.abs(mhw_events['lat']) < 20.]"
   ]
  },
  {
   "cell_type": "code",
   "execution_count": 8,
   "metadata": {},
   "outputs": [
    {
     "data": {
      "text/html": [
       "<div>\n",
       "<style scoped>\n",
       "    .dataframe tbody tr th:only-of-type {\n",
       "        vertical-align: middle;\n",
       "    }\n",
       "\n",
       "    .dataframe tbody tr th {\n",
       "        vertical-align: top;\n",
       "    }\n",
       "\n",
       "    .dataframe thead th {\n",
       "        text-align: right;\n",
       "    }\n",
       "</style>\n",
       "<table border=\"1\" class=\"dataframe\">\n",
       "  <thead>\n",
       "    <tr style=\"text-align: right;\">\n",
       "      <th></th>\n",
       "      <th>lon</th>\n",
       "      <th>lat</th>\n",
       "      <th>duration</th>\n",
       "      <th>ievent</th>\n",
       "      <th>time_peak</th>\n",
       "      <th>time_start</th>\n",
       "      <th>peak_date</th>\n",
       "    </tr>\n",
       "    <tr>\n",
       "      <th>date</th>\n",
       "      <th></th>\n",
       "      <th></th>\n",
       "      <th></th>\n",
       "      <th></th>\n",
       "      <th></th>\n",
       "      <th></th>\n",
       "      <th></th>\n",
       "    </tr>\n",
       "  </thead>\n",
       "  <tbody>\n",
       "    <tr>\n",
       "      <th>2018-11-08</th>\n",
       "      <td>0.875</td>\n",
       "      <td>5.625</td>\n",
       "      <td>114</td>\n",
       "      <td>108</td>\n",
       "      <td>737075</td>\n",
       "      <td>737006</td>\n",
       "      <td>2019-01-16</td>\n",
       "    </tr>\n",
       "    <tr>\n",
       "      <th>2018-11-07</th>\n",
       "      <td>0.375</td>\n",
       "      <td>5.375</td>\n",
       "      <td>115</td>\n",
       "      <td>99</td>\n",
       "      <td>737075</td>\n",
       "      <td>737005</td>\n",
       "      <td>2019-01-16</td>\n",
       "    </tr>\n",
       "    <tr>\n",
       "      <th>2018-11-07</th>\n",
       "      <td>0.625</td>\n",
       "      <td>5.625</td>\n",
       "      <td>115</td>\n",
       "      <td>106</td>\n",
       "      <td>737075</td>\n",
       "      <td>737005</td>\n",
       "      <td>2019-01-16</td>\n",
       "    </tr>\n",
       "    <tr>\n",
       "      <th>2018-11-07</th>\n",
       "      <td>0.125</td>\n",
       "      <td>5.375</td>\n",
       "      <td>115</td>\n",
       "      <td>95</td>\n",
       "      <td>737075</td>\n",
       "      <td>737005</td>\n",
       "      <td>2019-01-16</td>\n",
       "    </tr>\n",
       "    <tr>\n",
       "      <th>2011-01-26</th>\n",
       "      <td>3.875</td>\n",
       "      <td>-12.125</td>\n",
       "      <td>115</td>\n",
       "      <td>57</td>\n",
       "      <td>734229</td>\n",
       "      <td>734163</td>\n",
       "      <td>2011-04-02</td>\n",
       "    </tr>\n",
       "    <tr>\n",
       "      <th>1984-07-13</th>\n",
       "      <td>3.125</td>\n",
       "      <td>-11.875</td>\n",
       "      <td>116</td>\n",
       "      <td>6</td>\n",
       "      <td>724507</td>\n",
       "      <td>724470</td>\n",
       "      <td>1984-08-19</td>\n",
       "    </tr>\n",
       "    <tr>\n",
       "      <th>1984-07-15</th>\n",
       "      <td>1.875</td>\n",
       "      <td>-9.625</td>\n",
       "      <td>118</td>\n",
       "      <td>3</td>\n",
       "      <td>724528</td>\n",
       "      <td>724472</td>\n",
       "      <td>1984-09-09</td>\n",
       "    </tr>\n",
       "    <tr>\n",
       "      <th>1984-07-14</th>\n",
       "      <td>2.875</td>\n",
       "      <td>-11.875</td>\n",
       "      <td>118</td>\n",
       "      <td>6</td>\n",
       "      <td>724544</td>\n",
       "      <td>724471</td>\n",
       "      <td>1984-09-25</td>\n",
       "    </tr>\n",
       "    <tr>\n",
       "      <th>2018-10-16</th>\n",
       "      <td>0.375</td>\n",
       "      <td>4.125</td>\n",
       "      <td>119</td>\n",
       "      <td>93</td>\n",
       "      <td>737065</td>\n",
       "      <td>736983</td>\n",
       "      <td>2019-01-06</td>\n",
       "    </tr>\n",
       "    <tr>\n",
       "      <th>1984-07-14</th>\n",
       "      <td>1.875</td>\n",
       "      <td>-9.875</td>\n",
       "      <td>119</td>\n",
       "      <td>3</td>\n",
       "      <td>724512</td>\n",
       "      <td>724471</td>\n",
       "      <td>1984-08-24</td>\n",
       "    </tr>\n",
       "    <tr>\n",
       "      <th>2018-10-15</th>\n",
       "      <td>0.125</td>\n",
       "      <td>4.125</td>\n",
       "      <td>120</td>\n",
       "      <td>94</td>\n",
       "      <td>737074</td>\n",
       "      <td>736982</td>\n",
       "      <td>2019-01-15</td>\n",
       "    </tr>\n",
       "    <tr>\n",
       "      <th>1984-07-15</th>\n",
       "      <td>2.375</td>\n",
       "      <td>-9.875</td>\n",
       "      <td>121</td>\n",
       "      <td>4</td>\n",
       "      <td>724512</td>\n",
       "      <td>724472</td>\n",
       "      <td>1984-08-24</td>\n",
       "    </tr>\n",
       "    <tr>\n",
       "      <th>1984-07-15</th>\n",
       "      <td>2.125</td>\n",
       "      <td>-9.875</td>\n",
       "      <td>121</td>\n",
       "      <td>3</td>\n",
       "      <td>724512</td>\n",
       "      <td>724472</td>\n",
       "      <td>1984-08-24</td>\n",
       "    </tr>\n",
       "    <tr>\n",
       "      <th>1984-07-15</th>\n",
       "      <td>2.375</td>\n",
       "      <td>-9.625</td>\n",
       "      <td>121</td>\n",
       "      <td>5</td>\n",
       "      <td>724513</td>\n",
       "      <td>724472</td>\n",
       "      <td>1984-08-25</td>\n",
       "    </tr>\n",
       "    <tr>\n",
       "      <th>1984-07-15</th>\n",
       "      <td>2.125</td>\n",
       "      <td>-10.125</td>\n",
       "      <td>121</td>\n",
       "      <td>3</td>\n",
       "      <td>724512</td>\n",
       "      <td>724472</td>\n",
       "      <td>1984-08-24</td>\n",
       "    </tr>\n",
       "    <tr>\n",
       "      <th>2016-09-14</th>\n",
       "      <td>0.375</td>\n",
       "      <td>3.375</td>\n",
       "      <td>126</td>\n",
       "      <td>83</td>\n",
       "      <td>736324</td>\n",
       "      <td>736221</td>\n",
       "      <td>2016-12-26</td>\n",
       "    </tr>\n",
       "    <tr>\n",
       "      <th>2018-10-17</th>\n",
       "      <td>1.375</td>\n",
       "      <td>2.375</td>\n",
       "      <td>129</td>\n",
       "      <td>75</td>\n",
       "      <td>737067</td>\n",
       "      <td>736984</td>\n",
       "      <td>2019-01-08</td>\n",
       "    </tr>\n",
       "    <tr>\n",
       "      <th>2018-10-15</th>\n",
       "      <td>1.625</td>\n",
       "      <td>2.625</td>\n",
       "      <td>131</td>\n",
       "      <td>82</td>\n",
       "      <td>737067</td>\n",
       "      <td>736982</td>\n",
       "      <td>2019-01-08</td>\n",
       "    </tr>\n",
       "    <tr>\n",
       "      <th>2018-10-15</th>\n",
       "      <td>1.625</td>\n",
       "      <td>2.375</td>\n",
       "      <td>139</td>\n",
       "      <td>79</td>\n",
       "      <td>737067</td>\n",
       "      <td>736982</td>\n",
       "      <td>2019-01-08</td>\n",
       "    </tr>\n",
       "    <tr>\n",
       "      <th>2018-10-16</th>\n",
       "      <td>0.125</td>\n",
       "      <td>2.375</td>\n",
       "      <td>139</td>\n",
       "      <td>91</td>\n",
       "      <td>737103</td>\n",
       "      <td>736983</td>\n",
       "      <td>2019-02-13</td>\n",
       "    </tr>\n",
       "  </tbody>\n",
       "</table>\n",
       "</div>"
      ],
      "text/plain": [
       "              lon     lat  duration  ievent  time_peak  time_start  peak_date\n",
       "date                                                                         \n",
       "2018-11-08  0.875   5.625       114     108     737075      737006 2019-01-16\n",
       "2018-11-07  0.375   5.375       115      99     737075      737005 2019-01-16\n",
       "2018-11-07  0.625   5.625       115     106     737075      737005 2019-01-16\n",
       "2018-11-07  0.125   5.375       115      95     737075      737005 2019-01-16\n",
       "2011-01-26  3.875 -12.125       115      57     734229      734163 2011-04-02\n",
       "1984-07-13  3.125 -11.875       116       6     724507      724470 1984-08-19\n",
       "1984-07-15  1.875  -9.625       118       3     724528      724472 1984-09-09\n",
       "1984-07-14  2.875 -11.875       118       6     724544      724471 1984-09-25\n",
       "2018-10-16  0.375   4.125       119      93     737065      736983 2019-01-06\n",
       "1984-07-14  1.875  -9.875       119       3     724512      724471 1984-08-24\n",
       "2018-10-15  0.125   4.125       120      94     737074      736982 2019-01-15\n",
       "1984-07-15  2.375  -9.875       121       4     724512      724472 1984-08-24\n",
       "1984-07-15  2.125  -9.875       121       3     724512      724472 1984-08-24\n",
       "1984-07-15  2.375  -9.625       121       5     724513      724472 1984-08-25\n",
       "1984-07-15  2.125 -10.125       121       3     724512      724472 1984-08-24\n",
       "2016-09-14  0.375   3.375       126      83     736324      736221 2016-12-26\n",
       "2018-10-17  1.375   2.375       129      75     737067      736984 2019-01-08\n",
       "2018-10-15  1.625   2.625       131      82     737067      736982 2019-01-08\n",
       "2018-10-15  1.625   2.375       139      79     737067      736982 2019-01-08\n",
       "2018-10-16  0.125   2.375       139      91     737103      736983 2019-02-13"
      ]
     },
     "execution_count": 8,
     "metadata": {},
     "output_type": "execute_result"
    }
   ],
   "source": [
    "equ_events.iloc[np.argsort(equ_events['duration'])[-20:]]"
   ]
  },
  {
   "cell_type": "code",
   "execution_count": 9,
   "metadata": {},
   "outputs": [],
   "source": [
    "ievent = 275128"
   ]
  },
  {
   "cell_type": "markdown",
   "metadata": {},
   "source": [
    "## Build a Cube"
   ]
  },
  {
   "cell_type": "markdown",
   "metadata": {},
   "source": [
    "### Cut out near my event"
   ]
  },
  {
   "cell_type": "code",
   "execution_count": 10,
   "metadata": {},
   "outputs": [
    {
     "data": {
      "text/html": [
       "<div>\n",
       "<style scoped>\n",
       "    .dataframe tbody tr th:only-of-type {\n",
       "        vertical-align: middle;\n",
       "    }\n",
       "\n",
       "    .dataframe tbody tr th {\n",
       "        vertical-align: top;\n",
       "    }\n",
       "\n",
       "    .dataframe thead th {\n",
       "        text-align: right;\n",
       "    }\n",
       "</style>\n",
       "<table border=\"1\" class=\"dataframe\">\n",
       "  <thead>\n",
       "    <tr style=\"text-align: right;\">\n",
       "      <th></th>\n",
       "      <th>lon</th>\n",
       "      <th>lat</th>\n",
       "      <th>duration</th>\n",
       "      <th>ievent</th>\n",
       "      <th>time_peak</th>\n",
       "      <th>time_start</th>\n",
       "      <th>peak_date</th>\n",
       "    </tr>\n",
       "    <tr>\n",
       "      <th>date</th>\n",
       "      <th></th>\n",
       "      <th></th>\n",
       "      <th></th>\n",
       "      <th></th>\n",
       "      <th></th>\n",
       "      <th></th>\n",
       "      <th></th>\n",
       "    </tr>\n",
       "  </thead>\n",
       "  <tbody>\n",
       "    <tr>\n",
       "      <th>2018-10-15</th>\n",
       "      <td>1.625</td>\n",
       "      <td>2.625</td>\n",
       "      <td>131</td>\n",
       "      <td>82</td>\n",
       "      <td>737067</td>\n",
       "      <td>736982</td>\n",
       "      <td>2019-01-08</td>\n",
       "    </tr>\n",
       "  </tbody>\n",
       "</table>\n",
       "</div>"
      ],
      "text/plain": [
       "              lon    lat  duration  ievent  time_peak  time_start  peak_date\n",
       "date                                                                        \n",
       "2018-10-15  1.625  2.625       131      82     737067      736982 2019-01-08"
      ]
     },
     "execution_count": 10,
     "metadata": {},
     "output_type": "execute_result"
    }
   ],
   "source": [
    "event = mhw_events.iloc[ievent:ievent+1]\n",
    "event"
   ]
  },
  {
   "cell_type": "code",
   "execution_count": 11,
   "metadata": {},
   "outputs": [
    {
     "data": {
      "text/plain": [
       "numpy.datetime64('2018-10-15T00:00:00.000000000')"
      ]
     },
     "execution_count": 11,
     "metadata": {},
     "output_type": "execute_result"
    }
   ],
   "source": [
    "start_date = event.index.values[0]\n",
    "start_date"
   ]
  },
  {
   "cell_type": "code",
   "execution_count": 12,
   "metadata": {},
   "outputs": [
    {
     "data": {
      "text/plain": [
       "Timestamp('2019-02-23 00:00:00')"
      ]
     },
     "execution_count": 12,
     "metadata": {},
     "output_type": "execute_result"
    }
   ],
   "source": [
    "end_date= start_date + pandas.Timedelta(days=event.duration.values[0])\n",
    "end_date"
   ]
  },
  {
   "cell_type": "markdown",
   "metadata": {},
   "source": [
    "## Just use start for now"
   ]
  },
  {
   "cell_type": "markdown",
   "metadata": {},
   "source": [
    "### Time"
   ]
  },
  {
   "cell_type": "code",
   "execution_count": 13,
   "metadata": {},
   "outputs": [],
   "source": [
    "#near_events = mhw_events[start_date:end_date]\n",
    "neartime_events = mhw_events[\"2018-10-15\":\"2019-02-23\"]"
   ]
  },
  {
   "cell_type": "code",
   "execution_count": 14,
   "metadata": {},
   "outputs": [
    {
     "data": {
      "text/html": [
       "<div>\n",
       "<style scoped>\n",
       "    .dataframe tbody tr th:only-of-type {\n",
       "        vertical-align: middle;\n",
       "    }\n",
       "\n",
       "    .dataframe tbody tr th {\n",
       "        vertical-align: top;\n",
       "    }\n",
       "\n",
       "    .dataframe thead th {\n",
       "        text-align: right;\n",
       "    }\n",
       "</style>\n",
       "<table border=\"1\" class=\"dataframe\">\n",
       "  <thead>\n",
       "    <tr style=\"text-align: right;\">\n",
       "      <th></th>\n",
       "      <th>lon</th>\n",
       "      <th>lat</th>\n",
       "      <th>duration</th>\n",
       "      <th>ievent</th>\n",
       "      <th>time_peak</th>\n",
       "      <th>time_start</th>\n",
       "      <th>peak_date</th>\n",
       "    </tr>\n",
       "    <tr>\n",
       "      <th>date</th>\n",
       "      <th></th>\n",
       "      <th></th>\n",
       "      <th></th>\n",
       "      <th></th>\n",
       "      <th></th>\n",
       "      <th></th>\n",
       "      <th></th>\n",
       "    </tr>\n",
       "  </thead>\n",
       "  <tbody>\n",
       "    <tr>\n",
       "      <th>2018-12-17</th>\n",
       "      <td>0.125</td>\n",
       "      <td>-68.375</td>\n",
       "      <td>5</td>\n",
       "      <td>87</td>\n",
       "      <td>737048</td>\n",
       "      <td>737045</td>\n",
       "      <td>2018-12-20</td>\n",
       "    </tr>\n",
       "    <tr>\n",
       "      <th>2018-12-16</th>\n",
       "      <td>0.125</td>\n",
       "      <td>-68.125</td>\n",
       "      <td>7</td>\n",
       "      <td>81</td>\n",
       "      <td>737048</td>\n",
       "      <td>737044</td>\n",
       "      <td>2018-12-20</td>\n",
       "    </tr>\n",
       "    <tr>\n",
       "      <th>2018-12-16</th>\n",
       "      <td>0.125</td>\n",
       "      <td>-67.875</td>\n",
       "      <td>7</td>\n",
       "      <td>84</td>\n",
       "      <td>737048</td>\n",
       "      <td>737044</td>\n",
       "      <td>2018-12-20</td>\n",
       "    </tr>\n",
       "    <tr>\n",
       "      <th>2019-02-17</th>\n",
       "      <td>0.125</td>\n",
       "      <td>-67.875</td>\n",
       "      <td>6</td>\n",
       "      <td>85</td>\n",
       "      <td>737109</td>\n",
       "      <td>737107</td>\n",
       "      <td>2019-02-19</td>\n",
       "    </tr>\n",
       "    <tr>\n",
       "      <th>2018-12-16</th>\n",
       "      <td>0.125</td>\n",
       "      <td>-67.625</td>\n",
       "      <td>6</td>\n",
       "      <td>90</td>\n",
       "      <td>737045</td>\n",
       "      <td>737044</td>\n",
       "      <td>2018-12-17</td>\n",
       "    </tr>\n",
       "  </tbody>\n",
       "</table>\n",
       "</div>"
      ],
      "text/plain": [
       "              lon     lat  duration  ievent  time_peak  time_start  peak_date\n",
       "date                                                                         \n",
       "2018-12-17  0.125 -68.375         5      87     737048      737045 2018-12-20\n",
       "2018-12-16  0.125 -68.125         7      81     737048      737044 2018-12-20\n",
       "2018-12-16  0.125 -67.875         7      84     737048      737044 2018-12-20\n",
       "2019-02-17  0.125 -67.875         6      85     737109      737107 2019-02-19\n",
       "2018-12-16  0.125 -67.625         6      90     737045      737044 2018-12-17"
      ]
     },
     "execution_count": 14,
     "metadata": {},
     "output_type": "execute_result"
    }
   ],
   "source": [
    "neartime_events.head()"
   ]
  },
  {
   "cell_type": "markdown",
   "metadata": {},
   "source": [
    "### Space"
   ]
  },
  {
   "cell_type": "code",
   "execution_count": 15,
   "metadata": {},
   "outputs": [
    {
     "data": {
      "text/html": [
       "<div>\n",
       "<style scoped>\n",
       "    .dataframe tbody tr th:only-of-type {\n",
       "        vertical-align: middle;\n",
       "    }\n",
       "\n",
       "    .dataframe tbody tr th {\n",
       "        vertical-align: top;\n",
       "    }\n",
       "\n",
       "    .dataframe thead th {\n",
       "        text-align: right;\n",
       "    }\n",
       "</style>\n",
       "<table border=\"1\" class=\"dataframe\">\n",
       "  <thead>\n",
       "    <tr style=\"text-align: right;\">\n",
       "      <th></th>\n",
       "      <th>lon</th>\n",
       "      <th>lat</th>\n",
       "      <th>duration</th>\n",
       "      <th>ievent</th>\n",
       "      <th>time_peak</th>\n",
       "      <th>time_start</th>\n",
       "      <th>peak_date</th>\n",
       "    </tr>\n",
       "    <tr>\n",
       "      <th>date</th>\n",
       "      <th></th>\n",
       "      <th></th>\n",
       "      <th></th>\n",
       "      <th></th>\n",
       "      <th></th>\n",
       "      <th></th>\n",
       "      <th></th>\n",
       "    </tr>\n",
       "  </thead>\n",
       "  <tbody>\n",
       "    <tr>\n",
       "      <th>2018-10-25</th>\n",
       "      <td>0.125</td>\n",
       "      <td>-7.125</td>\n",
       "      <td>15</td>\n",
       "      <td>78</td>\n",
       "      <td>737004</td>\n",
       "      <td>736992</td>\n",
       "      <td>2018-11-06</td>\n",
       "    </tr>\n",
       "    <tr>\n",
       "      <th>2019-02-11</th>\n",
       "      <td>0.125</td>\n",
       "      <td>-7.125</td>\n",
       "      <td>15</td>\n",
       "      <td>79</td>\n",
       "      <td>737105</td>\n",
       "      <td>737101</td>\n",
       "      <td>2019-02-15</td>\n",
       "    </tr>\n",
       "    <tr>\n",
       "      <th>2018-10-25</th>\n",
       "      <td>0.125</td>\n",
       "      <td>-6.875</td>\n",
       "      <td>15</td>\n",
       "      <td>79</td>\n",
       "      <td>736998</td>\n",
       "      <td>736992</td>\n",
       "      <td>2018-10-31</td>\n",
       "    </tr>\n",
       "    <tr>\n",
       "      <th>2019-02-11</th>\n",
       "      <td>0.125</td>\n",
       "      <td>-6.875</td>\n",
       "      <td>21</td>\n",
       "      <td>80</td>\n",
       "      <td>737105</td>\n",
       "      <td>737101</td>\n",
       "      <td>2019-02-15</td>\n",
       "    </tr>\n",
       "    <tr>\n",
       "      <th>2018-10-17</th>\n",
       "      <td>0.125</td>\n",
       "      <td>-6.625</td>\n",
       "      <td>22</td>\n",
       "      <td>80</td>\n",
       "      <td>736997</td>\n",
       "      <td>736984</td>\n",
       "      <td>2018-10-30</td>\n",
       "    </tr>\n",
       "  </tbody>\n",
       "</table>\n",
       "</div>"
      ],
      "text/plain": [
       "              lon    lat  duration  ievent  time_peak  time_start  peak_date\n",
       "date                                                                        \n",
       "2018-10-25  0.125 -7.125        15      78     737004      736992 2018-11-06\n",
       "2019-02-11  0.125 -7.125        15      79     737105      737101 2019-02-15\n",
       "2018-10-25  0.125 -6.875        15      79     736998      736992 2018-10-31\n",
       "2019-02-11  0.125 -6.875        21      80     737105      737101 2019-02-15\n",
       "2018-10-17  0.125 -6.625        22      80     736997      736984 2018-10-30"
      ]
     },
     "execution_count": 15,
     "metadata": {},
     "output_type": "execute_result"
    }
   ],
   "source": [
    "nearst_events = neartime_events[(np.abs(\n",
    "    neartime_events.lat-event.lat.values[0]) < 10.) & (np.abs(\n",
    "    neartime_events.lon-event.lon.values[0]) < 10.)]\n",
    "nearst_events.head()"
   ]
  },
  {
   "cell_type": "markdown",
   "metadata": {},
   "source": [
    "### Cube"
   ]
  },
  {
   "cell_type": "code",
   "execution_count": 16,
   "metadata": {},
   "outputs": [],
   "source": [
    "grid_lon = np.arange(event.lon.values[0]-5., event.lon.values[0]+5.25, 0.25)\n",
    "grid_lat = np.arange(event.lat.values[0]-5., event.lat.values[0]+5.25, 0.25)"
   ]
  },
  {
   "cell_type": "code",
   "execution_count": 17,
   "metadata": {},
   "outputs": [
    {
     "data": {
      "text/plain": [
       "(131, 41, 41)"
      ]
     },
     "execution_count": 17,
     "metadata": {},
     "output_type": "execute_result"
    }
   ],
   "source": [
    "cube = np.zeros((event.duration.values[0], grid_lat.size, grid_lon.size))\n",
    "cube.shape"
   ]
  },
  {
   "cell_type": "code",
   "execution_count": 18,
   "metadata": {},
   "outputs": [],
   "source": [
    "for index, row in nearst_events.iterrows():\n",
    "    #import pdb; pdb.set_trace()\n",
    "    ilat = np.argmin(np.abs(grid_lat-row.lat))\n",
    "    jlon = np.argmin(np.abs(grid_lon-row.lon))\n",
    "    # Do it!\n",
    "    t0 = row.time_start-event.time_start.values[0]\n",
    "    cube[t0:t0+row.duration+1, ilat, jlon] = 1."
   ]
  },
  {
   "cell_type": "code",
   "execution_count": 19,
   "metadata": {},
   "outputs": [
    {
     "data": {
      "text/plain": [
       "0.1966523016561389"
      ]
     },
     "execution_count": 19,
     "metadata": {},
     "output_type": "execute_result"
    }
   ],
   "source": [
    "np.sum(cube)/cube.size"
   ]
  },
  {
   "cell_type": "code",
   "execution_count": 20,
   "metadata": {},
   "outputs": [
    {
     "data": {
      "text/plain": [
       "220211"
      ]
     },
     "execution_count": 20,
     "metadata": {},
     "output_type": "execute_result"
    }
   ],
   "source": [
    "cube.size"
   ]
  },
  {
   "cell_type": "markdown",
   "metadata": {},
   "source": [
    "## Viz"
   ]
  },
  {
   "cell_type": "code",
   "execution_count": 21,
   "metadata": {},
   "outputs": [],
   "source": [
    "x, y, z = np.ogrid[-10:10:20j, -10:10:20j, -10:10:20j]\n",
    "s = np.sin(x*y*z)/(x*y*z)"
   ]
  },
  {
   "cell_type": "code",
   "execution_count": 27,
   "metadata": {},
   "outputs": [
    {
     "data": {
      "text/plain": [
       "<mayavi.modules.iso_surface.IsoSurface at 0x7fc7cc602f10>"
      ]
     },
     "execution_count": 27,
     "metadata": {},
     "output_type": "execute_result"
    }
   ],
   "source": [
    "mlab.contour3d(s)"
   ]
  },
  {
   "cell_type": "markdown",
   "metadata": {},
   "source": [
    "### Save"
   ]
  },
  {
   "cell_type": "code",
   "execution_count": 141,
   "metadata": {},
   "outputs": [],
   "source": [
    "np.save('tst_cube.npy', cube)"
   ]
  },
  {
   "cell_type": "code",
   "execution_count": null,
   "metadata": {},
   "outputs": [],
   "source": []
  }
 ],
 "metadata": {
  "kernelspec": {
   "display_name": "Python 3",
   "language": "python",
   "name": "python3"
  },
  "language_info": {
   "codemirror_mode": {
    "name": "ipython",
    "version": 3
   },
   "file_extension": ".py",
   "mimetype": "text/x-python",
   "name": "python",
   "nbconvert_exporter": "python",
   "pygments_lexer": "ipython3",
   "version": "3.7.3"
  }
 },
 "nbformat": 4,
 "nbformat_minor": 4
}
