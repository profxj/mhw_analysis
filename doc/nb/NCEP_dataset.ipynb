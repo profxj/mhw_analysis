{
 "cells": [
  {
   "cell_type": "markdown",
   "metadata": {},
   "source": [
    "# NCEP explore"
   ]
  },
  {
   "cell_type": "code",
   "execution_count": 36,
   "metadata": {},
   "outputs": [],
   "source": [
    "# imports\n",
    "import os \n",
    "import datetime\n",
    "import pandas\n",
    "\n",
    "import iris\n",
    "import cf_units\n",
    "\n",
    "from oceanpy.sst import io as sst_io\n",
    "from oceanpy.sst import climate as sst_climate"
   ]
  },
  {
   "cell_type": "markdown",
   "metadata": {},
   "source": [
    "# Load"
   ]
  },
  {
   "cell_type": "code",
   "execution_count": 2,
   "metadata": {},
   "outputs": [],
   "source": [
    "path = '/home/xavier/Projects/Oceanography/data/NCEP-DOE/Z500'"
   ]
  },
  {
   "cell_type": "code",
   "execution_count": 4,
   "metadata": {},
   "outputs": [],
   "source": [
    "dfile = os.path.join(path, 'NCEP-DOE_z500.nc')"
   ]
  },
  {
   "cell_type": "code",
   "execution_count": 5,
   "metadata": {},
   "outputs": [
    {
     "name": "stderr",
     "output_type": "stream",
     "text": [
      "/home/xavier/anaconda3/lib/python3.7/site-packages/iris/fileformats/netcdf.py:395: UserWarning: WARNING: missing_value not used since it\n",
      "cannot be safely cast to variable data type\n",
      "  var = variable[keys]\n"
     ]
    }
   ],
   "source": [
    "cubes = iris.load_cubes(dfile)"
   ]
  },
  {
   "cell_type": "code",
   "execution_count": 6,
   "metadata": {},
   "outputs": [
    {
     "data": {
      "text/html": [
       "\n",
       "<style>\n",
       "    .accordion-139651762575312 {\n",
       "        color: var(--jp-ui-font-color2);\n",
       "        background: var(--jp-layout-color2);\n",
       "        cursor: pointer;\n",
       "        padding: 10px;\n",
       "        border: 1px solid var(--jp-border-color0);\n",
       "        width: 100%;\n",
       "        text-align: left;\n",
       "        font-size: 14px;\n",
       "        font-family: var(--jp-code-font-family);\n",
       "        font-weight: normal;\n",
       "        outline: none;\n",
       "        transition: 0.4s;\n",
       "    }\n",
       "    .active {\n",
       "        background: var(--jp-layout-color1);\n",
       "        font-weight: 900;\n",
       "    }\n",
       "    .accordion-139651762575312.active {\n",
       "        border: 1px solid var(--jp-brand-color1) !important;\n",
       "    }\n",
       "    .accordion-139651762575312:hover {\n",
       "        box-shadow: var(--jp-input-box-shadow);\n",
       "        border: 2px solid var(--jp-brand-color1);\n",
       "    }\n",
       "    .panel-139651762575312 {\n",
       "        padding: 0 18px;\n",
       "        margin-bottom: 5px;\n",
       "        background-color: var(--jp-layout-color1);\n",
       "        display: none;\n",
       "        overflow: hidden;\n",
       "        border: 1px solid var(--jp-brand-color2);\n",
       "    }\n",
       "</style>\n",
       "<script type=\"text/javascript\">\n",
       "    var accordion = document.getElementsByClassName(\"accordion-139651762575312\");\n",
       "    var i;\n",
       "\n",
       "    for (i = 0; i < accordion.length; i++) {\n",
       "        accordion[i].addEventListener(\"click\", function() {\n",
       "            this.classList.toggle(\"active\");\n",
       "\n",
       "            var panel = this.nextElementSibling;\n",
       "            if (panel.style.display === \"block\") {\n",
       "                panel.style.display = \"none\";\n",
       "            } else {\n",
       "                panel.style.display = \"block\";\n",
       "            }\n",
       "        });\n",
       "    }\n",
       "</script>\n",
       "\n",
       "<button class=\"accordion-139651762575312\">0: Daily mean Geopotential Height at 500mb / (m) (-- : 15157; latitude: 73; longitude: 144)</button>\n",
       "<div class=\"panel-139651762575312\">\n",
       "    <p>\n",
       "<style>\n",
       "  a.iris {\n",
       "      text-decoration: none !important;\n",
       "  }\n",
       "  table.iris {\n",
       "      white-space: pre;\n",
       "      border: 1px solid;\n",
       "      border-color: #9c9c9c;\n",
       "      font-family: monaco, monospace;\n",
       "  }\n",
       "  th.iris {\n",
       "      background: #303f3f;\n",
       "      color: #e0e0e0;\n",
       "      border-left: 1px solid;\n",
       "      border-color: #9c9c9c;\n",
       "      font-size: 1.05em;\n",
       "      min-width: 50px;\n",
       "      max-width: 125px;\n",
       "  }\n",
       "  tr.iris :first-child {\n",
       "      border-right: 1px solid #9c9c9c !important;\n",
       "  }\n",
       "  td.iris-title {\n",
       "      background: #d5dcdf;\n",
       "      border-top: 1px solid #9c9c9c;\n",
       "      font-weight: bold;\n",
       "  }\n",
       "  .iris-word-cell {\n",
       "      text-align: left !important;\n",
       "      white-space: pre;\n",
       "  }\n",
       "  .iris-subheading-cell {\n",
       "      padding-left: 2em !important;\n",
       "  }\n",
       "  .iris-inclusion-cell {\n",
       "      padding-right: 1em !important;\n",
       "  }\n",
       "  .iris-panel-body {\n",
       "      padding-top: 0px;\n",
       "  }\n",
       "  .iris-panel-title {\n",
       "      padding-left: 3em;\n",
       "  }\n",
       "  .iris-panel-title {\n",
       "      margin-top: 7px;\n",
       "  }\n",
       "</style>\n",
       "<table class=\"iris\" id=\"139651644459728\">\n",
       "    <tr class=\"iris\">\n",
       "<th class=\"iris iris-word-cell\">Daily Mean Geopotential Height At 500Mb (m)</th>\n",
       "<th class=\"iris iris-word-cell\">--</th>\n",
       "<th class=\"iris iris-word-cell\">latitude</th>\n",
       "<th class=\"iris iris-word-cell\">longitude</th>\n",
       "</tr>\n",
       "    <tr class=\"iris\">\n",
       "<td class=\"iris-word-cell iris-subheading-cell\">Shape</td>\n",
       "<td class=\"iris iris-inclusion-cell\">15157</td>\n",
       "<td class=\"iris iris-inclusion-cell\">73</td>\n",
       "<td class=\"iris iris-inclusion-cell\">144</td>\n",
       "</tr>\n",
       "    <tr class=\"iris\">\n",
       "    <td class=\"iris-title iris-word-cell\">Dimension coordinates</td>\n",
       "    <td class=\"iris-title\"></td>\n",
       "    <td class=\"iris-title\"></td>\n",
       "    <td class=\"iris-title\"></td>\n",
       "</tr>\n",
       "<tr class=\"iris\">\n",
       "    <td class=\"iris-word-cell iris-subheading-cell\">\tlatitude</td>\n",
       "    <td class=\"iris-inclusion-cell\">-</td>\n",
       "    <td class=\"iris-inclusion-cell\">x</td>\n",
       "    <td class=\"iris-inclusion-cell\">-</td>\n",
       "</tr>\n",
       "<tr class=\"iris\">\n",
       "    <td class=\"iris-word-cell iris-subheading-cell\">\tlongitude</td>\n",
       "    <td class=\"iris-inclusion-cell\">-</td>\n",
       "    <td class=\"iris-inclusion-cell\">-</td>\n",
       "    <td class=\"iris-inclusion-cell\">x</td>\n",
       "</tr>\n",
       "<tr class=\"iris\">\n",
       "    <td class=\"iris-title iris-word-cell\">Attributes</td>\n",
       "    <td class=\"iris-title\"></td>\n",
       "    <td class=\"iris-title\"></td>\n",
       "    <td class=\"iris-title\"></td>\n",
       "</tr>\n",
       "<tr class=\"iris\">\n",
       "    <td class=\"iris-word-cell iris-subheading-cell\">\tinvalid_standard_name</td>\n",
       "    <td class=\"iris-word-cell\" colspan=\"3\">Z500</td>\n",
       "</tr>\n",
       "</table>\n",
       "        </p>\n",
       "</div>\n",
       "    \n",
       "    "
      ],
      "text/plain": [
       "[<iris 'Cube' of Daily mean Geopotential Height at 500mb / (m) (-- : 15157; latitude: 73; longitude: 144)>]"
      ]
     },
     "execution_count": 6,
     "metadata": {},
     "output_type": "execute_result"
    }
   ],
   "source": [
    "cubes"
   ]
  },
  {
   "cell_type": "markdown",
   "metadata": {},
   "source": [
    "# Explore"
   ]
  },
  {
   "cell_type": "code",
   "execution_count": 7,
   "metadata": {},
   "outputs": [
    {
     "data": {
      "text/html": [
       "\n",
       "<style>\n",
       "  a.iris {\n",
       "      text-decoration: none !important;\n",
       "  }\n",
       "  table.iris {\n",
       "      white-space: pre;\n",
       "      border: 1px solid;\n",
       "      border-color: #9c9c9c;\n",
       "      font-family: monaco, monospace;\n",
       "  }\n",
       "  th.iris {\n",
       "      background: #303f3f;\n",
       "      color: #e0e0e0;\n",
       "      border-left: 1px solid;\n",
       "      border-color: #9c9c9c;\n",
       "      font-size: 1.05em;\n",
       "      min-width: 50px;\n",
       "      max-width: 125px;\n",
       "  }\n",
       "  tr.iris :first-child {\n",
       "      border-right: 1px solid #9c9c9c !important;\n",
       "  }\n",
       "  td.iris-title {\n",
       "      background: #d5dcdf;\n",
       "      border-top: 1px solid #9c9c9c;\n",
       "      font-weight: bold;\n",
       "  }\n",
       "  .iris-word-cell {\n",
       "      text-align: left !important;\n",
       "      white-space: pre;\n",
       "  }\n",
       "  .iris-subheading-cell {\n",
       "      padding-left: 2em !important;\n",
       "  }\n",
       "  .iris-inclusion-cell {\n",
       "      padding-right: 1em !important;\n",
       "  }\n",
       "  .iris-panel-body {\n",
       "      padding-top: 0px;\n",
       "  }\n",
       "  .iris-panel-title {\n",
       "      padding-left: 3em;\n",
       "  }\n",
       "  .iris-panel-title {\n",
       "      margin-top: 7px;\n",
       "  }\n",
       "</style>\n",
       "<table class=\"iris\" id=\"139651644459728\">\n",
       "    <tr class=\"iris\">\n",
       "<th class=\"iris iris-word-cell\">Daily Mean Geopotential Height At 500Mb (m)</th>\n",
       "<th class=\"iris iris-word-cell\">--</th>\n",
       "<th class=\"iris iris-word-cell\">latitude</th>\n",
       "<th class=\"iris iris-word-cell\">longitude</th>\n",
       "</tr>\n",
       "    <tr class=\"iris\">\n",
       "<td class=\"iris-word-cell iris-subheading-cell\">Shape</td>\n",
       "<td class=\"iris iris-inclusion-cell\">15157</td>\n",
       "<td class=\"iris iris-inclusion-cell\">73</td>\n",
       "<td class=\"iris iris-inclusion-cell\">144</td>\n",
       "</tr>\n",
       "    <tr class=\"iris\">\n",
       "    <td class=\"iris-title iris-word-cell\">Dimension coordinates</td>\n",
       "    <td class=\"iris-title\"></td>\n",
       "    <td class=\"iris-title\"></td>\n",
       "    <td class=\"iris-title\"></td>\n",
       "</tr>\n",
       "<tr class=\"iris\">\n",
       "    <td class=\"iris-word-cell iris-subheading-cell\">\tlatitude</td>\n",
       "    <td class=\"iris-inclusion-cell\">-</td>\n",
       "    <td class=\"iris-inclusion-cell\">x</td>\n",
       "    <td class=\"iris-inclusion-cell\">-</td>\n",
       "</tr>\n",
       "<tr class=\"iris\">\n",
       "    <td class=\"iris-word-cell iris-subheading-cell\">\tlongitude</td>\n",
       "    <td class=\"iris-inclusion-cell\">-</td>\n",
       "    <td class=\"iris-inclusion-cell\">-</td>\n",
       "    <td class=\"iris-inclusion-cell\">x</td>\n",
       "</tr>\n",
       "<tr class=\"iris\">\n",
       "    <td class=\"iris-title iris-word-cell\">Attributes</td>\n",
       "    <td class=\"iris-title\"></td>\n",
       "    <td class=\"iris-title\"></td>\n",
       "    <td class=\"iris-title\"></td>\n",
       "</tr>\n",
       "<tr class=\"iris\">\n",
       "    <td class=\"iris-word-cell iris-subheading-cell\">\tinvalid_standard_name</td>\n",
       "    <td class=\"iris-word-cell\" colspan=\"3\">Z500</td>\n",
       "</tr>\n",
       "</table>\n",
       "        "
      ],
      "text/plain": [
       "<iris 'Cube' of Daily mean Geopotential Height at 500mb / (m) (-- : 15157; latitude: 73; longitude: 144)>"
      ]
     },
     "execution_count": 7,
     "metadata": {},
     "output_type": "execute_result"
    }
   ],
   "source": [
    "cube = cubes[0]\n",
    "cube"
   ]
  },
  {
   "cell_type": "code",
   "execution_count": 8,
   "metadata": {},
   "outputs": [
    {
     "name": "stderr",
     "output_type": "stream",
     "text": [
      "/home/xavier/anaconda3/lib/python3.7/site-packages/iris/fileformats/netcdf.py:395: UserWarning: WARNING: missing_value not used since it\n",
      "cannot be safely cast to variable data type\n",
      "  var = variable[keys]\n"
     ]
    },
    {
     "data": {
      "text/plain": [
       "(15157, 73, 144)"
      ]
     },
     "execution_count": 8,
     "metadata": {},
     "output_type": "execute_result"
    }
   ],
   "source": [
    "cube.data.shape"
   ]
  },
  {
   "cell_type": "code",
   "execution_count": 9,
   "metadata": {},
   "outputs": [
    {
     "data": {
      "text/plain": [
       "<bound method Cube.coords of <iris 'Cube' of Daily mean Geopotential Height at 500mb / (m) (-- : 15157; latitude: 73; longitude: 144)>>"
      ]
     },
     "execution_count": 9,
     "metadata": {},
     "output_type": "execute_result"
    }
   ],
   "source": [
    "cube.coords"
   ]
  },
  {
   "cell_type": "markdown",
   "metadata": {},
   "source": [
    "# Add time coord"
   ]
  },
  {
   "cell_type": "markdown",
   "metadata": {},
   "source": [
    "## Load SST for reference"
   ]
  },
  {
   "cell_type": "code",
   "execution_count": 22,
   "metadata": {},
   "outputs": [],
   "source": [
    "noaa_path = os.getenv('NOAA_OI')\n",
    "SST = iris.load(os.path.join(noaa_path, 'sst.day.mean.1985.nc'))[0]"
   ]
  },
  {
   "cell_type": "code",
   "execution_count": 23,
   "metadata": {},
   "outputs": [
    {
     "data": {
      "text/plain": [
       "DimCoord(array([67570., 67571., 67572., 67573., 67574., 67575., 67576., 67577.,\n",
       "       67578., 67579., 67580., 67581., 67582., 67583., 67584., 67585.,\n",
       "       67586., 67587., 67588., 67589., 67590., 67591., 67592., 67593.,\n",
       "       67594., 67595., 67596., 67597., 67598., 67599., 67600., 67601.,\n",
       "       67602., 67603., 67604., 67605., 67606., 67607., 67608., 67609.,\n",
       "       67610., 67611., 67612., 67613., 67614., 67615., 67616., 67617.,\n",
       "       67618., 67619., 67620., 67621., 67622., 67623., 67624., 67625.,\n",
       "       67626., 67627., 67628., 67629., 67630., 67631., 67632., 67633.,\n",
       "       67634., 67635., 67636., 67637., 67638., 67639., 67640., 67641.,\n",
       "       67642., 67643., 67644., 67645., 67646., 67647., 67648., 67649.,\n",
       "       67650., 67651., 67652., 67653., 67654., 67655., 67656., 67657.,\n",
       "       67658., 67659., 67660., 67661., 67662., 67663., 67664., 67665.,\n",
       "       67666., 67667., 67668., 67669., 67670., 67671., 67672., 67673.,\n",
       "       67674., 67675., 67676., 67677., 67678., 67679., 67680., 67681.,\n",
       "       67682., 67683., 67684., 67685., 67686., 67687., 67688., 67689.,\n",
       "       67690., 67691., 67692., 67693., 67694., 67695., 67696., 67697.,\n",
       "       67698., 67699., 67700., 67701., 67702., 67703., 67704., 67705.,\n",
       "       67706., 67707., 67708., 67709., 67710., 67711., 67712., 67713.,\n",
       "       67714., 67715., 67716., 67717., 67718., 67719., 67720., 67721.,\n",
       "       67722., 67723., 67724., 67725., 67726., 67727., 67728., 67729.,\n",
       "       67730., 67731., 67732., 67733., 67734., 67735., 67736., 67737.,\n",
       "       67738., 67739., 67740., 67741., 67742., 67743., 67744., 67745.,\n",
       "       67746., 67747., 67748., 67749., 67750., 67751., 67752., 67753.,\n",
       "       67754., 67755., 67756., 67757., 67758., 67759., 67760., 67761.,\n",
       "       67762., 67763., 67764., 67765., 67766., 67767., 67768., 67769.,\n",
       "       67770., 67771., 67772., 67773., 67774., 67775., 67776., 67777.,\n",
       "       67778., 67779., 67780., 67781., 67782., 67783., 67784., 67785.,\n",
       "       67786., 67787., 67788., 67789., 67790., 67791., 67792., 67793.,\n",
       "       67794., 67795., 67796., 67797., 67798., 67799., 67800., 67801.,\n",
       "       67802., 67803., 67804., 67805., 67806., 67807., 67808., 67809.,\n",
       "       67810., 67811., 67812., 67813., 67814., 67815., 67816., 67817.,\n",
       "       67818., 67819., 67820., 67821., 67822., 67823., 67824., 67825.,\n",
       "       67826., 67827., 67828., 67829., 67830., 67831., 67832., 67833.,\n",
       "       67834., 67835., 67836., 67837., 67838., 67839., 67840., 67841.,\n",
       "       67842., 67843., 67844., 67845., 67846., 67847., 67848., 67849.,\n",
       "       67850., 67851., 67852., 67853., 67854., 67855., 67856., 67857.,\n",
       "       67858., 67859., 67860., 67861., 67862., 67863., 67864., 67865.,\n",
       "       67866., 67867., 67868., 67869., 67870., 67871., 67872., 67873.,\n",
       "       67874., 67875., 67876., 67877., 67878., 67879., 67880., 67881.,\n",
       "       67882., 67883., 67884., 67885., 67886., 67887., 67888., 67889.,\n",
       "       67890., 67891., 67892., 67893., 67894., 67895., 67896., 67897.,\n",
       "       67898., 67899., 67900., 67901., 67902., 67903., 67904., 67905.,\n",
       "       67906., 67907., 67908., 67909., 67910., 67911., 67912., 67913.,\n",
       "       67914., 67915., 67916., 67917., 67918., 67919., 67920., 67921.,\n",
       "       67922., 67923., 67924., 67925., 67926., 67927., 67928., 67929.,\n",
       "       67930., 67931., 67932., 67933., 67934.]), standard_name='time', units=Unit('days since 1800-01-01 00:00:00', calendar='gregorian'), long_name='Time', var_name='time', attributes={'actual_range': array([67570., 67934.]), 'avg_period': '0000-00-01 00:00:00', 'delta_t': '0000-00-01 00:00:00'})"
      ]
     },
     "execution_count": 23,
     "metadata": {},
     "output_type": "execute_result"
    }
   ],
   "source": [
    "SST.coord('time')"
   ]
  },
  {
   "cell_type": "code",
   "execution_count": 35,
   "metadata": {},
   "outputs": [
    {
     "data": {
      "text/plain": [
       "cf_units.Unit"
      ]
     },
     "execution_count": 35,
     "metadata": {},
     "output_type": "execute_result"
    }
   ],
   "source": [
    "type(SST.coord('time').units)"
   ]
  },
  {
   "cell_type": "markdown",
   "metadata": {},
   "source": [
    "## Attempt "
   ]
  },
  {
   "cell_type": "markdown",
   "metadata": {},
   "source": [
    "### Time"
   ]
  },
  {
   "cell_type": "code",
   "execution_count": 25,
   "metadata": {},
   "outputs": [],
   "source": [
    "day1 = datetime.date(1979,1,1)"
   ]
  },
  {
   "cell_type": "code",
   "execution_count": 28,
   "metadata": {},
   "outputs": [],
   "source": [
    "dates = pandas.date_range(start =day1, periods = cube.data.shape[0]).to_pydatetime().tolist()"
   ]
  },
  {
   "cell_type": "code",
   "execution_count": 55,
   "metadata": {},
   "outputs": [
    {
     "data": {
      "text/plain": [
       "datetime.datetime(2020, 6, 30, 0, 0)"
      ]
     },
     "execution_count": 55,
     "metadata": {},
     "output_type": "execute_result"
    }
   ],
   "source": [
    "dates[-1]"
   ]
  },
  {
   "cell_type": "code",
   "execution_count": 37,
   "metadata": {},
   "outputs": [],
   "source": [
    "toords = [idate.toordinal() for idate in dates]"
   ]
  },
  {
   "cell_type": "code",
   "execution_count": 45,
   "metadata": {},
   "outputs": [],
   "source": [
    "tunit = cf_units.Unit('days since 1-1-1', calendar='gregorian')"
   ]
  },
  {
   "cell_type": "code",
   "execution_count": 48,
   "metadata": {},
   "outputs": [],
   "source": [
    "time_coord = iris.coords.DimCoord(toords, standard_name='time', units=tunit)"
   ]
  },
  {
   "cell_type": "code",
   "execution_count": 49,
   "metadata": {},
   "outputs": [
    {
     "data": {
      "text/plain": [
       "DimCoord(array([722450, 722451, 722452, ..., 737604, 737605, 737606]), standard_name='time', units=Unit('days since 1-1-1', calendar='gregorian'))"
      ]
     },
     "execution_count": 49,
     "metadata": {},
     "output_type": "execute_result"
    }
   ],
   "source": [
    "time_coord"
   ]
  },
  {
   "cell_type": "markdown",
   "metadata": {},
   "source": [
    "### Cube"
   ]
  },
  {
   "cell_type": "code",
   "execution_count": 50,
   "metadata": {},
   "outputs": [],
   "source": [
    "new_cube = iris.cube.Cube(cube.data, units='m', var_name='Z500',\n",
    "                                             dim_coords_and_dims=[(time_coord, 0),\n",
    "                                                                  (cube.coord('latitude'), 1),\n",
    "                                                                  (cube.coord('longitude'), 2)])\n",
    " "
   ]
  },
  {
   "cell_type": "code",
   "execution_count": 51,
   "metadata": {},
   "outputs": [
    {
     "data": {
      "text/html": [
       "\n",
       "<style>\n",
       "  a.iris {\n",
       "      text-decoration: none !important;\n",
       "  }\n",
       "  table.iris {\n",
       "      white-space: pre;\n",
       "      border: 1px solid;\n",
       "      border-color: #9c9c9c;\n",
       "      font-family: monaco, monospace;\n",
       "  }\n",
       "  th.iris {\n",
       "      background: #303f3f;\n",
       "      color: #e0e0e0;\n",
       "      border-left: 1px solid;\n",
       "      border-color: #9c9c9c;\n",
       "      font-size: 1.05em;\n",
       "      min-width: 50px;\n",
       "      max-width: 125px;\n",
       "  }\n",
       "  tr.iris :first-child {\n",
       "      border-right: 1px solid #9c9c9c !important;\n",
       "  }\n",
       "  td.iris-title {\n",
       "      background: #d5dcdf;\n",
       "      border-top: 1px solid #9c9c9c;\n",
       "      font-weight: bold;\n",
       "  }\n",
       "  .iris-word-cell {\n",
       "      text-align: left !important;\n",
       "      white-space: pre;\n",
       "  }\n",
       "  .iris-subheading-cell {\n",
       "      padding-left: 2em !important;\n",
       "  }\n",
       "  .iris-inclusion-cell {\n",
       "      padding-right: 1em !important;\n",
       "  }\n",
       "  .iris-panel-body {\n",
       "      padding-top: 0px;\n",
       "  }\n",
       "  .iris-panel-title {\n",
       "      padding-left: 3em;\n",
       "  }\n",
       "  .iris-panel-title {\n",
       "      margin-top: 7px;\n",
       "  }\n",
       "</style>\n",
       "<table class=\"iris\" id=\"139649704698640\">\n",
       "    <tr class=\"iris\">\n",
       "<th class=\"iris iris-word-cell\">Z500 (m)</th>\n",
       "<th class=\"iris iris-word-cell\">time</th>\n",
       "<th class=\"iris iris-word-cell\">latitude</th>\n",
       "<th class=\"iris iris-word-cell\">longitude</th>\n",
       "</tr>\n",
       "    <tr class=\"iris\">\n",
       "<td class=\"iris-word-cell iris-subheading-cell\">Shape</td>\n",
       "<td class=\"iris iris-inclusion-cell\">15157</td>\n",
       "<td class=\"iris iris-inclusion-cell\">73</td>\n",
       "<td class=\"iris iris-inclusion-cell\">144</td>\n",
       "</tr>\n",
       "    <tr class=\"iris\">\n",
       "    <td class=\"iris-title iris-word-cell\">Dimension coordinates</td>\n",
       "    <td class=\"iris-title\"></td>\n",
       "    <td class=\"iris-title\"></td>\n",
       "    <td class=\"iris-title\"></td>\n",
       "</tr>\n",
       "<tr class=\"iris\">\n",
       "    <td class=\"iris-word-cell iris-subheading-cell\">\ttime</td>\n",
       "    <td class=\"iris-inclusion-cell\">x</td>\n",
       "    <td class=\"iris-inclusion-cell\">-</td>\n",
       "    <td class=\"iris-inclusion-cell\">-</td>\n",
       "</tr>\n",
       "<tr class=\"iris\">\n",
       "    <td class=\"iris-word-cell iris-subheading-cell\">\tlatitude</td>\n",
       "    <td class=\"iris-inclusion-cell\">-</td>\n",
       "    <td class=\"iris-inclusion-cell\">x</td>\n",
       "    <td class=\"iris-inclusion-cell\">-</td>\n",
       "</tr>\n",
       "<tr class=\"iris\">\n",
       "    <td class=\"iris-word-cell iris-subheading-cell\">\tlongitude</td>\n",
       "    <td class=\"iris-inclusion-cell\">-</td>\n",
       "    <td class=\"iris-inclusion-cell\">-</td>\n",
       "    <td class=\"iris-inclusion-cell\">x</td>\n",
       "</tr>\n",
       "</table>\n",
       "        "
      ],
      "text/plain": [
       "<iris 'Cube' of Z500 / (m) (time: 15157; latitude: 73; longitude: 144)>"
      ]
     },
     "execution_count": 51,
     "metadata": {},
     "output_type": "execute_result"
    }
   ],
   "source": [
    "new_cube"
   ]
  },
  {
   "cell_type": "markdown",
   "metadata": {},
   "source": [
    "### Grab a day"
   ]
  },
  {
   "cell_type": "code",
   "execution_count": 52,
   "metadata": {},
   "outputs": [],
   "source": [
    "# Day\n",
    "constraint = iris.Constraint(time=iris.time.PartialDateTime(\n",
    "    day=1, year=2012, month=1))\n",
    "dmy_cube = new_cube.extract(constraint)"
   ]
  },
  {
   "cell_type": "code",
   "execution_count": 53,
   "metadata": {},
   "outputs": [
    {
     "data": {
      "text/html": [
       "\n",
       "<style>\n",
       "  a.iris {\n",
       "      text-decoration: none !important;\n",
       "  }\n",
       "  table.iris {\n",
       "      white-space: pre;\n",
       "      border: 1px solid;\n",
       "      border-color: #9c9c9c;\n",
       "      font-family: monaco, monospace;\n",
       "  }\n",
       "  th.iris {\n",
       "      background: #303f3f;\n",
       "      color: #e0e0e0;\n",
       "      border-left: 1px solid;\n",
       "      border-color: #9c9c9c;\n",
       "      font-size: 1.05em;\n",
       "      min-width: 50px;\n",
       "      max-width: 125px;\n",
       "  }\n",
       "  tr.iris :first-child {\n",
       "      border-right: 1px solid #9c9c9c !important;\n",
       "  }\n",
       "  td.iris-title {\n",
       "      background: #d5dcdf;\n",
       "      border-top: 1px solid #9c9c9c;\n",
       "      font-weight: bold;\n",
       "  }\n",
       "  .iris-word-cell {\n",
       "      text-align: left !important;\n",
       "      white-space: pre;\n",
       "  }\n",
       "  .iris-subheading-cell {\n",
       "      padding-left: 2em !important;\n",
       "  }\n",
       "  .iris-inclusion-cell {\n",
       "      padding-right: 1em !important;\n",
       "  }\n",
       "  .iris-panel-body {\n",
       "      padding-top: 0px;\n",
       "  }\n",
       "  .iris-panel-title {\n",
       "      padding-left: 3em;\n",
       "  }\n",
       "  .iris-panel-title {\n",
       "      margin-top: 7px;\n",
       "  }\n",
       "</style>\n",
       "<table class=\"iris\" id=\"139651103375440\">\n",
       "    <tr class=\"iris\">\n",
       "<th class=\"iris iris-word-cell\">Z500 (m)</th>\n",
       "<th class=\"iris iris-word-cell\">latitude</th>\n",
       "<th class=\"iris iris-word-cell\">longitude</th>\n",
       "</tr>\n",
       "    <tr class=\"iris\">\n",
       "<td class=\"iris-word-cell iris-subheading-cell\">Shape</td>\n",
       "<td class=\"iris iris-inclusion-cell\">73</td>\n",
       "<td class=\"iris iris-inclusion-cell\">144</td>\n",
       "</tr>\n",
       "    <tr class=\"iris\">\n",
       "    <td class=\"iris-title iris-word-cell\">Dimension coordinates</td>\n",
       "    <td class=\"iris-title\"></td>\n",
       "    <td class=\"iris-title\"></td>\n",
       "</tr>\n",
       "<tr class=\"iris\">\n",
       "    <td class=\"iris-word-cell iris-subheading-cell\">\tlatitude</td>\n",
       "    <td class=\"iris-inclusion-cell\">x</td>\n",
       "    <td class=\"iris-inclusion-cell\">-</td>\n",
       "</tr>\n",
       "<tr class=\"iris\">\n",
       "    <td class=\"iris-word-cell iris-subheading-cell\">\tlongitude</td>\n",
       "    <td class=\"iris-inclusion-cell\">-</td>\n",
       "    <td class=\"iris-inclusion-cell\">x</td>\n",
       "</tr>\n",
       "<tr class=\"iris\">\n",
       "    <td class=\"iris-title iris-word-cell\">Scalar coordinates</td>\n",
       "    <td class=\"iris-title\"></td>\n",
       "    <td class=\"iris-title\"></td>\n",
       "</tr>\n",
       "<tr class=\"iris\">\n",
       "    <td class=\"iris-word-cell iris-subheading-cell\">\ttime</td>\n",
       "    <td class=\"iris-word-cell\" colspan=\"2\">2012-01-01 00:00:00</td>\n",
       "</tr>\n",
       "</table>\n",
       "        "
      ],
      "text/plain": [
       "<iris 'Cube' of Z500 / (m) (latitude: 73; longitude: 144)>"
      ]
     },
     "execution_count": 53,
     "metadata": {},
     "output_type": "execute_result"
    }
   ],
   "source": [
    "dmy_cube"
   ]
  },
  {
   "cell_type": "markdown",
   "metadata": {},
   "source": [
    "## Write"
   ]
  },
  {
   "cell_type": "code",
   "execution_count": 54,
   "metadata": {},
   "outputs": [],
   "source": [
    "iris.save(new_cube, 'NCEP-DOE_Z500.nc', zlib=True)"
   ]
  },
  {
   "cell_type": "code",
   "execution_count": null,
   "metadata": {},
   "outputs": [],
   "source": []
  }
 ],
 "metadata": {
  "kernelspec": {
   "display_name": "Python 3",
   "language": "python",
   "name": "python3"
  },
  "language_info": {
   "codemirror_mode": {
    "name": "ipython",
    "version": 3
   },
   "file_extension": ".py",
   "mimetype": "text/x-python",
   "name": "python",
   "nbconvert_exporter": "python",
   "pygments_lexer": "ipython3",
   "version": "3.7.6"
  }
 },
 "nbformat": 4,
 "nbformat_minor": 4
}
