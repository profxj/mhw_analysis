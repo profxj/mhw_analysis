{
 "cells": [
  {
   "cell_type": "markdown",
   "metadata": {},
   "source": [
    "# Pandas"
   ]
  },
  {
   "cell_type": "code",
   "execution_count": 1,
   "metadata": {},
   "outputs": [],
   "source": [
    "# imports\n",
    "import numpy as np\n",
    "import os\n",
    "from matplotlib import pyplot as plt\n",
    "\n",
    "import pandas\n",
    "import sqlalchemy"
   ]
  },
  {
   "cell_type": "markdown",
   "metadata": {},
   "source": [
    "# Load"
   ]
  },
  {
   "cell_type": "code",
   "execution_count": 2,
   "metadata": {},
   "outputs": [],
   "source": [
    "mhw_file = '/home/xavier/Projects/Oceanography/MHWs/db/mhws_allsky_defaults.db'"
   ]
  },
  {
   "cell_type": "code",
   "execution_count": 3,
   "metadata": {},
   "outputs": [],
   "source": [
    "engine = sqlalchemy.create_engine('sqlite:///'+mhw_file)"
   ]
  },
  {
   "cell_type": "code",
   "execution_count": 4,
   "metadata": {},
   "outputs": [
    {
     "data": {
      "text/plain": [
       "<sqlalchemy.engine.base.Connection at 0x7f9bb5fccc50>"
      ]
     },
     "execution_count": 4,
     "metadata": {},
     "output_type": "execute_result"
    }
   ],
   "source": [
    "connection = engine.connect()\n",
    "connection"
   ]
  },
  {
   "cell_type": "code",
   "execution_count": 5,
   "metadata": {},
   "outputs": [],
   "source": [
    "pd_tbl = pandas.read_sql_table('MHW_Events', con=engine, columns=['lon', 'lat', 'duration', 'intensity_max'])"
   ]
  },
  {
   "cell_type": "code",
   "execution_count": 6,
   "metadata": {},
   "outputs": [
    {
     "data": {
      "text/html": [
       "<div>\n",
       "<style scoped>\n",
       "    .dataframe tbody tr th:only-of-type {\n",
       "        vertical-align: middle;\n",
       "    }\n",
       "\n",
       "    .dataframe tbody tr th {\n",
       "        vertical-align: top;\n",
       "    }\n",
       "\n",
       "    .dataframe thead th {\n",
       "        text-align: right;\n",
       "    }\n",
       "</style>\n",
       "<table border=\"1\" class=\"dataframe\">\n",
       "  <thead>\n",
       "    <tr style=\"text-align: right;\">\n",
       "      <th></th>\n",
       "      <th>lon</th>\n",
       "      <th>lat</th>\n",
       "      <th>duration</th>\n",
       "      <th>intensity_max</th>\n",
       "    </tr>\n",
       "  </thead>\n",
       "  <tbody>\n",
       "    <tr>\n",
       "      <th>0</th>\n",
       "      <td>0.125</td>\n",
       "      <td>-65.125</td>\n",
       "      <td>13</td>\n",
       "      <td>0.917701</td>\n",
       "    </tr>\n",
       "    <tr>\n",
       "      <th>1</th>\n",
       "      <td>0.125</td>\n",
       "      <td>-65.125</td>\n",
       "      <td>33</td>\n",
       "      <td>0.869160</td>\n",
       "    </tr>\n",
       "    <tr>\n",
       "      <th>2</th>\n",
       "      <td>0.125</td>\n",
       "      <td>-65.125</td>\n",
       "      <td>10</td>\n",
       "      <td>0.387140</td>\n",
       "    </tr>\n",
       "    <tr>\n",
       "      <th>3</th>\n",
       "      <td>0.125</td>\n",
       "      <td>-65.125</td>\n",
       "      <td>9</td>\n",
       "      <td>0.364273</td>\n",
       "    </tr>\n",
       "    <tr>\n",
       "      <th>4</th>\n",
       "      <td>0.125</td>\n",
       "      <td>-65.125</td>\n",
       "      <td>52</td>\n",
       "      <td>0.550420</td>\n",
       "    </tr>\n",
       "    <tr>\n",
       "      <th>...</th>\n",
       "      <td>...</td>\n",
       "      <td>...</td>\n",
       "      <td>...</td>\n",
       "      <td>...</td>\n",
       "    </tr>\n",
       "    <tr>\n",
       "      <th>283678</th>\n",
       "      <td>86.125</td>\n",
       "      <td>77.375</td>\n",
       "      <td>21</td>\n",
       "      <td>5.514253</td>\n",
       "    </tr>\n",
       "    <tr>\n",
       "      <th>283679</th>\n",
       "      <td>86.125</td>\n",
       "      <td>77.375</td>\n",
       "      <td>8</td>\n",
       "      <td>4.596664</td>\n",
       "    </tr>\n",
       "    <tr>\n",
       "      <th>283680</th>\n",
       "      <td>86.125</td>\n",
       "      <td>77.375</td>\n",
       "      <td>182</td>\n",
       "      <td>4.283445</td>\n",
       "    </tr>\n",
       "    <tr>\n",
       "      <th>283681</th>\n",
       "      <td>86.125</td>\n",
       "      <td>77.375</td>\n",
       "      <td>43</td>\n",
       "      <td>7.044448</td>\n",
       "    </tr>\n",
       "    <tr>\n",
       "      <th>283682</th>\n",
       "      <td>86.125</td>\n",
       "      <td>77.375</td>\n",
       "      <td>68</td>\n",
       "      <td>0.984583</td>\n",
       "    </tr>\n",
       "  </tbody>\n",
       "</table>\n",
       "<p>283683 rows × 4 columns</p>\n",
       "</div>"
      ],
      "text/plain": [
       "           lon     lat  duration  intensity_max\n",
       "0        0.125 -65.125        13       0.917701\n",
       "1        0.125 -65.125        33       0.869160\n",
       "2        0.125 -65.125        10       0.387140\n",
       "3        0.125 -65.125         9       0.364273\n",
       "4        0.125 -65.125        52       0.550420\n",
       "...        ...     ...       ...            ...\n",
       "283678  86.125  77.375        21       5.514253\n",
       "283679  86.125  77.375         8       4.596664\n",
       "283680  86.125  77.375       182       4.283445\n",
       "283681  86.125  77.375        43       7.044448\n",
       "283682  86.125  77.375        68       0.984583\n",
       "\n",
       "[283683 rows x 4 columns]"
      ]
     },
     "execution_count": 6,
     "metadata": {},
     "output_type": "execute_result"
    }
   ],
   "source": [
    "pd_tbl"
   ]
  },
  {
   "cell_type": "markdown",
   "metadata": {},
   "source": [
    "# Multi"
   ]
  },
  {
   "cell_type": "markdown",
   "metadata": {},
   "source": [
    "## lon_lat index"
   ]
  },
  {
   "cell_type": "code",
   "execution_count": 21,
   "metadata": {},
   "outputs": [],
   "source": [
    "sidx = []\n",
    "eidx = []\n",
    "counter = 0\n",
    "for kk, lon,lat in zip(range(len(pd_tbl)), pd_tbl['lon'], pd_tbl['lat']):\n",
    "    newc = '{:0.3f}_{:0.3f}'.format(lon, lat)\n",
    "    if kk > 0 and newc != sidx[-1]:\n",
    "        counter = 0\n",
    "    elif kk>0:\n",
    "        counter += 1\n",
    "    sidx.append(newc)\n",
    "    eidx.append(counter)"
   ]
  },
  {
   "cell_type": "code",
   "execution_count": 22,
   "metadata": {},
   "outputs": [
    {
     "data": {
      "text/plain": [
       "(['0.125_-65.125',\n",
       "  '0.125_-65.125',\n",
       "  '0.125_-65.125',\n",
       "  '0.125_-65.125',\n",
       "  '0.125_-65.125'],\n",
       " [0, 1, 2, 3, 4])"
      ]
     },
     "execution_count": 22,
     "metadata": {},
     "output_type": "execute_result"
    }
   ],
   "source": [
    "sidx[0:5], eidx[0:5]"
   ]
  },
  {
   "cell_type": "code",
   "execution_count": 14,
   "metadata": {},
   "outputs": [],
   "source": [
    "pd_tbl['lon-lat'] = sidx"
   ]
  },
  {
   "cell_type": "code",
   "execution_count": 23,
   "metadata": {},
   "outputs": [],
   "source": [
    "pd_tbl['eidx'] = eidx"
   ]
  },
  {
   "cell_type": "code",
   "execution_count": 24,
   "metadata": {},
   "outputs": [
    {
     "data": {
      "text/html": [
       "<div>\n",
       "<style scoped>\n",
       "    .dataframe tbody tr th:only-of-type {\n",
       "        vertical-align: middle;\n",
       "    }\n",
       "\n",
       "    .dataframe tbody tr th {\n",
       "        vertical-align: top;\n",
       "    }\n",
       "\n",
       "    .dataframe thead th {\n",
       "        text-align: right;\n",
       "    }\n",
       "</style>\n",
       "<table border=\"1\" class=\"dataframe\">\n",
       "  <thead>\n",
       "    <tr style=\"text-align: right;\">\n",
       "      <th></th>\n",
       "      <th>lon</th>\n",
       "      <th>lat</th>\n",
       "      <th>duration</th>\n",
       "      <th>intensity_max</th>\n",
       "      <th>lon-lat</th>\n",
       "      <th>eidx</th>\n",
       "    </tr>\n",
       "  </thead>\n",
       "  <tbody>\n",
       "    <tr>\n",
       "      <th>0</th>\n",
       "      <td>0.125</td>\n",
       "      <td>-65.125</td>\n",
       "      <td>13</td>\n",
       "      <td>0.917701</td>\n",
       "      <td>0.125_-65.125</td>\n",
       "      <td>0</td>\n",
       "    </tr>\n",
       "    <tr>\n",
       "      <th>1</th>\n",
       "      <td>0.125</td>\n",
       "      <td>-65.125</td>\n",
       "      <td>33</td>\n",
       "      <td>0.869160</td>\n",
       "      <td>0.125_-65.125</td>\n",
       "      <td>1</td>\n",
       "    </tr>\n",
       "    <tr>\n",
       "      <th>2</th>\n",
       "      <td>0.125</td>\n",
       "      <td>-65.125</td>\n",
       "      <td>10</td>\n",
       "      <td>0.387140</td>\n",
       "      <td>0.125_-65.125</td>\n",
       "      <td>2</td>\n",
       "    </tr>\n",
       "    <tr>\n",
       "      <th>3</th>\n",
       "      <td>0.125</td>\n",
       "      <td>-65.125</td>\n",
       "      <td>9</td>\n",
       "      <td>0.364273</td>\n",
       "      <td>0.125_-65.125</td>\n",
       "      <td>3</td>\n",
       "    </tr>\n",
       "    <tr>\n",
       "      <th>4</th>\n",
       "      <td>0.125</td>\n",
       "      <td>-65.125</td>\n",
       "      <td>52</td>\n",
       "      <td>0.550420</td>\n",
       "      <td>0.125_-65.125</td>\n",
       "      <td>4</td>\n",
       "    </tr>\n",
       "    <tr>\n",
       "      <th>...</th>\n",
       "      <td>...</td>\n",
       "      <td>...</td>\n",
       "      <td>...</td>\n",
       "      <td>...</td>\n",
       "      <td>...</td>\n",
       "      <td>...</td>\n",
       "    </tr>\n",
       "    <tr>\n",
       "      <th>283678</th>\n",
       "      <td>86.125</td>\n",
       "      <td>77.375</td>\n",
       "      <td>21</td>\n",
       "      <td>5.514253</td>\n",
       "      <td>86.125_77.375</td>\n",
       "      <td>59</td>\n",
       "    </tr>\n",
       "    <tr>\n",
       "      <th>283679</th>\n",
       "      <td>86.125</td>\n",
       "      <td>77.375</td>\n",
       "      <td>8</td>\n",
       "      <td>4.596664</td>\n",
       "      <td>86.125_77.375</td>\n",
       "      <td>60</td>\n",
       "    </tr>\n",
       "    <tr>\n",
       "      <th>283680</th>\n",
       "      <td>86.125</td>\n",
       "      <td>77.375</td>\n",
       "      <td>182</td>\n",
       "      <td>4.283445</td>\n",
       "      <td>86.125_77.375</td>\n",
       "      <td>61</td>\n",
       "    </tr>\n",
       "    <tr>\n",
       "      <th>283681</th>\n",
       "      <td>86.125</td>\n",
       "      <td>77.375</td>\n",
       "      <td>43</td>\n",
       "      <td>7.044448</td>\n",
       "      <td>86.125_77.375</td>\n",
       "      <td>62</td>\n",
       "    </tr>\n",
       "    <tr>\n",
       "      <th>283682</th>\n",
       "      <td>86.125</td>\n",
       "      <td>77.375</td>\n",
       "      <td>68</td>\n",
       "      <td>0.984583</td>\n",
       "      <td>86.125_77.375</td>\n",
       "      <td>63</td>\n",
       "    </tr>\n",
       "  </tbody>\n",
       "</table>\n",
       "<p>283683 rows × 6 columns</p>\n",
       "</div>"
      ],
      "text/plain": [
       "           lon     lat  duration  intensity_max        lon-lat  eidx\n",
       "0        0.125 -65.125        13       0.917701  0.125_-65.125     0\n",
       "1        0.125 -65.125        33       0.869160  0.125_-65.125     1\n",
       "2        0.125 -65.125        10       0.387140  0.125_-65.125     2\n",
       "3        0.125 -65.125         9       0.364273  0.125_-65.125     3\n",
       "4        0.125 -65.125        52       0.550420  0.125_-65.125     4\n",
       "...        ...     ...       ...            ...            ...   ...\n",
       "283678  86.125  77.375        21       5.514253  86.125_77.375    59\n",
       "283679  86.125  77.375         8       4.596664  86.125_77.375    60\n",
       "283680  86.125  77.375       182       4.283445  86.125_77.375    61\n",
       "283681  86.125  77.375        43       7.044448  86.125_77.375    62\n",
       "283682  86.125  77.375        68       0.984583  86.125_77.375    63\n",
       "\n",
       "[283683 rows x 6 columns]"
      ]
     },
     "execution_count": 24,
     "metadata": {},
     "output_type": "execute_result"
    }
   ],
   "source": [
    "pd_tbl"
   ]
  },
  {
   "cell_type": "markdown",
   "metadata": {},
   "source": [
    "## Use it"
   ]
  },
  {
   "cell_type": "code",
   "execution_count": 30,
   "metadata": {},
   "outputs": [],
   "source": [
    "multi_tbl = pd_tbl.set_index(['lon-lat', 'eidx'])"
   ]
  },
  {
   "cell_type": "code",
   "execution_count": 32,
   "metadata": {},
   "outputs": [
    {
     "data": {
      "text/html": [
       "<div>\n",
       "<style scoped>\n",
       "    .dataframe tbody tr th:only-of-type {\n",
       "        vertical-align: middle;\n",
       "    }\n",
       "\n",
       "    .dataframe tbody tr th {\n",
       "        vertical-align: top;\n",
       "    }\n",
       "\n",
       "    .dataframe thead th {\n",
       "        text-align: right;\n",
       "    }\n",
       "</style>\n",
       "<table border=\"1\" class=\"dataframe\">\n",
       "  <thead>\n",
       "    <tr style=\"text-align: right;\">\n",
       "      <th></th>\n",
       "      <th></th>\n",
       "      <th>lon</th>\n",
       "      <th>lat</th>\n",
       "      <th>duration</th>\n",
       "      <th>intensity_max</th>\n",
       "    </tr>\n",
       "    <tr>\n",
       "      <th>lon-lat</th>\n",
       "      <th>eidx</th>\n",
       "      <th></th>\n",
       "      <th></th>\n",
       "      <th></th>\n",
       "      <th></th>\n",
       "    </tr>\n",
       "  </thead>\n",
       "  <tbody>\n",
       "    <tr>\n",
       "      <th>86.125_27.375</th>\n",
       "      <th>84</th>\n",
       "      <td>86.125</td>\n",
       "      <td>27.375</td>\n",
       "      <td>10</td>\n",
       "      <td>1.426639</td>\n",
       "    </tr>\n",
       "    <tr>\n",
       "      <th rowspan=\"10\" valign=\"top\">86.125_77.375</th>\n",
       "      <th>0</th>\n",
       "      <td>86.125</td>\n",
       "      <td>77.375</td>\n",
       "      <td>21</td>\n",
       "      <td>5.902194</td>\n",
       "    </tr>\n",
       "    <tr>\n",
       "      <th>1</th>\n",
       "      <td>86.125</td>\n",
       "      <td>77.375</td>\n",
       "      <td>6</td>\n",
       "      <td>4.069810</td>\n",
       "    </tr>\n",
       "    <tr>\n",
       "      <th>2</th>\n",
       "      <td>86.125</td>\n",
       "      <td>77.375</td>\n",
       "      <td>12</td>\n",
       "      <td>4.589748</td>\n",
       "    </tr>\n",
       "    <tr>\n",
       "      <th>3</th>\n",
       "      <td>86.125</td>\n",
       "      <td>77.375</td>\n",
       "      <td>7</td>\n",
       "      <td>2.964003</td>\n",
       "    </tr>\n",
       "    <tr>\n",
       "      <th>...</th>\n",
       "      <td>...</td>\n",
       "      <td>...</td>\n",
       "      <td>...</td>\n",
       "      <td>...</td>\n",
       "    </tr>\n",
       "    <tr>\n",
       "      <th>59</th>\n",
       "      <td>86.125</td>\n",
       "      <td>77.375</td>\n",
       "      <td>21</td>\n",
       "      <td>5.514253</td>\n",
       "    </tr>\n",
       "    <tr>\n",
       "      <th>60</th>\n",
       "      <td>86.125</td>\n",
       "      <td>77.375</td>\n",
       "      <td>8</td>\n",
       "      <td>4.596664</td>\n",
       "    </tr>\n",
       "    <tr>\n",
       "      <th>61</th>\n",
       "      <td>86.125</td>\n",
       "      <td>77.375</td>\n",
       "      <td>182</td>\n",
       "      <td>4.283445</td>\n",
       "    </tr>\n",
       "    <tr>\n",
       "      <th>62</th>\n",
       "      <td>86.125</td>\n",
       "      <td>77.375</td>\n",
       "      <td>43</td>\n",
       "      <td>7.044448</td>\n",
       "    </tr>\n",
       "    <tr>\n",
       "      <th>63</th>\n",
       "      <td>86.125</td>\n",
       "      <td>77.375</td>\n",
       "      <td>68</td>\n",
       "      <td>0.984583</td>\n",
       "    </tr>\n",
       "  </tbody>\n",
       "</table>\n",
       "<p>65 rows × 4 columns</p>\n",
       "</div>"
      ],
      "text/plain": [
       "                       lon     lat  duration  intensity_max\n",
       "lon-lat       eidx                                         \n",
       "86.125_27.375 84    86.125  27.375        10       1.426639\n",
       "86.125_77.375 0     86.125  77.375        21       5.902194\n",
       "              1     86.125  77.375         6       4.069810\n",
       "              2     86.125  77.375        12       4.589748\n",
       "              3     86.125  77.375         7       2.964003\n",
       "...                    ...     ...       ...            ...\n",
       "              59    86.125  77.375        21       5.514253\n",
       "              60    86.125  77.375         8       4.596664\n",
       "              61    86.125  77.375       182       4.283445\n",
       "              62    86.125  77.375        43       7.044448\n",
       "              63    86.125  77.375        68       0.984583\n",
       "\n",
       "[65 rows x 4 columns]"
      ]
     },
     "execution_count": 32,
     "metadata": {},
     "output_type": "execute_result"
    }
   ],
   "source": [
    "multi_tbl[-65:]"
   ]
  },
  {
   "cell_type": "code",
   "execution_count": null,
   "metadata": {},
   "outputs": [],
   "source": []
  }
 ],
 "metadata": {
  "kernelspec": {
   "display_name": "Python 3",
   "language": "python",
   "name": "python3"
  },
  "language_info": {
   "codemirror_mode": {
    "name": "ipython",
    "version": 3
   },
   "file_extension": ".py",
   "mimetype": "text/x-python",
   "name": "python",
   "nbconvert_exporter": "python",
   "pygments_lexer": "ipython3",
   "version": "3.7.6"
  }
 },
 "nbformat": 4,
 "nbformat_minor": 4
}
